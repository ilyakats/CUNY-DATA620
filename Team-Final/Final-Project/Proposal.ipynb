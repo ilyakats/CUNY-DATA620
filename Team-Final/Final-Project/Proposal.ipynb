{
 "cells": [
  {
   "cell_type": "markdown",
   "metadata": {},
   "source": [
    "## CUNY 620 Final Project Proposal\n",
    "\n",
    "#### Team 2: Pavan Akula, Nathan (Seoungyoon) Lim, Christophe Hunt, Joel Park, Ilya Kats"
   ]
  },
  {
   "cell_type": "markdown",
   "metadata": {},
   "source": [
    "### Objective\n",
    "\n",
    "In our final project we would like to evaluate if sentiment influences features of a social network. This will allow us to utilize both areas covered by the class - text processing and network analysis - and may yield interesting findings.\n",
    "\n",
    "For this project we will be looking at discussions featured on Reddit (http://www.reddit.com). Reddit is a social aggregation and discussion website. As of 2017, Reddit had 542 million monthly visitors, ranking #4 most visited website in U.S. and #9 in the world. It allows user to share content with ability to have other users comment on it. We will evaluate social network of Reddit commenters (also known as redditors) and sentiment of comments themselves.\n",
    "\n",
    "#### Network Graph\n",
    "\n",
    "We will treat each user as a **node**. Response to a comment from one user by another user will create an **edge** between two users. Since responding to a comment establishes a line of communication between two users, we will treat each edge as **undirected**. Finally, the **weight** of each edge will be the number of comments/replies between two users.\n",
    "\n",
    "#### Sentiment Analysis\n",
    "\n",
    "Each comment will be evaluated using sentiment analysis and assigned a sentiment score. The average of all scores for all comments by a user will be added to a node. \n",
    "\n",
    "#### Analysis\n",
    "\n",
    "We will consider several network features. The one most relevant may be **degree centrality**, which will highlight the most active/popular users - users who interact with a lot of other users, and **betweenness centrality**, which will highlight users who bridge various discussion topics.\n",
    "\n",
    "We plan to compare node centrality with sentiment score and see if there is a correlation between the two. We would like to establish if **sentiment of posted comments, whether negative or positive, has some significant effect on position of users within the network**.\n",
    "\n",
    "### Data Sources\n",
    "\n",
    "- All publically available Reddit comments as of mid-2015 have been released for analysis: https://www.reddit.com/r/datasets/comments/3bxlg7/i_have_every_publicly_available_reddit_comment/\n",
    "\n",
    "- A smaller subset of somments from May 2015 has been posted on Kaggle: https://www.kaggle.com/reddit/reddit-comments-may-2015\n",
    "\n",
    "- There is also a Reddit API available to access the data: https://www.reddit.com/dev/api/\n",
    "\n",
    "Because of time constraints we are currently considering the subset posted on Kaggle for this project. \n",
    "\n",
    "We are discussing several possible approaches to select data for analysis:\n",
    "\n",
    "- We can concentrate on a single subreddit (a Reddit forum dedicated to some specific topic).\n",
    "\n",
    "- We can concentrate on a single popular post. Reddit posts routinely generate thousands of comments.\n",
    "\n",
    "Our goal in selecting the data is to pick a sample representative of the Reddit community with a potential for a good mix of negative and positive comments. \n",
    "\n",
    "### Concerns\n",
    "\n",
    "There are some areas of concern.\n",
    "\n",
    "1. The data sample we choose may not be representative of the Reddit community. In fact, Reddit community may not necessarily be representative of other social networks or human interaction. Therefore, it is possible that our results will not be applicable to the general online community.\n",
    "\n",
    "2. There may be other features of an online forum community that we are not considering and that may overpower or influence sentiment score. For example, community may include users with established rank within it. Through previous experiences, comments by these users may generate an established response (perhaps, a user is a troll with all responses having a negative sentiment score). This may make it difficult to confidently interpret our results.\n",
    "\n",
    "3. It may be challenging to analyze sentiment of internet forum comments which may not do well with traditional analysis. Detecting sarcastic sentiment, which may be common in this type of interaction, is outside of the scope of this project.\n",
    "\n",
    "4. In addition to posting comments, Reddit users have an ability to upvote or downvote a post or a comment. This project does not account for upvotes/downvotes, but since they represent interaction between users, they may carry important information to user's position within the community.\n",
    "\n",
    "![Reddit](https://assets.ifttt.com/images/channels/1352860597/icons/on_color_medium.png)\n",
    "![](http://i.imgur.com/1vMrHG2.jpg)"
   ]
  },
  {
   "cell_type": "markdown",
   "metadata": {},
   "source": []
  }
 ],
 "metadata": {
  "kernelspec": {
   "display_name": "Python 2",
   "language": "python",
   "name": "python2"
  },
  "language_info": {
   "codemirror_mode": {
    "name": "ipython",
    "version": 2
   },
   "file_extension": ".py",
   "mimetype": "text/x-python",
   "name": "python",
   "nbconvert_exporter": "python",
   "pygments_lexer": "ipython2",
   "version": "2.7.13"
  }
 },
 "nbformat": 4,
 "nbformat_minor": 2
}
