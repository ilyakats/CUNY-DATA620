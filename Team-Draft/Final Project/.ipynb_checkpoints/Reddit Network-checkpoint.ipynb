{
 "cells": [
  {
   "cell_type": "code",
   "execution_count": 1,
   "metadata": {
    "collapsed": true
   },
   "outputs": [],
   "source": [
    "# Load libraries\n",
    "import pandas as pd\n",
    "import pymysql\n",
    "import matplotlib.pyplot as plt\n",
    "import networkx as nx\n",
    "import operator"
   ]
  },
  {
   "cell_type": "code",
   "execution_count": 2,
   "metadata": {
    "collapsed": true
   },
   "outputs": [],
   "source": [
    "# Define function that would create a sorted list, from highest to lowest\n",
    "# This function was taken from page 47 from \"Social Network Analysis for Startups\".\n",
    "\n",
    "def sorted_map(map):\n",
    "    ms = sorted(map.iteritems(), key=lambda (k,v): (-v,k)) \n",
    "    return ms"
   ]
  },
  {
   "cell_type": "code",
   "execution_count": 3,
   "metadata": {
    "collapsed": true
   },
   "outputs": [],
   "source": [
    "# Retrieve data from the database\n",
    "sql_con = pymysql.connect(host='104.196.212.179', port=3306, \n",
    "                          user='root', passwd='data620pw',\n",
    "                          db='reddit')\n",
    "\n",
    "reddit = pd.read_sql('SELECT DISTINCT author, responder, COUNT(1) as weight FROM comments '\n",
    "                     'GROUP BY author, responder '\n",
    "                     'HAVING author<>\"[deleted]\" AND responder<>\"[deleted]\";', con=sql_con)\n",
    "\n",
    "# Import users with centrality measures previously calculated\n",
    "# Just so we don't have to wait for them every time\n",
    "users = pd.read_sql('SELECT username, betweenness, degree FROM users', con=sql_con)\n",
    " \n",
    "sql_con.close()"
   ]
  },
  {
   "cell_type": "code",
   "execution_count": 4,
   "metadata": {},
   "outputs": [
    {
     "data": {
      "text/html": [
       "<div>\n",
       "<style>\n",
       "    .dataframe thead tr:only-child th {\n",
       "        text-align: right;\n",
       "    }\n",
       "\n",
       "    .dataframe thead th {\n",
       "        text-align: left;\n",
       "    }\n",
       "\n",
       "    .dataframe tbody tr th {\n",
       "        vertical-align: top;\n",
       "    }\n",
       "</style>\n",
       "<table border=\"1\" class=\"dataframe\">\n",
       "  <thead>\n",
       "    <tr style=\"text-align: right;\">\n",
       "      <th></th>\n",
       "      <th>author</th>\n",
       "      <th>responder</th>\n",
       "      <th>weight</th>\n",
       "    </tr>\n",
       "  </thead>\n",
       "  <tbody>\n",
       "    <tr>\n",
       "      <th>0</th>\n",
       "      <td>---DevilsAdvocate---</td>\n",
       "      <td>dannybtw</td>\n",
       "      <td>1</td>\n",
       "    </tr>\n",
       "    <tr>\n",
       "      <th>1</th>\n",
       "      <td>---DevilsAdvocate---</td>\n",
       "      <td>ThisFreaknGuy</td>\n",
       "      <td>2</td>\n",
       "    </tr>\n",
       "    <tr>\n",
       "      <th>2</th>\n",
       "      <td>-Covariance</td>\n",
       "      <td>DomeSlave</td>\n",
       "      <td>1</td>\n",
       "    </tr>\n",
       "    <tr>\n",
       "      <th>3</th>\n",
       "      <td>-Mountain-King-</td>\n",
       "      <td>ASK_ABOUT_STEELBEAMS</td>\n",
       "      <td>3</td>\n",
       "    </tr>\n",
       "    <tr>\n",
       "      <th>4</th>\n",
       "      <td>-Mountain-King-</td>\n",
       "      <td>AvoidNoiderman</td>\n",
       "      <td>2</td>\n",
       "    </tr>\n",
       "    <tr>\n",
       "      <th>5</th>\n",
       "      <td>-Mountain-King-</td>\n",
       "      <td>Bigfrostynugs</td>\n",
       "      <td>1</td>\n",
       "    </tr>\n",
       "  </tbody>\n",
       "</table>\n",
       "</div>"
      ],
      "text/plain": [
       "                 author             responder  weight\n",
       "0  ---DevilsAdvocate---              dannybtw       1\n",
       "1  ---DevilsAdvocate---         ThisFreaknGuy       2\n",
       "2           -Covariance             DomeSlave       1\n",
       "3       -Mountain-King-  ASK_ABOUT_STEELBEAMS       3\n",
       "4       -Mountain-King-        AvoidNoiderman       2\n",
       "5       -Mountain-King-         Bigfrostynugs       1"
      ]
     },
     "execution_count": 4,
     "metadata": {},
     "output_type": "execute_result"
    }
   ],
   "source": [
    "# Data test\n",
    "reddit.loc[0:5]"
   ]
  },
  {
   "cell_type": "code",
   "execution_count": 5,
   "metadata": {},
   "outputs": [],
   "source": [
    "# Initialize graph\n",
    "G = nx.Graph()\n",
    "\n",
    "# Add nodes\n",
    "nodes = set(reddit.loc[:, \"author\"])\n",
    "nodes.union(set(reddit.loc[:, \"responder\"]))\n",
    "nodes = list(nodes)\n",
    "nodes\n",
    "G.add_nodes_from(nodes)\n",
    "\n",
    "# Add edges with weights\n",
    "# Weight is equal to number of interactions between users\n",
    "#G.add_edges_from([tuple(x) for x in reddit.loc[:, \"author\":\"responder\"].values])\n",
    "G.add_weighted_edges_from([tuple(x) for x in reddit.values])"
   ]
  },
  {
   "cell_type": "code",
   "execution_count": 6,
   "metadata": {},
   "outputs": [
    {
     "data": {
      "text/plain": [
       "10233"
      ]
     },
     "execution_count": 6,
     "metadata": {},
     "output_type": "execute_result"
    }
   ],
   "source": [
    "nx.number_of_nodes(G)"
   ]
  },
  {
   "cell_type": "markdown",
   "metadata": {},
   "source": [
    "Let's confirm that the graph is fully connected."
   ]
  },
  {
   "cell_type": "code",
   "execution_count": 7,
   "metadata": {},
   "outputs": [
    {
     "data": {
      "text/plain": [
       "129"
      ]
     },
     "execution_count": 7,
     "metadata": {},
     "output_type": "execute_result"
    }
   ],
   "source": [
    "nx.number_connected_components(G)"
   ]
  },
  {
   "cell_type": "code",
   "execution_count": 8,
   "metadata": {},
   "outputs": [
    {
     "data": {
      "text/plain": [
       "[9928, 9, 6, 5, 5, 5, 5, 5, 4, 4]"
      ]
     },
     "execution_count": 8,
     "metadata": {},
     "output_type": "execute_result"
    }
   ],
   "source": [
    "# Ten largest subgraphs\n",
    "[len(c) for c in sorted(nx.connected_components(G), key=len, reverse=True)[0:10]]"
   ]
  },
  {
   "cell_type": "markdown",
   "metadata": {},
   "source": [
    "The graph is not fully connected. Most likely this is due to deleted user accounts that connected islands consisting of just a few nodes to the main subgraph. Let's remove all small islands and concentrate on the main subgraph."
   ]
  },
  {
   "cell_type": "code",
   "execution_count": 9,
   "metadata": {},
   "outputs": [
    {
     "data": {
      "text/plain": [
       "9928"
      ]
     },
     "execution_count": 9,
     "metadata": {},
     "output_type": "execute_result"
    }
   ],
   "source": [
    "# Select the largest connected subgraph\n",
    "G = max(nx.connected_component_subgraphs(G), key=len)\n",
    "G.number_of_nodes()"
   ]
  },
  {
   "cell_type": "markdown",
   "metadata": {},
   "source": [
    "Initially, we considered trimming the graph. For example, removing nodes with only 1 or 2 degrees. However, considering that we are dealing with online forum, there will be a significant number of users who only responded once to one comment. These leaves influence centralities of connected nodes and therefore are necessary for our analysis."
   ]
  },
  {
   "cell_type": "code",
   "execution_count": 10,
   "metadata": {},
   "outputs": [],
   "source": [
    "# Trim the graph removing any nodes with less than 3 degrees\n",
    "# remove = [node for node,degree in G.degree().items() if degree < 3]\n",
    "#G.remove_nodes_from(remove)\n",
    "#G.number_of_nodes()"
   ]
  },
  {
   "cell_type": "code",
   "execution_count": 13,
   "metadata": {},
   "outputs": [
    {
     "data": {
      "text/html": [
       "<div>\n",
       "<style>\n",
       "    .dataframe thead tr:only-child th {\n",
       "        text-align: right;\n",
       "    }\n",
       "\n",
       "    .dataframe thead th {\n",
       "        text-align: left;\n",
       "    }\n",
       "\n",
       "    .dataframe tbody tr th {\n",
       "        vertical-align: top;\n",
       "    }\n",
       "</style>\n",
       "<table border=\"1\" class=\"dataframe\">\n",
       "  <thead>\n",
       "    <tr style=\"text-align: right;\">\n",
       "      <th></th>\n",
       "      <th>username</th>\n",
       "      <th>betweenness</th>\n",
       "      <th>degree</th>\n",
       "    </tr>\n",
       "  </thead>\n",
       "  <tbody>\n",
       "    <tr>\n",
       "      <th>0</th>\n",
       "      <td>CDC_</td>\n",
       "      <td>0.087609</td>\n",
       "      <td>0.035560</td>\n",
       "    </tr>\n",
       "    <tr>\n",
       "      <th>1</th>\n",
       "      <td>corby315</td>\n",
       "      <td>0.074198</td>\n",
       "      <td>0.023471</td>\n",
       "    </tr>\n",
       "    <tr>\n",
       "      <th>2</th>\n",
       "      <td>fundygud</td>\n",
       "      <td>0.051563</td>\n",
       "      <td>0.020248</td>\n",
       "    </tr>\n",
       "    <tr>\n",
       "      <th>3</th>\n",
       "      <td>Lemonaxe</td>\n",
       "      <td>0.049766</td>\n",
       "      <td>0.021557</td>\n",
       "    </tr>\n",
       "    <tr>\n",
       "      <th>4</th>\n",
       "      <td>bazzil350</td>\n",
       "      <td>0.049644</td>\n",
       "      <td>0.019845</td>\n",
       "    </tr>\n",
       "    <tr>\n",
       "      <th>5</th>\n",
       "      <td>hawkish25</td>\n",
       "      <td>0.049423</td>\n",
       "      <td>0.017125</td>\n",
       "    </tr>\n",
       "    <tr>\n",
       "      <th>6</th>\n",
       "      <td>Supersoakthatho</td>\n",
       "      <td>0.048042</td>\n",
       "      <td>0.017729</td>\n",
       "    </tr>\n",
       "    <tr>\n",
       "      <th>7</th>\n",
       "      <td>FenrisCain</td>\n",
       "      <td>0.046511</td>\n",
       "      <td>0.018535</td>\n",
       "    </tr>\n",
       "    <tr>\n",
       "      <th>8</th>\n",
       "      <td>ohitsali</td>\n",
       "      <td>0.045828</td>\n",
       "      <td>0.018535</td>\n",
       "    </tr>\n",
       "    <tr>\n",
       "      <th>9</th>\n",
       "      <td>mstrdpncks</td>\n",
       "      <td>0.045789</td>\n",
       "      <td>0.017528</td>\n",
       "    </tr>\n",
       "    <tr>\n",
       "      <th>10</th>\n",
       "      <td>tehweave</td>\n",
       "      <td>0.044902</td>\n",
       "      <td>0.016218</td>\n",
       "    </tr>\n",
       "    <tr>\n",
       "      <th>11</th>\n",
       "      <td>franklymydeer</td>\n",
       "      <td>0.040771</td>\n",
       "      <td>0.014405</td>\n",
       "    </tr>\n",
       "    <tr>\n",
       "      <th>12</th>\n",
       "      <td>palettendieb</td>\n",
       "      <td>0.039118</td>\n",
       "      <td>0.017830</td>\n",
       "    </tr>\n",
       "    <tr>\n",
       "      <th>13</th>\n",
       "      <td>GameSkatez</td>\n",
       "      <td>0.038556</td>\n",
       "      <td>0.016420</td>\n",
       "    </tr>\n",
       "    <tr>\n",
       "      <th>14</th>\n",
       "      <td>killminusnine</td>\n",
       "      <td>0.033650</td>\n",
       "      <td>0.012995</td>\n",
       "    </tr>\n",
       "    <tr>\n",
       "      <th>15</th>\n",
       "      <td>redditminus</td>\n",
       "      <td>0.031578</td>\n",
       "      <td>0.010577</td>\n",
       "    </tr>\n",
       "    <tr>\n",
       "      <th>16</th>\n",
       "      <td>MrConfucius</td>\n",
       "      <td>0.031088</td>\n",
       "      <td>0.015211</td>\n",
       "    </tr>\n",
       "    <tr>\n",
       "      <th>17</th>\n",
       "      <td>BillMaher4President</td>\n",
       "      <td>0.030286</td>\n",
       "      <td>0.014304</td>\n",
       "    </tr>\n",
       "    <tr>\n",
       "      <th>18</th>\n",
       "      <td>smileedude</td>\n",
       "      <td>0.029680</td>\n",
       "      <td>0.012995</td>\n",
       "    </tr>\n",
       "    <tr>\n",
       "      <th>19</th>\n",
       "      <td>NicoUK</td>\n",
       "      <td>0.027325</td>\n",
       "      <td>0.011585</td>\n",
       "    </tr>\n",
       "    <tr>\n",
       "      <th>20</th>\n",
       "      <td>Bt1222</td>\n",
       "      <td>0.026446</td>\n",
       "      <td>0.011786</td>\n",
       "    </tr>\n",
       "    <tr>\n",
       "      <th>21</th>\n",
       "      <td>Baastrami</td>\n",
       "      <td>0.026258</td>\n",
       "      <td>0.010779</td>\n",
       "    </tr>\n",
       "    <tr>\n",
       "      <th>22</th>\n",
       "      <td>CatNamedJava</td>\n",
       "      <td>0.024806</td>\n",
       "      <td>0.005137</td>\n",
       "    </tr>\n",
       "    <tr>\n",
       "      <th>23</th>\n",
       "      <td>quentin-coldwater</td>\n",
       "      <td>0.023442</td>\n",
       "      <td>0.010577</td>\n",
       "    </tr>\n",
       "    <tr>\n",
       "      <th>24</th>\n",
       "      <td>FearlessParrot</td>\n",
       "      <td>0.022165</td>\n",
       "      <td>0.010980</td>\n",
       "    </tr>\n",
       "  </tbody>\n",
       "</table>\n",
       "</div>"
      ],
      "text/plain": [
       "               username  betweenness    degree\n",
       "0                  CDC_     0.087609  0.035560\n",
       "1              corby315     0.074198  0.023471\n",
       "2              fundygud     0.051563  0.020248\n",
       "3              Lemonaxe     0.049766  0.021557\n",
       "4             bazzil350     0.049644  0.019845\n",
       "5             hawkish25     0.049423  0.017125\n",
       "6       Supersoakthatho     0.048042  0.017729\n",
       "7            FenrisCain     0.046511  0.018535\n",
       "8              ohitsali     0.045828  0.018535\n",
       "9            mstrdpncks     0.045789  0.017528\n",
       "10             tehweave     0.044902  0.016218\n",
       "11        franklymydeer     0.040771  0.014405\n",
       "12         palettendieb     0.039118  0.017830\n",
       "13           GameSkatez     0.038556  0.016420\n",
       "14        killminusnine     0.033650  0.012995\n",
       "15          redditminus     0.031578  0.010577\n",
       "16          MrConfucius     0.031088  0.015211\n",
       "17  BillMaher4President     0.030286  0.014304\n",
       "18           smileedude     0.029680  0.012995\n",
       "19               NicoUK     0.027325  0.011585\n",
       "20               Bt1222     0.026446  0.011786\n",
       "21            Baastrami     0.026258  0.010779\n",
       "22         CatNamedJava     0.024806  0.005137\n",
       "23    quentin-coldwater     0.023442  0.010577\n",
       "24       FearlessParrot     0.022165  0.010980"
      ]
     },
     "execution_count": 13,
     "metadata": {},
     "output_type": "execute_result"
    }
   ],
   "source": [
    "'''\n",
    "The following code was used to calculate centralities during first run\n",
    "Betweenness centrality takes a long time to calculate \n",
    "As such we use saved values for further analysis\n",
    "\n",
    "# Calculate betweenness centrality\n",
    "centr_bw = nx.betweenness_centrality(G, weight='weight')\n",
    "\n",
    "# Calculate degree centrality\n",
    "centr_deg = nx.degree_centrality(G)\n",
    "'''\n",
    "\n",
    "users[0:25]"
   ]
  },
  {
   "cell_type": "markdown",
   "metadata": {},
   "source": [
    "Let's look at one user. **Bt1222** is in the top 20 list for degree centrality, but he or she just misses the top 20 list for betweenness centrality."
   ]
  },
  {
   "cell_type": "code",
   "execution_count": 14,
   "metadata": {},
   "outputs": [
    {
     "data": {
      "image/png": "[encoded data removed]",
      "text/plain": [
       "<matplotlib.figure.Figure at 0xb684b00>"
      ]
     },
     "metadata": {},
     "output_type": "display_data"
    }
   ],
   "source": [
    "main = 'Bt1222'\n",
    "\n",
    "# Select neighbors and neighbors of neighbors\n",
    "subG = G.neighbors(main)\n",
    "n_list = subG\n",
    "for n in subG:\n",
    "    n_list = n_list + G.neighbors(n)\n",
    "n_list = list(set(n_list))\n",
    "n_list.append(main)\n",
    "\n",
    "# Isolate the subnetwork\n",
    "subG = G.subgraph(n_list)\n",
    "\n",
    "# Get color map\n",
    "colormap =[]\n",
    "for n in subG.nodes():\n",
    "    if n==main:\n",
    "        colormap.append('yellow')\n",
    "    else:\n",
    "        colormap.append('red')\n",
    "     \n",
    "# Separate edges by weight - 1 and more than 1\n",
    "elarge=[(u,v) for (u,v,d) in subG.edges(data=True) if d['weight']>1]\n",
    "esmall=[(u,v) for (u,v,d) in subG.edges(data=True) if d['weight']==1]\n",
    "\n",
    "# Layout\n",
    "pos=nx.spring_layout(subG)\n",
    "\n",
    "# Draw nodes\n",
    "nx.draw_networkx_nodes(subG,pos,node_color=colormap,node_size=10)\n",
    "\n",
    "# Draw edges\n",
    "nx.draw_networkx_edges(subG, pos, edgelist=elarge, width=2, edge_color='r')\n",
    "nx.draw_networkx_edges(subG, pos, edgelist=esmall, width=1, edge_color='grey', style='dashed')\n",
    "\n",
    "plt.axis('off')\n",
    "plt.show()"
   ]
  },
  {
   "cell_type": "markdown",
   "metadata": {},
   "source": [
    "User **Bt1222** is highlighted in yellow. Dashed grey edges are just a single interaction between users. Solid red edges are multiple (2 or more) interactions."
   ]
  },
  {
   "cell_type": "code",
   "execution_count": 17,
   "metadata": {},
   "outputs": [
    {
     "data": {
      "text/html": [
       "<div>\n",
       "<style>\n",
       "    .dataframe thead tr:only-child th {\n",
       "        text-align: right;\n",
       "    }\n",
       "\n",
       "    .dataframe thead th {\n",
       "        text-align: left;\n",
       "    }\n",
       "\n",
       "    .dataframe tbody tr th {\n",
       "        vertical-align: top;\n",
       "    }\n",
       "</style>\n",
       "<table border=\"1\" class=\"dataframe\">\n",
       "  <thead>\n",
       "    <tr style=\"text-align: right;\">\n",
       "      <th></th>\n",
       "      <th>username</th>\n",
       "      <th>betweenness</th>\n",
       "      <th>degree</th>\n",
       "    </tr>\n",
       "  </thead>\n",
       "  <tbody>\n",
       "    <tr>\n",
       "      <th>0</th>\n",
       "      <td>CDC_</td>\n",
       "      <td>0.087609</td>\n",
       "      <td>0.035560</td>\n",
       "    </tr>\n",
       "    <tr>\n",
       "      <th>1</th>\n",
       "      <td>corby315</td>\n",
       "      <td>0.074198</td>\n",
       "      <td>0.023471</td>\n",
       "    </tr>\n",
       "    <tr>\n",
       "      <th>2</th>\n",
       "      <td>fundygud</td>\n",
       "      <td>0.051563</td>\n",
       "      <td>0.020248</td>\n",
       "    </tr>\n",
       "    <tr>\n",
       "      <th>3</th>\n",
       "      <td>Lemonaxe</td>\n",
       "      <td>0.049766</td>\n",
       "      <td>0.021557</td>\n",
       "    </tr>\n",
       "    <tr>\n",
       "      <th>4</th>\n",
       "      <td>bazzil350</td>\n",
       "      <td>0.049644</td>\n",
       "      <td>0.019845</td>\n",
       "    </tr>\n",
       "  </tbody>\n",
       "</table>\n",
       "</div>"
      ],
      "text/plain": [
       "    username  betweenness    degree\n",
       "0       CDC_     0.087609  0.035560\n",
       "1   corby315     0.074198  0.023471\n",
       "2   fundygud     0.051563  0.020248\n",
       "3   Lemonaxe     0.049766  0.021557\n",
       "4  bazzil350     0.049644  0.019845"
      ]
     },
     "execution_count": 17,
     "metadata": {},
     "output_type": "execute_result"
    }
   ],
   "source": [
    "'''\n",
    "The following code was used to combine centralities into a single data frame\n",
    "Since the values were saved there is no need to run it\n",
    "\n",
    "# Combine betweenness and degree centralities into a single data frame\n",
    "\n",
    "df1 = pd.DataFrame(list(centr_bw.items()), columns=['User', 'Betweenness'])\n",
    "df2 = pd.DataFrame(list(centr_deg.items()), columns=['User', 'Degree'])\n",
    "users = df1.join(df2.set_index('User'), on='User')\n",
    "users.sort_values(['Betweenness', 'Degree'], ascending = False, inplace=True)\n",
    "'''\n",
    "\n",
    "users[0:5]"
   ]
  },
  {
   "cell_type": "code",
   "execution_count": 19,
   "metadata": {},
   "outputs": [
    {
     "data": {
      "image/png": "[encoded data removed]",
      "text/plain": [
       "<matplotlib.figure.Figure at 0x6bc1438>"
      ]
     },
     "metadata": {},
     "output_type": "display_data"
    }
   ],
   "source": [
    "import numpy as np\n",
    "\n",
    "x = users.loc[:,\"betweenness\"].values\n",
    "y = users.loc[:,\"degree\"].values\n",
    "\n",
    "# Least squares polynomial fit\n",
    "m, b = np.polyfit(x, y, 1)\n",
    "\n",
    "plt.plot(x, y, '.')\n",
    "plt.plot(x, m*x + b, '-')\n",
    "plt.xlabel(\"Betweenness Centrality\")\n",
    "plt.ylabel(\"Degree Centrality\")\n",
    "plt.show()"
   ]
  },
  {
   "cell_type": "code",
   "execution_count": 20,
   "metadata": {},
   "outputs": [
    {
     "data": {
      "text/plain": [
       "(0.96623334983246367, 0.0)"
      ]
     },
     "execution_count": 20,
     "metadata": {},
     "output_type": "execute_result"
    }
   ],
   "source": [
    "# Compute Pearson correlation coefficient and the p-value for testing non-correlation\n",
    "import scipy.stats\n",
    "\n",
    "scipy.stats.pearsonr(x, y)"
   ]
  },
  {
   "cell_type": "code",
   "execution_count": null,
   "metadata": {
    "collapsed": true
   },
   "outputs": [],
   "source": []
  },
  {
   "cell_type": "code",
   "execution_count": null,
   "metadata": {},
   "outputs": [],
   "source": []
  },
  {
   "cell_type": "code",
   "execution_count": null,
   "metadata": {
    "collapsed": true
   },
   "outputs": [],
   "source": []
  },
  {
   "cell_type": "code",
   "execution_count": null,
   "metadata": {
    "collapsed": true
   },
   "outputs": [],
   "source": []
  }
 ],
 "metadata": {
  "kernelspec": {
   "display_name": "Python 2",
   "language": "python",
   "name": "python2"
  },
  "language_info": {
   "codemirror_mode": {
    "name": "ipython",
    "version": 2
   },
   "file_extension": ".py",
   "mimetype": "text/x-python",
   "name": "python",
   "nbconvert_exporter": "python",
   "pygments_lexer": "ipython2",
   "version": "2.7.13"
  }
 },
 "nbformat": 4,
 "nbformat_minor": 2
}
