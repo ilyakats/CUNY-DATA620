{
 "cells": [
  {
   "cell_type": "markdown",
   "metadata": {},
   "source": [
    "## CUNY 620 Final Proposal: Sentiment and Network Analyses of Reddit Comments\n",
    "\n",
    "#### Team 2: Pavan Akula, Nathan (Seoungyoon) Lim, Christophe Hunt, Joel Park, Ilya Kats\n",
    "\n",
    "**Objective:** In our final project we attempt to evaluate if sentiment influences features of a social network. This allows us to utilize both areas covered by the class - text processing and network analysis - and may yield interesting findings.\n",
    "\n",
    "For this project we will be looking at discussions featured on Reddit (http://www.reddit.com). Reddit is a social aggregation and discussion website. As of 2017, Reddit had 542 million monthly visitors, ranking #4 most visited website in U.S. and #9 in the world. It allows users to share content with ability to have other users comment on it. We will evaluate social network of Reddit commenters (also known as redditors) and sentiment of comments themselves.\n",
    "\n",
    "![Reddit](https://assets.ifttt.com/images/channels/1352860597/icons/on_color_small.png)\n",
    "\n",
    "### DATA IMPORT"
   ]
  },
  {
   "cell_type": "code",
   "execution_count": 2,
   "metadata": {
    "collapsed": false
   },
   "outputs": [],
   "source": [
    "# Load libraries\n",
    "import pandas as pd\n",
    "import pymysql\n",
    "import matplotlib.pyplot as plt\n",
    "import networkx as nx\n",
    "import operator\n",
    "import numpy as np\n",
    "from nltk.sentiment.vader import SentimentIntensityAnalyzer"
   ]
  },
  {
   "cell_type": "code",
   "execution_count": 3,
   "metadata": {
    "collapsed": true
   },
   "outputs": [],
   "source": [
    "# Define function that would create a sorted list, from highest to lowest\n",
    "# This function was taken from page 47 from \"Social Network Analysis for Startups\".\n",
    "\n",
    "def sorted_map(map):\n",
    "    ms = sorted(map.iteritems(), key=lambda (k,v): (-v,k)) \n",
    "    return ms"
   ]
  },
  {
   "cell_type": "code",
   "execution_count": 4,
   "metadata": {
    "collapsed": false
   },
   "outputs": [],
   "source": [
    "# Retrieve data from the database\n",
    "sql_con = pymysql.connect(host='104.196.212.179', port=3306, \n",
    "                          user='root', passwd='data620pw',\n",
    "                          db='reddit')\n",
    "\n",
    "reddit = pd.read_sql('SELECT DISTINCT author, responder, COUNT(1) as weight FROM comments '\n",
    "                     'GROUP BY author, responder '\n",
    "                     'HAVING author<>\"[deleted]\" AND responder<>\"[deleted]\";', con=sql_con)\n",
    "\n",
    "reddit_comment = pd.read_sql('SELECT * from comments;', con=sql_con)\n",
    "\n",
    "\n",
    "# Import users with centrality measures previously calculated\n",
    "# Just so we don't have to wait for them every time\n",
    "users = pd.read_sql('SELECT username, betweenness, degree FROM users', con=sql_con)\n",
    " \n",
    "sql_con.close()"
   ]
  },
  {
   "cell_type": "code",
   "execution_count": 5,
   "metadata": {
    "collapsed": false
   },
   "outputs": [
    {
     "data": {
      "text/html": [
       "<div>\n",
       "<table border=\"1\" class=\"dataframe\">\n",
       "  <thead>\n",
       "    <tr style=\"text-align: right;\">\n",
       "      <th></th>\n",
       "      <th>author</th>\n",
       "      <th>responder</th>\n",
       "      <th>weight</th>\n",
       "    </tr>\n",
       "  </thead>\n",
       "  <tbody>\n",
       "    <tr>\n",
       "      <th>0</th>\n",
       "      <td>---DevilsAdvocate---</td>\n",
       "      <td>dannybtw</td>\n",
       "      <td>1</td>\n",
       "    </tr>\n",
       "    <tr>\n",
       "      <th>1</th>\n",
       "      <td>---DevilsAdvocate---</td>\n",
       "      <td>ThisFreaknGuy</td>\n",
       "      <td>2</td>\n",
       "    </tr>\n",
       "    <tr>\n",
       "      <th>2</th>\n",
       "      <td>-Covariance</td>\n",
       "      <td>DomeSlave</td>\n",
       "      <td>1</td>\n",
       "    </tr>\n",
       "    <tr>\n",
       "      <th>3</th>\n",
       "      <td>-Mountain-King-</td>\n",
       "      <td>ASK_ABOUT_STEELBEAMS</td>\n",
       "      <td>3</td>\n",
       "    </tr>\n",
       "    <tr>\n",
       "      <th>4</th>\n",
       "      <td>-Mountain-King-</td>\n",
       "      <td>AvoidNoiderman</td>\n",
       "      <td>2</td>\n",
       "    </tr>\n",
       "    <tr>\n",
       "      <th>5</th>\n",
       "      <td>-Mountain-King-</td>\n",
       "      <td>Bigfrostynugs</td>\n",
       "      <td>1</td>\n",
       "    </tr>\n",
       "  </tbody>\n",
       "</table>\n",
       "</div>"
      ],
      "text/plain": [
       "                 author             responder  weight\n",
       "0  ---DevilsAdvocate---              dannybtw       1\n",
       "1  ---DevilsAdvocate---         ThisFreaknGuy       2\n",
       "2           -Covariance             DomeSlave       1\n",
       "3       -Mountain-King-  ASK_ABOUT_STEELBEAMS       3\n",
       "4       -Mountain-King-        AvoidNoiderman       2\n",
       "5       -Mountain-King-         Bigfrostynugs       1"
      ]
     },
     "execution_count": 5,
     "metadata": {},
     "output_type": "execute_result"
    }
   ],
   "source": [
    "# Data test\n",
    "reddit.loc[0:5]"
   ]
  },
  {
   "cell_type": "markdown",
   "metadata": {},
   "source": [
    "![Reddit](https://assets.ifttt.com/images/channels/1352860597/icons/on_color_small.png)\n",
    "\n",
    "### BUILDING NETWORK GRAPH"
   ]
  },
  {
   "cell_type": "code",
   "execution_count": 6,
   "metadata": {
    "collapsed": true
   },
   "outputs": [],
   "source": [
    "# Initialize graph\n",
    "G = nx.Graph()\n",
    "\n",
    "# Add nodes\n",
    "nodes = set(reddit.loc[:, \"author\"])\n",
    "nodes.union(set(reddit.loc[:, \"responder\"]))\n",
    "nodes = list(nodes)\n",
    "nodes\n",
    "G.add_nodes_from(nodes)\n",
    "\n",
    "# Add edges with weights\n",
    "# Weight is equal to number of interactions between users\n",
    "#G.add_edges_from([tuple(x) for x in reddit.loc[:, \"author\":\"responder\"].values])\n",
    "G.add_weighted_edges_from([tuple(x) for x in reddit.values])"
   ]
  },
  {
   "cell_type": "code",
   "execution_count": 7,
   "metadata": {
    "collapsed": false
   },
   "outputs": [
    {
     "data": {
      "text/plain": [
       "10233"
      ]
     },
     "execution_count": 7,
     "metadata": {},
     "output_type": "execute_result"
    }
   ],
   "source": [
    "nx.number_of_nodes(G)"
   ]
  },
  {
   "cell_type": "markdown",
   "metadata": {},
   "source": [
    "Let's confirm that the graph is fully connected."
   ]
  },
  {
   "cell_type": "code",
   "execution_count": 8,
   "metadata": {
    "collapsed": false
   },
   "outputs": [
    {
     "data": {
      "text/plain": [
       "129"
      ]
     },
     "execution_count": 8,
     "metadata": {},
     "output_type": "execute_result"
    }
   ],
   "source": [
    "nx.number_connected_components(G)"
   ]
  },
  {
   "cell_type": "code",
   "execution_count": 9,
   "metadata": {
    "collapsed": false
   },
   "outputs": [
    {
     "data": {
      "text/plain": [
       "[9928, 9, 6, 5, 5, 5, 5, 5, 4, 4]"
      ]
     },
     "execution_count": 9,
     "metadata": {},
     "output_type": "execute_result"
    }
   ],
   "source": [
    "# Ten largest subgraphs\n",
    "[len(c) for c in sorted(nx.connected_components(G), key=len, reverse=True)[0:10]]"
   ]
  },
  {
   "cell_type": "markdown",
   "metadata": {},
   "source": [
    "The graph is not fully connected. Most likely this is due to deleted user accounts that connected islands consisting of just a few nodes to the main subgraph. Let's remove all small islands and concentrate on the main subgraph."
   ]
  },
  {
   "cell_type": "code",
   "execution_count": 10,
   "metadata": {
    "collapsed": false
   },
   "outputs": [
    {
     "data": {
      "text/plain": [
       "9928"
      ]
     },
     "execution_count": 10,
     "metadata": {},
     "output_type": "execute_result"
    }
   ],
   "source": [
    "# Select the largest connected subgraph\n",
    "G = max(nx.connected_component_subgraphs(G), key=len)\n",
    "G.number_of_nodes()"
   ]
  },
  {
   "cell_type": "markdown",
   "metadata": {},
   "source": [
    "Initially, we considered trimming the graph. For example, removing nodes with only 1 or 2 degrees. However, considering that we are dealing with online forum, there will be a significant number of users who only responded once to one comment. These leaves influence centralities of connected nodes and therefore are necessary for our analysis."
   ]
  },
  {
   "cell_type": "code",
   "execution_count": 11,
   "metadata": {
    "collapsed": true
   },
   "outputs": [],
   "source": [
    "# Trim the graph removing any nodes with less than 3 degrees\n",
    "# remove = [node for node,degree in G.degree().items() if degree < 3]\n",
    "#G.remove_nodes_from(remove)\n",
    "#G.number_of_nodes()"
   ]
  },
  {
   "cell_type": "markdown",
   "metadata": {},
   "source": [
    "Let's get a few other general descriptors of the graph."
   ]
  },
  {
   "cell_type": "code",
   "execution_count": 13,
   "metadata": {
    "collapsed": false
   },
   "outputs": [
    {
     "data": {
      "text/plain": [
       "16"
      ]
     },
     "execution_count": 13,
     "metadata": {},
     "output_type": "execute_result"
    }
   ],
   "source": [
    "# Diameter of the graph\n",
    "# Takes some time to calculate\n",
    "nx.diameter(G)"
   ]
  },
  {
   "cell_type": "code",
   "execution_count": 14,
   "metadata": {
    "collapsed": false
   },
   "outputs": [
    {
     "data": {
      "text/plain": [
       "5.211905025136356"
      ]
     },
     "execution_count": 14,
     "metadata": {},
     "output_type": "execute_result"
    }
   ],
   "source": [
    "# Average shortest path\n",
    "# Takes some time to calculate\n",
    "nx.average_shortest_path_length(G, weight='weight')"
   ]
  },
  {
   "cell_type": "code",
   "execution_count": 25,
   "metadata": {
    "collapsed": false
   },
   "outputs": [
    {
     "name": "stdout",
     "output_type": "stream",
     "text": [
      "User 1                    User 2                    Weight                   \n",
      "----------                ----------                ----------               \n",
      "isthisatrick              uber_kitty                {'weight': 21L}          \n",
      "Rich700000000000          Rich700000000000          {'weight': 20L}          \n",
      "Fabius0                   jama211                   {'weight': 17L}          \n",
      "uber_kitty                DukePristine              {'weight': 15L}          \n",
      "PsychoPhilosopher         0therworldly              {'weight': 14L}          \n",
      "jama211                   crazymuffin147            {'weight': 13L}          \n",
      "-TheCabbageMerchant-      escalat0r                 {'weight': 13L}          \n",
      "StrawberryMeringue        averysadgirl              {'weight': 10L}          \n",
      "Taakbiiir                 Mkins                     {'weight': 9L}           \n",
      "Trevmiester               onioning                  {'weight': 9L}           \n"
     ]
    }
   ],
   "source": [
    "# Top 10 edges by weight\n",
    "print '%-25s %-25s %-25s' % ('User 1', 'User 2', 'Weight')\n",
    "print '%-25s %-25s %-25s' % ('----------', '----------', '----------')\n",
    "for s, t, w in sorted(G.edges(data=True), key=lambda (source,target,data): data['weight'], reverse=True)[0:10]:\n",
    "    print '%-25s %-25s %-25s' % (s, t, w)"
   ]
  },
  {
   "cell_type": "markdown",
   "metadata": {},
   "source": [
    "Edge weight is the frequency of communication/commenting between two users. It looks like user *Rich700000000000* comments on his own comments relatively often."
   ]
  },
  {
   "cell_type": "code",
   "execution_count": 13,
   "metadata": {
    "collapsed": false
   },
   "outputs": [
    {
     "data": {
      "text/html": [
       "<div>\n",
       "<style>\n",
       "    .dataframe thead tr:only-child th {\n",
       "        text-align: right;\n",
       "    }\n",
       "\n",
       "    .dataframe thead th {\n",
       "        text-align: left;\n",
       "    }\n",
       "\n",
       "    .dataframe tbody tr th {\n",
       "        vertical-align: top;\n",
       "    }\n",
       "</style>\n",
       "<table border=\"1\" class=\"dataframe\">\n",
       "  <thead>\n",
       "    <tr style=\"text-align: right;\">\n",
       "      <th></th>\n",
       "      <th>username</th>\n",
       "      <th>betweenness</th>\n",
       "      <th>degree</th>\n",
       "    </tr>\n",
       "  </thead>\n",
       "  <tbody>\n",
       "    <tr>\n",
       "      <th>0</th>\n",
       "      <td>CDC_</td>\n",
       "      <td>0.087609</td>\n",
       "      <td>0.035560</td>\n",
       "    </tr>\n",
       "    <tr>\n",
       "      <th>1</th>\n",
       "      <td>corby315</td>\n",
       "      <td>0.074198</td>\n",
       "      <td>0.023471</td>\n",
       "    </tr>\n",
       "    <tr>\n",
       "      <th>2</th>\n",
       "      <td>fundygud</td>\n",
       "      <td>0.051563</td>\n",
       "      <td>0.020248</td>\n",
       "    </tr>\n",
       "    <tr>\n",
       "      <th>3</th>\n",
       "      <td>Lemonaxe</td>\n",
       "      <td>0.049766</td>\n",
       "      <td>0.021557</td>\n",
       "    </tr>\n",
       "    <tr>\n",
       "      <th>4</th>\n",
       "      <td>bazzil350</td>\n",
       "      <td>0.049644</td>\n",
       "      <td>0.019845</td>\n",
       "    </tr>\n",
       "    <tr>\n",
       "      <th>5</th>\n",
       "      <td>hawkish25</td>\n",
       "      <td>0.049423</td>\n",
       "      <td>0.017125</td>\n",
       "    </tr>\n",
       "    <tr>\n",
       "      <th>6</th>\n",
       "      <td>Supersoakthatho</td>\n",
       "      <td>0.048042</td>\n",
       "      <td>0.017729</td>\n",
       "    </tr>\n",
       "    <tr>\n",
       "      <th>7</th>\n",
       "      <td>FenrisCain</td>\n",
       "      <td>0.046511</td>\n",
       "      <td>0.018535</td>\n",
       "    </tr>\n",
       "    <tr>\n",
       "      <th>8</th>\n",
       "      <td>ohitsali</td>\n",
       "      <td>0.045828</td>\n",
       "      <td>0.018535</td>\n",
       "    </tr>\n",
       "    <tr>\n",
       "      <th>9</th>\n",
       "      <td>mstrdpncks</td>\n",
       "      <td>0.045789</td>\n",
       "      <td>0.017528</td>\n",
       "    </tr>\n",
       "    <tr>\n",
       "      <th>10</th>\n",
       "      <td>tehweave</td>\n",
       "      <td>0.044902</td>\n",
       "      <td>0.016218</td>\n",
       "    </tr>\n",
       "    <tr>\n",
       "      <th>11</th>\n",
       "      <td>franklymydeer</td>\n",
       "      <td>0.040771</td>\n",
       "      <td>0.014405</td>\n",
       "    </tr>\n",
       "    <tr>\n",
       "      <th>12</th>\n",
       "      <td>palettendieb</td>\n",
       "      <td>0.039118</td>\n",
       "      <td>0.017830</td>\n",
       "    </tr>\n",
       "    <tr>\n",
       "      <th>13</th>\n",
       "      <td>GameSkatez</td>\n",
       "      <td>0.038556</td>\n",
       "      <td>0.016420</td>\n",
       "    </tr>\n",
       "    <tr>\n",
       "      <th>14</th>\n",
       "      <td>killminusnine</td>\n",
       "      <td>0.033650</td>\n",
       "      <td>0.012995</td>\n",
       "    </tr>\n",
       "    <tr>\n",
       "      <th>15</th>\n",
       "      <td>redditminus</td>\n",
       "      <td>0.031578</td>\n",
       "      <td>0.010577</td>\n",
       "    </tr>\n",
       "    <tr>\n",
       "      <th>16</th>\n",
       "      <td>MrConfucius</td>\n",
       "      <td>0.031088</td>\n",
       "      <td>0.015211</td>\n",
       "    </tr>\n",
       "    <tr>\n",
       "      <th>17</th>\n",
       "      <td>BillMaher4President</td>\n",
       "      <td>0.030286</td>\n",
       "      <td>0.014304</td>\n",
       "    </tr>\n",
       "    <tr>\n",
       "      <th>18</th>\n",
       "      <td>smileedude</td>\n",
       "      <td>0.029680</td>\n",
       "      <td>0.012995</td>\n",
       "    </tr>\n",
       "    <tr>\n",
       "      <th>19</th>\n",
       "      <td>NicoUK</td>\n",
       "      <td>0.027325</td>\n",
       "      <td>0.011585</td>\n",
       "    </tr>\n",
       "    <tr>\n",
       "      <th>20</th>\n",
       "      <td>Bt1222</td>\n",
       "      <td>0.026446</td>\n",
       "      <td>0.011786</td>\n",
       "    </tr>\n",
       "    <tr>\n",
       "      <th>21</th>\n",
       "      <td>Baastrami</td>\n",
       "      <td>0.026258</td>\n",
       "      <td>0.010779</td>\n",
       "    </tr>\n",
       "    <tr>\n",
       "      <th>22</th>\n",
       "      <td>CatNamedJava</td>\n",
       "      <td>0.024806</td>\n",
       "      <td>0.005137</td>\n",
       "    </tr>\n",
       "    <tr>\n",
       "      <th>23</th>\n",
       "      <td>quentin-coldwater</td>\n",
       "      <td>0.023442</td>\n",
       "      <td>0.010577</td>\n",
       "    </tr>\n",
       "    <tr>\n",
       "      <th>24</th>\n",
       "      <td>FearlessParrot</td>\n",
       "      <td>0.022165</td>\n",
       "      <td>0.010980</td>\n",
       "    </tr>\n",
       "  </tbody>\n",
       "</table>\n",
       "</div>"
      ],
      "text/plain": [
       "               username  betweenness    degree\n",
       "0                  CDC_     0.087609  0.035560\n",
       "1              corby315     0.074198  0.023471\n",
       "2              fundygud     0.051563  0.020248\n",
       "3              Lemonaxe     0.049766  0.021557\n",
       "4             bazzil350     0.049644  0.019845\n",
       "5             hawkish25     0.049423  0.017125\n",
       "6       Supersoakthatho     0.048042  0.017729\n",
       "7            FenrisCain     0.046511  0.018535\n",
       "8              ohitsali     0.045828  0.018535\n",
       "9            mstrdpncks     0.045789  0.017528\n",
       "10             tehweave     0.044902  0.016218\n",
       "11        franklymydeer     0.040771  0.014405\n",
       "12         palettendieb     0.039118  0.017830\n",
       "13           GameSkatez     0.038556  0.016420\n",
       "14        killminusnine     0.033650  0.012995\n",
       "15          redditminus     0.031578  0.010577\n",
       "16          MrConfucius     0.031088  0.015211\n",
       "17  BillMaher4President     0.030286  0.014304\n",
       "18           smileedude     0.029680  0.012995\n",
       "19               NicoUK     0.027325  0.011585\n",
       "20               Bt1222     0.026446  0.011786\n",
       "21            Baastrami     0.026258  0.010779\n",
       "22         CatNamedJava     0.024806  0.005137\n",
       "23    quentin-coldwater     0.023442  0.010577\n",
       "24       FearlessParrot     0.022165  0.010980"
      ]
     },
     "execution_count": 13,
     "metadata": {},
     "output_type": "execute_result"
    }
   ],
   "source": [
    "'''\n",
    "The following code was used to calculate centralities during first run\n",
    "Betweenness centrality takes a long time to calculate \n",
    "As such we use saved values for further analysis\n",
    "\n",
    "# Calculate betweenness centrality\n",
    "centr_bw = nx.betweenness_centrality(G, weight='weight')\n",
    "\n",
    "# Calculate degree centrality\n",
    "centr_deg = nx.degree_centrality(G)\n",
    "'''\n",
    "\n",
    "users[0:25]"
   ]
  },
  {
   "cell_type": "markdown",
   "metadata": {},
   "source": [
    "Here is the full network graph generated in Gephi.\n",
    "\n",
    "![Full Graph](https://raw.githubusercontent.com/ilyakats/CUNY-DATA620/master/Team-Final/Final-Project/full-graph-gephi.png)\n",
    "\n",
    "With close to 10,000 nodes the graph is too busy to decipher. We can note that even though there is a large number of long tentacles, the maximum distances between any two nodes is 16. There is a lot of interconnectedness in the hairball center.\n",
    "\n",
    "Let's look at one user. **Bt1222** is in the top 20 list for degree centrality, but he or she just misses the top 20 list for betweenness centrality."
   ]
  },
  {
   "cell_type": "code",
   "execution_count": 16,
   "metadata": {
    "collapsed": false
   },
   "outputs": [
    {
     "data": {
      "image/png": "[encoded data removed]",
      "text/plain": [
       "<matplotlib.figure.Figure at 0x6412438>"
      ]
     },
     "metadata": {},
     "output_type": "display_data"
    }
   ],
   "source": [
    "main = 'Bt1222'\n",
    "\n",
    "# Select neighbors and neighbors of neighbors\n",
    "subG = G.neighbors(main)\n",
    "n_list = subG\n",
    "for n in subG:\n",
    "    n_list = n_list + G.neighbors(n)\n",
    "n_list = list(set(n_list))\n",
    "n_list.append(main)\n",
    "\n",
    "# Isolate the subnetwork\n",
    "subG = G.subgraph(n_list)\n",
    "\n",
    "# Get color map\n",
    "colormap =[]\n",
    "for n in subG.nodes():\n",
    "    if n==main:\n",
    "        colormap.append('yellow')\n",
    "    else:\n",
    "        colormap.append('red')\n",
    "     \n",
    "# Separate edges by weight - 1 and more than 1\n",
    "elarge=[(u,v) for (u,v,d) in subG.edges(data=True) if d['weight']>1]\n",
    "esmall=[(u,v) for (u,v,d) in subG.edges(data=True) if d['weight']==1]\n",
    "\n",
    "# Layout\n",
    "pos=nx.spring_layout(subG)\n",
    "\n",
    "# Draw nodes\n",
    "nx.draw_networkx_nodes(subG,pos,node_color=colormap,node_size=10)\n",
    "\n",
    "# Draw edges\n",
    "nx.draw_networkx_edges(subG, pos, edgelist=elarge, width=2, edge_color='r')\n",
    "nx.draw_networkx_edges(subG, pos, edgelist=esmall, width=1, edge_color='grey', style='dashed')\n",
    "\n",
    "plt.axis('off')\n",
    "plt.show()"
   ]
  },
  {
   "cell_type": "markdown",
   "metadata": {},
   "source": [
    "User **Bt1222** is highlighted in yellow. Dashed grey edges are just a single interaction between users. Solid red edges are multiple (2 or more) interactions."
   ]
  },
  {
   "cell_type": "code",
   "execution_count": 17,
   "metadata": {
    "collapsed": false
   },
   "outputs": [
    {
     "data": {
      "text/html": [
       "<div>\n",
       "<style>\n",
       "    .dataframe thead tr:only-child th {\n",
       "        text-align: right;\n",
       "    }\n",
       "\n",
       "    .dataframe thead th {\n",
       "        text-align: left;\n",
       "    }\n",
       "\n",
       "    .dataframe tbody tr th {\n",
       "        vertical-align: top;\n",
       "    }\n",
       "</style>\n",
       "<table border=\"1\" class=\"dataframe\">\n",
       "  <thead>\n",
       "    <tr style=\"text-align: right;\">\n",
       "      <th></th>\n",
       "      <th>username</th>\n",
       "      <th>betweenness</th>\n",
       "      <th>degree</th>\n",
       "    </tr>\n",
       "  </thead>\n",
       "  <tbody>\n",
       "    <tr>\n",
       "      <th>0</th>\n",
       "      <td>CDC_</td>\n",
       "      <td>0.087609</td>\n",
       "      <td>0.035560</td>\n",
       "    </tr>\n",
       "    <tr>\n",
       "      <th>1</th>\n",
       "      <td>corby315</td>\n",
       "      <td>0.074198</td>\n",
       "      <td>0.023471</td>\n",
       "    </tr>\n",
       "    <tr>\n",
       "      <th>2</th>\n",
       "      <td>fundygud</td>\n",
       "      <td>0.051563</td>\n",
       "      <td>0.020248</td>\n",
       "    </tr>\n",
       "    <tr>\n",
       "      <th>3</th>\n",
       "      <td>Lemonaxe</td>\n",
       "      <td>0.049766</td>\n",
       "      <td>0.021557</td>\n",
       "    </tr>\n",
       "    <tr>\n",
       "      <th>4</th>\n",
       "      <td>bazzil350</td>\n",
       "      <td>0.049644</td>\n",
       "      <td>0.019845</td>\n",
       "    </tr>\n",
       "  </tbody>\n",
       "</table>\n",
       "</div>"
      ],
      "text/plain": [
       "    username  betweenness    degree\n",
       "0       CDC_     0.087609  0.035560\n",
       "1   corby315     0.074198  0.023471\n",
       "2   fundygud     0.051563  0.020248\n",
       "3   Lemonaxe     0.049766  0.021557\n",
       "4  bazzil350     0.049644  0.019845"
      ]
     },
     "execution_count": 17,
     "metadata": {},
     "output_type": "execute_result"
    }
   ],
   "source": [
    "'''\n",
    "The following code was used to combine centralities into a single data frame\n",
    "Since the values were saved there is no need to run it\n",
    "\n",
    "# Combine betweenness and degree centralities into a single data frame\n",
    "\n",
    "df1 = pd.DataFrame(list(centr_bw.items()), columns=['User', 'Betweenness'])\n",
    "df2 = pd.DataFrame(list(centr_deg.items()), columns=['User', 'Degree'])\n",
    "users = df1.join(df2.set_index('User'), on='User')\n",
    "users.sort_values(['Betweenness', 'Degree'], ascending = False, inplace=True)\n",
    "'''\n",
    "\n",
    "users[0:5]"
   ]
  },
  {
   "cell_type": "markdown",
   "metadata": {},
   "source": [
    "![Reddit](https://assets.ifttt.com/images/channels/1352860597/icons/on_color_small.png)\n",
    "\n",
    "### SENTIMENT ANALYSIS\n",
    "\n",
    "*------------------- sentiment analysis code goes below*"
   ]
  },
  {
   "cell_type": "code",
   "execution_count": 8,
   "metadata": {
    "collapsed": true
   },
   "outputs": [],
   "source": [
    "sid = SentimentIntensityAnalyzer()"
   ]
  },
  {
   "cell_type": "code",
   "execution_count": 9,
   "metadata": {
    "collapsed": true
   },
   "outputs": [],
   "source": [
    "child_comment = pd.DataFrame()\n",
    "\n",
    "for i in range(len(reddit_comment)):\n",
    "    stats_parent = sid.polarity_scores(reddit_comment['comment_parent'][i])\n",
    "    stats_child = sid.polarity_scores(reddit_comment['comment_child'][i])\n",
    "    child_comment = child_comment.append(stats_child, ignore_index=True)\n",
    "    reddit_comment.ix[i, 'sentiment_parent'] = max(stats_parent.iteritems(), key=operator.itemgetter(1))[0]\n",
    "    reddit_comment.ix[i, 'sentiment_child'] = max(stats_child.iteritems(), key=operator.itemgetter(1))[0]\n",
    "\n",
    "new_DF = pd.concat([reddit_comment, child_comment], axis=1)"
   ]
  },
  {
   "cell_type": "code",
   "execution_count": 10,
   "metadata": {
    "collapsed": false
   },
   "outputs": [
    {
     "data": {
      "text/html": [
       "<div>\n",
       "<table border=\"1\" class=\"dataframe\">\n",
       "  <thead>\n",
       "    <tr style=\"text-align: right;\">\n",
       "      <th></th>\n",
       "      <th>id</th>\n",
       "      <th>parent_id</th>\n",
       "      <th>author</th>\n",
       "      <th>link_id</th>\n",
       "      <th>comment_parent</th>\n",
       "      <th>responder</th>\n",
       "      <th>comment_child</th>\n",
       "      <th>sentiment_parent</th>\n",
       "      <th>sentiment_child</th>\n",
       "      <th>compound</th>\n",
       "      <th>neg</th>\n",
       "      <th>neu</th>\n",
       "      <th>pos</th>\n",
       "    </tr>\n",
       "  </thead>\n",
       "  <tbody>\n",
       "    <tr>\n",
       "      <th>0</th>\n",
       "      <td>1320251</td>\n",
       "      <td>t1_crbue4a</td>\n",
       "      <td>redditminus</td>\n",
       "      <td>t3_36959m</td>\n",
       "      <td>I think parents who don't vaccinate their chil...</td>\n",
       "      <td>Wheeeler</td>\n",
       "      <td>With face herpes</td>\n",
       "      <td>neu</td>\n",
       "      <td>neu</td>\n",
       "      <td>0.0000</td>\n",
       "      <td>0.000</td>\n",
       "      <td>1.000</td>\n",
       "      <td>0.000</td>\n",
       "    </tr>\n",
       "    <tr>\n",
       "      <th>1</th>\n",
       "      <td>1320252</td>\n",
       "      <td>t1_crbue4a</td>\n",
       "      <td>redditminus</td>\n",
       "      <td>t3_36959m</td>\n",
       "      <td>I think parents who don't vaccinate their chil...</td>\n",
       "      <td>corby315</td>\n",
       "      <td>Unfortunately it's the kids that end up gettin...</td>\n",
       "      <td>neu</td>\n",
       "      <td>neu</td>\n",
       "      <td>-0.6597</td>\n",
       "      <td>0.403</td>\n",
       "      <td>0.597</td>\n",
       "      <td>0.000</td>\n",
       "    </tr>\n",
       "    <tr>\n",
       "      <th>2</th>\n",
       "      <td>1320253</td>\n",
       "      <td>t1_crbue4a</td>\n",
       "      <td>redditminus</td>\n",
       "      <td>t3_36959m</td>\n",
       "      <td>I think parents who don't vaccinate their chil...</td>\n",
       "      <td>Theemuts</td>\n",
       "      <td>Nah man, freedom of choice and fuck all conseq...</td>\n",
       "      <td>neu</td>\n",
       "      <td>neu</td>\n",
       "      <td>0.3549</td>\n",
       "      <td>0.213</td>\n",
       "      <td>0.557</td>\n",
       "      <td>0.230</td>\n",
       "    </tr>\n",
       "    <tr>\n",
       "      <th>3</th>\n",
       "      <td>1320254</td>\n",
       "      <td>t1_crbue4a</td>\n",
       "      <td>redditminus</td>\n",
       "      <td>t3_36959m</td>\n",
       "      <td>I think parents who don't vaccinate their chil...</td>\n",
       "      <td>phuicy</td>\n",
       "      <td>They only real solution is education, because ...</td>\n",
       "      <td>neu</td>\n",
       "      <td>neu</td>\n",
       "      <td>-0.2263</td>\n",
       "      <td>0.173</td>\n",
       "      <td>0.703</td>\n",
       "      <td>0.124</td>\n",
       "    </tr>\n",
       "    <tr>\n",
       "      <th>4</th>\n",
       "      <td>1320255</td>\n",
       "      <td>t1_crbue4a</td>\n",
       "      <td>redditminus</td>\n",
       "      <td>t3_36959m</td>\n",
       "      <td>I think parents who don't vaccinate their chil...</td>\n",
       "      <td>qwerty12qwerty</td>\n",
       "      <td>Heard a good quote a few years back in Governm...</td>\n",
       "      <td>neu</td>\n",
       "      <td>compound</td>\n",
       "      <td>0.8555</td>\n",
       "      <td>0.070</td>\n",
       "      <td>0.704</td>\n",
       "      <td>0.226</td>\n",
       "    </tr>\n",
       "    <tr>\n",
       "      <th>5</th>\n",
       "      <td>1320256</td>\n",
       "      <td>t1_crbue4a</td>\n",
       "      <td>redditminus</td>\n",
       "      <td>t3_36959m</td>\n",
       "      <td>I think parents who don't vaccinate their chil...</td>\n",
       "      <td>thegreatestajax</td>\n",
       "      <td>Really? The last personal moral stance that yo...</td>\n",
       "      <td>neu</td>\n",
       "      <td>neu</td>\n",
       "      <td>-0.6072</td>\n",
       "      <td>0.220</td>\n",
       "      <td>0.780</td>\n",
       "      <td>0.000</td>\n",
       "    </tr>\n",
       "    <tr>\n",
       "      <th>6</th>\n",
       "      <td>1320257</td>\n",
       "      <td>t1_crbue4a</td>\n",
       "      <td>redditminus</td>\n",
       "      <td>t3_36959m</td>\n",
       "      <td>I think parents who don't vaccinate their chil...</td>\n",
       "      <td>Tom_Stall</td>\n",
       "      <td>Such a brave opinion on reddit.</td>\n",
       "      <td>neu</td>\n",
       "      <td>neu</td>\n",
       "      <td>0.5267</td>\n",
       "      <td>0.000</td>\n",
       "      <td>0.541</td>\n",
       "      <td>0.459</td>\n",
       "    </tr>\n",
       "    <tr>\n",
       "      <th>7</th>\n",
       "      <td>1320258</td>\n",
       "      <td>t1_crbue4a</td>\n",
       "      <td>redditminus</td>\n",
       "      <td>t3_36959m</td>\n",
       "      <td>I think parents who don't vaccinate their chil...</td>\n",
       "      <td>gamecock5446</td>\n",
       "      <td>I think Jenny McCarthy is personally responsib...</td>\n",
       "      <td>neu</td>\n",
       "      <td>neu</td>\n",
       "      <td>-0.2500</td>\n",
       "      <td>0.226</td>\n",
       "      <td>0.616</td>\n",
       "      <td>0.158</td>\n",
       "    </tr>\n",
       "    <tr>\n",
       "      <th>8</th>\n",
       "      <td>1320259</td>\n",
       "      <td>t1_crbue4a</td>\n",
       "      <td>redditminus</td>\n",
       "      <td>t3_36959m</td>\n",
       "      <td>I think parents who don't vaccinate their chil...</td>\n",
       "      <td>Thil0</td>\n",
       "      <td>what if scientists find out in a couple of yea...</td>\n",
       "      <td>neu</td>\n",
       "      <td>neu</td>\n",
       "      <td>-0.3971</td>\n",
       "      <td>0.139</td>\n",
       "      <td>0.751</td>\n",
       "      <td>0.110</td>\n",
       "    </tr>\n",
       "    <tr>\n",
       "      <th>9</th>\n",
       "      <td>1320260</td>\n",
       "      <td>t1_crbue4a</td>\n",
       "      <td>redditminus</td>\n",
       "      <td>t3_36959m</td>\n",
       "      <td>I think parents who don't vaccinate their chil...</td>\n",
       "      <td>Maharog</td>\n",
       "      <td>Their children dying of preventable diseases s...</td>\n",
       "      <td>neu</td>\n",
       "      <td>neu</td>\n",
       "      <td>-0.0258</td>\n",
       "      <td>0.314</td>\n",
       "      <td>0.378</td>\n",
       "      <td>0.308</td>\n",
       "    </tr>\n",
       "  </tbody>\n",
       "</table>\n",
       "</div>"
      ],
      "text/plain": [
       "        id   parent_id       author    link_id  \\\n",
       "0  1320251  t1_crbue4a  redditminus  t3_36959m   \n",
       "1  1320252  t1_crbue4a  redditminus  t3_36959m   \n",
       "2  1320253  t1_crbue4a  redditminus  t3_36959m   \n",
       "3  1320254  t1_crbue4a  redditminus  t3_36959m   \n",
       "4  1320255  t1_crbue4a  redditminus  t3_36959m   \n",
       "5  1320256  t1_crbue4a  redditminus  t3_36959m   \n",
       "6  1320257  t1_crbue4a  redditminus  t3_36959m   \n",
       "7  1320258  t1_crbue4a  redditminus  t3_36959m   \n",
       "8  1320259  t1_crbue4a  redditminus  t3_36959m   \n",
       "9  1320260  t1_crbue4a  redditminus  t3_36959m   \n",
       "\n",
       "                                      comment_parent        responder  \\\n",
       "0  I think parents who don't vaccinate their chil...         Wheeeler   \n",
       "1  I think parents who don't vaccinate their chil...         corby315   \n",
       "2  I think parents who don't vaccinate their chil...         Theemuts   \n",
       "3  I think parents who don't vaccinate their chil...           phuicy   \n",
       "4  I think parents who don't vaccinate their chil...   qwerty12qwerty   \n",
       "5  I think parents who don't vaccinate their chil...  thegreatestajax   \n",
       "6  I think parents who don't vaccinate their chil...        Tom_Stall   \n",
       "7  I think parents who don't vaccinate their chil...     gamecock5446   \n",
       "8  I think parents who don't vaccinate their chil...            Thil0   \n",
       "9  I think parents who don't vaccinate their chil...          Maharog   \n",
       "\n",
       "                                       comment_child sentiment_parent  \\\n",
       "0                                   With face herpes              neu   \n",
       "1  Unfortunately it's the kids that end up gettin...              neu   \n",
       "2  Nah man, freedom of choice and fuck all conseq...              neu   \n",
       "3  They only real solution is education, because ...              neu   \n",
       "4  Heard a good quote a few years back in Governm...              neu   \n",
       "5  Really? The last personal moral stance that yo...              neu   \n",
       "6                    Such a brave opinion on reddit.              neu   \n",
       "7  I think Jenny McCarthy is personally responsib...              neu   \n",
       "8  what if scientists find out in a couple of yea...              neu   \n",
       "9  Their children dying of preventable diseases s...              neu   \n",
       "\n",
       "  sentiment_child  compound    neg    neu    pos  \n",
       "0             neu    0.0000  0.000  1.000  0.000  \n",
       "1             neu   -0.6597  0.403  0.597  0.000  \n",
       "2             neu    0.3549  0.213  0.557  0.230  \n",
       "3             neu   -0.2263  0.173  0.703  0.124  \n",
       "4        compound    0.8555  0.070  0.704  0.226  \n",
       "5             neu   -0.6072  0.220  0.780  0.000  \n",
       "6             neu    0.5267  0.000  0.541  0.459  \n",
       "7             neu   -0.2500  0.226  0.616  0.158  \n",
       "8             neu   -0.3971  0.139  0.751  0.110  \n",
       "9             neu   -0.0258  0.314  0.378  0.308  "
      ]
     },
     "execution_count": 10,
     "metadata": {},
     "output_type": "execute_result"
    }
   ],
   "source": [
    "new_DF.head(10)"
   ]
  },
  {
   "cell_type": "code",
   "execution_count": 16,
   "metadata": {
    "collapsed": false
   },
   "outputs": [
    {
     "data": {
      "text/html": [
       "<div>\n",
       "<table border=\"1\" class=\"dataframe\">\n",
       "  <thead>\n",
       "    <tr style=\"text-align: right;\">\n",
       "      <th></th>\n",
       "      <th>comment_child</th>\n",
       "      <th>sentiment_child</th>\n",
       "      <th>compound</th>\n",
       "      <th>neg</th>\n",
       "      <th>neu</th>\n",
       "      <th>pos</th>\n",
       "    </tr>\n",
       "  </thead>\n",
       "  <tbody>\n",
       "    <tr>\n",
       "      <th>10</th>\n",
       "      <td>Thank you!!</td>\n",
       "      <td>pos</td>\n",
       "      <td>0.4738</td>\n",
       "      <td>0.000</td>\n",
       "      <td>0.245</td>\n",
       "      <td>0.755</td>\n",
       "    </tr>\n",
       "    <tr>\n",
       "      <th>26</th>\n",
       "      <td>I agree 100%.</td>\n",
       "      <td>pos</td>\n",
       "      <td>0.3612</td>\n",
       "      <td>0.000</td>\n",
       "      <td>0.286</td>\n",
       "      <td>0.714</td>\n",
       "    </tr>\n",
       "    <tr>\n",
       "      <th>37</th>\n",
       "      <td>yeah, herd immunity</td>\n",
       "      <td>pos</td>\n",
       "      <td>0.2960</td>\n",
       "      <td>0.000</td>\n",
       "      <td>0.476</td>\n",
       "      <td>0.524</td>\n",
       "    </tr>\n",
       "    <tr>\n",
       "      <th>95</th>\n",
       "      <td>Agree.</td>\n",
       "      <td>pos</td>\n",
       "      <td>0.3612</td>\n",
       "      <td>0.000</td>\n",
       "      <td>0.000</td>\n",
       "      <td>1.000</td>\n",
       "    </tr>\n",
       "    <tr>\n",
       "      <th>197</th>\n",
       "      <td>I hope you go blind.</td>\n",
       "      <td>pos</td>\n",
       "      <td>0.0516</td>\n",
       "      <td>0.355</td>\n",
       "      <td>0.263</td>\n",
       "      <td>0.382</td>\n",
       "    </tr>\n",
       "    <tr>\n",
       "      <th>234</th>\n",
       "      <td>Like the Kardashians!</td>\n",
       "      <td>pos</td>\n",
       "      <td>0.4199</td>\n",
       "      <td>0.000</td>\n",
       "      <td>0.417</td>\n",
       "      <td>0.583</td>\n",
       "    </tr>\n",
       "    <tr>\n",
       "      <th>316</th>\n",
       "      <td>LIke</td>\n",
       "      <td>pos</td>\n",
       "      <td>0.3612</td>\n",
       "      <td>0.000</td>\n",
       "      <td>0.000</td>\n",
       "      <td>1.000</td>\n",
       "    </tr>\n",
       "    <tr>\n",
       "      <th>476</th>\n",
       "      <td>you're so brave</td>\n",
       "      <td>pos</td>\n",
       "      <td>0.5709</td>\n",
       "      <td>0.000</td>\n",
       "      <td>0.351</td>\n",
       "      <td>0.649</td>\n",
       "    </tr>\n",
       "    <tr>\n",
       "      <th>543</th>\n",
       "      <td>Ok Bill Fisk.</td>\n",
       "      <td>pos</td>\n",
       "      <td>0.2960</td>\n",
       "      <td>0.000</td>\n",
       "      <td>0.476</td>\n",
       "      <td>0.524</td>\n",
       "    </tr>\n",
       "    <tr>\n",
       "      <th>567</th>\n",
       "      <td>Thanks Nietzsche...</td>\n",
       "      <td>pos</td>\n",
       "      <td>0.4404</td>\n",
       "      <td>0.000</td>\n",
       "      <td>0.256</td>\n",
       "      <td>0.744</td>\n",
       "    </tr>\n",
       "  </tbody>\n",
       "</table>\n",
       "</div>"
      ],
      "text/plain": [
       "             comment_child sentiment_child  compound    neg    neu    pos\n",
       "10           Thank you!!               pos    0.4738  0.000  0.245  0.755\n",
       "26          I agree 100%.              pos    0.3612  0.000  0.286  0.714\n",
       "37     yeah, herd immunity             pos    0.2960  0.000  0.476  0.524\n",
       "95                  Agree.             pos    0.3612  0.000  0.000  1.000\n",
       "197  I hope you go blind.              pos    0.0516  0.355  0.263  0.382\n",
       "234  Like the Kardashians!             pos    0.4199  0.000  0.417  0.583\n",
       "316                   LIke             pos    0.3612  0.000  0.000  1.000\n",
       "476        you're so brave             pos    0.5709  0.000  0.351  0.649\n",
       "543         Ok Bill Fisk.              pos    0.2960  0.000  0.476  0.524\n",
       "567    Thanks Nietzsche...             pos    0.4404  0.000  0.256  0.744"
      ]
     },
     "execution_count": 16,
     "metadata": {},
     "output_type": "execute_result"
    }
   ],
   "source": [
    "new_DF[new_DF['sentiment_child'] == 'pos'][[\"comment_child\",\"sentiment_child\",\"compound\",\"neg\",\"neu\",\"pos\"]].head(10)"
   ]
  },
  {
   "cell_type": "code",
   "execution_count": 17,
   "metadata": {
    "collapsed": false
   },
   "outputs": [
    {
     "data": {
      "text/html": [
       "<div>\n",
       "<table border=\"1\" class=\"dataframe\">\n",
       "  <thead>\n",
       "    <tr style=\"text-align: right;\">\n",
       "      <th></th>\n",
       "      <th>comment_child</th>\n",
       "      <th>sentiment_child</th>\n",
       "      <th>compound</th>\n",
       "      <th>neg</th>\n",
       "      <th>neu</th>\n",
       "      <th>pos</th>\n",
       "    </tr>\n",
       "  </thead>\n",
       "  <tbody>\n",
       "    <tr>\n",
       "      <th>35</th>\n",
       "      <td>I think reddit needs to stop this stupid ass, ...</td>\n",
       "      <td>neg</td>\n",
       "      <td>-0.9287</td>\n",
       "      <td>0.648</td>\n",
       "      <td>0.352</td>\n",
       "      <td>0.000</td>\n",
       "    </tr>\n",
       "    <tr>\n",
       "      <th>99</th>\n",
       "      <td>but vaccinations were created by the devil ami...</td>\n",
       "      <td>neg</td>\n",
       "      <td>-0.6808</td>\n",
       "      <td>0.418</td>\n",
       "      <td>0.411</td>\n",
       "      <td>0.171</td>\n",
       "    </tr>\n",
       "    <tr>\n",
       "      <th>182</th>\n",
       "      <td>What the fuck is wrong with you?</td>\n",
       "      <td>neg</td>\n",
       "      <td>-0.7650</td>\n",
       "      <td>0.569</td>\n",
       "      <td>0.431</td>\n",
       "      <td>0.000</td>\n",
       "    </tr>\n",
       "    <tr>\n",
       "      <th>252</th>\n",
       "      <td>Know your ignorance</td>\n",
       "      <td>neg</td>\n",
       "      <td>-0.3612</td>\n",
       "      <td>0.556</td>\n",
       "      <td>0.444</td>\n",
       "      <td>0.000</td>\n",
       "    </tr>\n",
       "    <tr>\n",
       "      <th>278</th>\n",
       "      <td>Fuck that.  I'll throw this shit where ever...</td>\n",
       "      <td>neg</td>\n",
       "      <td>-0.8294</td>\n",
       "      <td>0.564</td>\n",
       "      <td>0.436</td>\n",
       "      <td>0.000</td>\n",
       "    </tr>\n",
       "    <tr>\n",
       "      <th>310</th>\n",
       "      <td>You don't have to know shit to be angry about ...</td>\n",
       "      <td>neg</td>\n",
       "      <td>-0.8885</td>\n",
       "      <td>0.568</td>\n",
       "      <td>0.432</td>\n",
       "      <td>0.000</td>\n",
       "    </tr>\n",
       "    <tr>\n",
       "      <th>329</th>\n",
       "      <td>thats not a strong oppinion lol</td>\n",
       "      <td>neg</td>\n",
       "      <td>-0.6167</td>\n",
       "      <td>0.627</td>\n",
       "      <td>0.373</td>\n",
       "      <td>0.000</td>\n",
       "    </tr>\n",
       "    <tr>\n",
       "      <th>381</th>\n",
       "      <td>Fuck op</td>\n",
       "      <td>neg</td>\n",
       "      <td>-0.5423</td>\n",
       "      <td>0.778</td>\n",
       "      <td>0.222</td>\n",
       "      <td>0.000</td>\n",
       "    </tr>\n",
       "    <tr>\n",
       "      <th>392</th>\n",
       "      <td>Arrogant ignorance is the worst kind of ignora...</td>\n",
       "      <td>neg</td>\n",
       "      <td>-0.9062</td>\n",
       "      <td>0.755</td>\n",
       "      <td>0.245</td>\n",
       "      <td>0.000</td>\n",
       "    </tr>\n",
       "    <tr>\n",
       "      <th>394</th>\n",
       "      <td>Stop weaponizing evidence!  *STOP HARASSING ME...</td>\n",
       "      <td>neg</td>\n",
       "      <td>-0.7916</td>\n",
       "      <td>0.584</td>\n",
       "      <td>0.416</td>\n",
       "      <td>0.000</td>\n",
       "    </tr>\n",
       "  </tbody>\n",
       "</table>\n",
       "</div>"
      ],
      "text/plain": [
       "                                         comment_child sentiment_child  \\\n",
       "35   I think reddit needs to stop this stupid ass, ...             neg   \n",
       "99   but vaccinations were created by the devil ami...             neg   \n",
       "182                  What the fuck is wrong with you?              neg   \n",
       "252                                Know your ignorance             neg   \n",
       "278    Fuck that.  I'll throw this shit where ever...              neg   \n",
       "310  You don't have to know shit to be angry about ...             neg   \n",
       "329                    thats not a strong oppinion lol             neg   \n",
       "381                                            Fuck op             neg   \n",
       "392  Arrogant ignorance is the worst kind of ignora...             neg   \n",
       "394  Stop weaponizing evidence!  *STOP HARASSING ME...             neg   \n",
       "\n",
       "     compound    neg    neu    pos  \n",
       "35    -0.9287  0.648  0.352  0.000  \n",
       "99    -0.6808  0.418  0.411  0.171  \n",
       "182   -0.7650  0.569  0.431  0.000  \n",
       "252   -0.3612  0.556  0.444  0.000  \n",
       "278   -0.8294  0.564  0.436  0.000  \n",
       "310   -0.8885  0.568  0.432  0.000  \n",
       "329   -0.6167  0.627  0.373  0.000  \n",
       "381   -0.5423  0.778  0.222  0.000  \n",
       "392   -0.9062  0.755  0.245  0.000  \n",
       "394   -0.7916  0.584  0.416  0.000  "
      ]
     },
     "execution_count": 17,
     "metadata": {},
     "output_type": "execute_result"
    }
   ],
   "source": [
    "new_DF[new_DF['sentiment_child'] == 'neg'][[\"comment_child\",\"sentiment_child\",\"compound\",\"neg\",\"neu\",\"pos\"]].head(10)"
   ]
  },
  {
   "cell_type": "markdown",
   "metadata": {},
   "source": [
    "![Reddit](https://assets.ifttt.com/images/channels/1352860597/icons/on_color_small.png)\n",
    "\n",
    "### SENTIMENT SCORE AND CENTRALITY CORRELATION\n",
    "\n",
    "In this section we look if there is any correlation between centrality measures and general sentiment of users.\n",
    "\n",
    "*------------------- code below is placeholder ; needs to be replaced with score vs. betweenness and score vs.degree*"
   ]
  },
  {
   "cell_type": "code",
   "execution_count": 18,
   "metadata": {
    "collapsed": false
   },
   "outputs": [
    {
     "data": {
      "image/png": "[encoded data removed]",
      "text/plain": [
       "<matplotlib.figure.Figure at 0xe56fc18>"
      ]
     },
     "metadata": {},
     "output_type": "display_data"
    }
   ],
   "source": [
    "import numpy as np\n",
    "\n",
    "x = users.loc[:,\"betweenness\"].values\n",
    "y = users.loc[:,\"degree\"].values\n",
    "\n",
    "# Least squares polynomial fit\n",
    "m, b = np.polyfit(x, y, 1)\n",
    "\n",
    "plt.plot(x, y, '.')\n",
    "plt.plot(x, m*x + b, '-')\n",
    "plt.xlabel(\"Betweenness Centrality\")\n",
    "plt.ylabel(\"Degree Centrality\")\n",
    "plt.show()"
   ]
  },
  {
   "cell_type": "code",
   "execution_count": 19,
   "metadata": {
    "collapsed": false
   },
   "outputs": [
    {
     "data": {
      "text/plain": [
       "(0.96623334983246367, 0.0)"
      ]
     },
     "execution_count": 19,
     "metadata": {},
     "output_type": "execute_result"
    }
   ],
   "source": [
    "# Compute Pearson correlation coefficient and the p-value for testing non-correlation\n",
    "import scipy.stats\n",
    "\n",
    "scipy.stats.pearsonr(x, y)"
   ]
  },
  {
   "cell_type": "code",
   "execution_count": null,
   "metadata": {
    "collapsed": true
   },
   "outputs": [],
   "source": []
  },
  {
   "cell_type": "code",
   "execution_count": null,
   "metadata": {
    "collapsed": true
   },
   "outputs": [],
   "source": []
  },
  {
   "cell_type": "code",
   "execution_count": null,
   "metadata": {
    "collapsed": true
   },
   "outputs": [],
   "source": []
  },
  {
   "cell_type": "code",
   "execution_count": null,
   "metadata": {
    "collapsed": true
   },
   "outputs": [],
   "source": []
  }
 ],
 "metadata": {
  "anaconda-cloud": {},
  "kernelspec": {
   "display_name": "Python [conda env:python2]",
   "language": "python",
   "name": "conda-env-python2-py"
  },
  "language_info": {
   "codemirror_mode": {
    "name": "ipython",
    "version": 2
   },
   "file_extension": ".py",
   "mimetype": "text/x-python",
   "name": "python",
   "nbconvert_exporter": "python",
   "pygments_lexer": "ipython2",
   "version": "2.7.12"
  }
 },
 "nbformat": 4,
 "nbformat_minor": 2
}
