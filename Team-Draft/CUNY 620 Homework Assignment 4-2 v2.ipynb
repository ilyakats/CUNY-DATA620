{
 "cells": [
  {
   "cell_type": "markdown",
   "metadata": {},
   "source": [
    "# CUNY 620 Week 4 Assignment 2"
   ]
  },
  {
   "cell_type": "markdown",
   "metadata": {},
   "source": [
    "# High Frequency Words"
   ]
  },
  {
   "cell_type": "markdown",
   "metadata": {},
   "source": [
    "Team 2: Pavan Akula, Nathan(Seoungyoon) Lim, Christophe Hunt, Joel Park, Ilya Kats\n",
    "\n",
    "Please answer the following questions in an IPython Notebook, posted to GitHub.\n",
    "\n",
    "1. Choose a corpus of interest.\n",
    "2. How many total unique words are in the corpus? (Please feel free to define unique words in any interesting, defensible way).\n",
    "3. Taking the most common words, how many unique words represent half of the total words in the corpus?\n",
    "4. Identify the 200 highest frequency words in this corpus.\n",
    "5. Create a graph that shows the relative frequency of these 200 words.\n",
    "6. Does the observed relative frequency of these words follow Zipf’s law? Explain.\n",
    "7. In what ways do you think the frequency of the words in this corpus differ from “all words in all corpora.”"
   ]
  },
  {
   "cell_type": "markdown",
   "metadata": {},
   "source": [
    "1. Choose a corpus of interest.\n",
    "\n",
    "The corpus of interest that we will tackle is the candidate speeches between Donald Trump and Hillary Clinton in 2016.\n",
    "\n",
    "Let's load the corpus. Let's start with Hillary Clinton and then load Donald Trump's speeches."
   ]
  },
  {
   "cell_type": "code",
   "execution_count": 2,
   "metadata": {},
   "outputs": [
    {
     "name": "stdout",
     "output_type": "stream",
     "text": [
      "*** Introductory Examples for the NLTK Book ***\n",
      "Loading text1, ..., text9 and sent1, ..., sent9\n",
      "Type the name of the text or sentence to view it.\n",
      "Type: 'texts()' or 'sents()' to list the materials.\n",
      "text1: Moby Dick by Herman Melville 1851\n",
      "text2: Sense and Sensibility by Jane Austen 1811\n",
      "text3: The Book of Genesis\n",
      "text4: Inaugural Address Corpus\n",
      "text5: Chat Corpus\n",
      "text6: Monty Python and the Holy Grail\n",
      "text7: Wall Street Journal\n",
      "text8: Personals Corpus\n",
      "text9: The Man Who Was Thursday by G . K . Chesterton 1908\n"
     ]
    }
   ],
   "source": [
    "# Citing a webpage that I referenced:\n",
    "# Resource: https://technaverbascripta.wordpress.com/2012/\n",
    "# 09/25/loading-a-corpus-into-the-natural-language-toolkit/\n",
    "\n",
    "# Load libraries\n",
    "import nltk\n",
    "import re # Will need regular expressions to clean up the texts\n",
    "from nltk.book import *"
   ]
  },
  {
   "cell_type": "code",
   "execution_count": 58,
   "metadata": {
    "collapsed": true
   },
   "outputs": [],
   "source": [
    "# Will download from github repository: \n",
    "# https://github.com/ilyakats/CUNY-DATA620/blob/master/data/Clinton-Trump%20Corpus.zip?raw=true\n",
    "# and unzip the file.\n",
    "\n",
    "import urllib, os, zipfile, glob\n",
    "from IPython.core.interactiveshell import InteractiveShell\n",
    "InteractiveShell.ast_node_interactivity = \"all\""
   ]
  },
  {
   "cell_type": "code",
   "execution_count": 59,
   "metadata": {
    "collapsed": true
   },
   "outputs": [],
   "source": [
    "open('Clinton-Trump Corpus.zip', 'wb').write(urllib.urlopen('https://github.com/ilyakats/CUNY-DATA620/blob/master/data/Clinton-Trump%20Corpus.zip?raw=true').read())"
   ]
  },
  {
   "cell_type": "code",
   "execution_count": 60,
   "metadata": {},
   "outputs": [],
   "source": [
    "zip_ref = zipfile.ZipFile(os.path.realpath('Clinton-Trump Corpus.zip'), 'r')\n",
    "zip_ref.extractall(os.path.realpath(''))\n",
    "zip_ref.close()"
   ]
  },
  {
   "cell_type": "code",
   "execution_count": 61,
   "metadata": {},
   "outputs": [],
   "source": [
    "base_directory = os.getcwd()\n",
    "os.chdir(base_directory + '/Clinton-Trump Corpus/Clinton')"
   ]
  },
  {
   "cell_type": "code",
   "execution_count": 62,
   "metadata": {},
   "outputs": [],
   "source": [
    "# Looking at the first document\n",
    "f = open('Clinton_2016-07-28.txt', 'rU')\n",
    "text = f.read()\n",
    "text1 = text.split()\n",
    "abstracts = nltk.Text(text1)"
   ]
  },
  {
   "cell_type": "code",
   "execution_count": 31,
   "metadata": {},
   "outputs": [
    {
     "name": "stdout",
     "output_type": "stream",
     "text": [
      "Displaying 14 of 14 matches:\n",
      "                                     Thank you. Thank you so much. <APPLAUSE> T\n",
      "                                     Thank you so much. <APPLAUSE> Thank you. T\n",
      "k you. Thank you so much. <APPLAUSE> Thank you. Thank you all so much. <APPLAUS\n",
      "k you so much. <APPLAUSE> Thank you. Thank you all so much. <APPLAUSE> <CLINTON\n",
      "u all so much. <APPLAUSE> <CLINTON:> Thank you! Thank you! <APPLAUSE> Thank you\n",
      "ch. <APPLAUSE> <CLINTON:> Thank you! Thank you! <APPLAUSE> Thank you all very, \n",
      "N:> Thank you! Thank you! <APPLAUSE> Thank you all very, very much! Thank you f\n",
      "AUSE> Thank you all very, very much! Thank you for that amazing welcome! Thank \n",
      " Thank you for that amazing welcome! Thank you all for the great convention tha\n",
      "t we've had. <APPLAUSE> And Chelsea, thank you. I am so proud to be your mother\n",
      "so proud of the woman you've become. Thank you for bringing Mark into our famil\n",
      " who joined this campaign this week, thank you. What a remarkable week it's bee\n",
      " president. <APPLAUSE> And I want to thank Bernie Sanders. <APPLAUSE> Bernie, y\n",
      ", America will be greater than ever! Thank you, and may God bless you and the U\n"
     ]
    }
   ],
   "source": [
    "# By using the concordance function in nltk, we can take a look at all the words that surround\n",
    "# and make the context for the thank you!\n",
    "abstracts.concordance('thank')"
   ]
  },
  {
   "cell_type": "code",
   "execution_count": 39,
   "metadata": {},
   "outputs": [
    {
     "data": {
      "text/plain": [
       "<Text: <title=\"Hillary Clinton delivers remarks at the 2016 Democratic...>"
      ]
     },
     "execution_count": 39,
     "metadata": {},
     "output_type": "execute_result"
    }
   ],
   "source": [
    "# The beginning portions of the first speech...\n",
    "abstracts"
   ]
  },
  {
   "cell_type": "markdown",
   "metadata": {},
   "source": [
    "As you can see, there's a lot of 'fluff' i.e. tags APPLAUSE and CLINTON. that we do not want to take into consideration when we perform text analysis. We will get back to this at a later time. Let's take a look into the rest of the speeches."
   ]
  },
  {
   "cell_type": "code",
   "execution_count": 40,
   "metadata": {},
   "outputs": [
    {
     "name": "stdout",
     "output_type": "stream",
     "text": [
      "36\n"
     ]
    }
   ],
   "source": [
    "# How many Clinton speeches are there?\n",
    "print len([name for name in os.listdir('.') if os.path.isfile(name)])"
   ]
  },
  {
   "cell_type": "markdown",
   "metadata": {},
   "source": [
    "As we mentioned above, when we inspect the all of the documents more closely, there's a lot of tags that should not be used for text analysis. For example, the  tags AUDIENCE, TITLE, or the moderators. After looking at a series of documents, it appears that Clinton and Trump's statements do not have tags around their bodies of statements. Therefore, we'll use regular expressions to take the excess, and unnecessary texts. And then once we have cleaned up the text, we will load them into one list called 'clinton_list'."
   ]
  },
  {
   "cell_type": "code",
   "execution_count": 63,
   "metadata": {
    "collapsed": true
   },
   "outputs": [],
   "source": [
    "# Create a list of Clinton speeches\n",
    "clinton_list = []\n",
    "\n",
    "for name in os.listdir('.'):\n",
    "    f = open(name, 'rU')\n",
    "    text = f.read()\n",
    "    mod_text = re.sub('<.*?>', '', text) #Remove all of the unnecessary <> tags\n",
    "    text1 = mod_text.split()\n",
    "    abstracts = nltk.Text(text1)\n",
    "    clinton_list.append(abstracts)"
   ]
  },
  {
   "cell_type": "code",
   "execution_count": 36,
   "metadata": {},
   "outputs": [
    {
     "data": {
      "text/plain": [
       "[<Text: Thank you very much. We had an amazing...>,\n",
       " <Text: Thank you, Mike. Thank you, everybody. Who ?...>,\n",
       " <Text: Thank you very much, everybody. Wow. Thank you....>,\n",
       " <Text: So, it's been 235 days since crooked Hillary...>,\n",
       " <Text: Thank you. Whoa. Whoa. This is amazing. This...>,\n",
       " <Text: Thank you. Thank you. Thank you very much....>,\n",
       " <Text: Thank you. So we have tremendous crowds of...>,\n",
       " <Text: I want to tell you, you happen to...>,\n",
       " <Text: So how good is he? How good is...>,\n",
       " <Text: Thank you,everybody. Thank you very much. Thank you....>]"
      ]
     },
     "execution_count": 36,
     "metadata": {},
     "output_type": "execute_result"
    }
   ],
   "source": [
    "# List the first 10 speeches for Clinton\n",
    "clinton_list[:10]"
   ]
  },
  {
   "cell_type": "code",
   "execution_count": 33,
   "metadata": {},
   "outputs": [
    {
     "data": {
      "text/plain": [
       "<Text: Thank you. Thank you so much. Thank you....>"
      ]
     },
     "execution_count": 33,
     "metadata": {},
     "output_type": "execute_result"
    }
   ],
   "source": [
    "# Again, let's take a look at the cleaner version of the first speech\n",
    "clinton_list[0]\n",
    "\n",
    "# As you can see, the text is cleaned up quite significantly."
   ]
  },
  {
   "cell_type": "markdown",
   "metadata": {},
   "source": [
    "2. How many total unique words are in the corpus? (Please feel free to define unique words in any interesting, defensible way)."
   ]
  },
  {
   "cell_type": "code",
   "execution_count": 43,
   "metadata": {},
   "outputs": [
    {
     "data": {
      "text/plain": [
       "5410"
      ]
     },
     "execution_count": 43,
     "metadata": {},
     "output_type": "execute_result"
    }
   ],
   "source": [
    "# Let's take the first speech and count how many words there are?\n",
    "len(clinton_list[0])"
   ]
  },
  {
   "cell_type": "markdown",
   "metadata": {},
   "source": [
    "As you can see, there are a total of 5410 words. However, we need to find the total amount of unique words that are in the corpus (at least for this first speech). Let's use the function set(). "
   ]
  },
  {
   "cell_type": "code",
   "execution_count": 44,
   "metadata": {},
   "outputs": [
    {
     "data": {
      "text/plain": [
       "1776"
      ]
     },
     "execution_count": 44,
     "metadata": {},
     "output_type": "execute_result"
    }
   ],
   "source": [
    "len(set(clinton_list[0]))"
   ]
  },
  {
   "cell_type": "markdown",
   "metadata": {},
   "source": [
    "There are 1776 (like the birth year of America) unique words in the first speech alone. Now let's perform the same function, but over the entire list for clinton_list.\n",
    "\n",
    "There are many different variations of the same word in this corpus. For example, 'bringing' and 'bring' will be considered one unique word, and not two separate words. To do this, we will be 'stemming' the words so that way we can try to standardize the words in a way that won't create accidental duplicates of the words (and get counted twice.)\n",
    "\n",
    "From the website noted below, the defintion of stemming is: \"Interfaces used to remove morphological affixes from words, leavingonly the word stem. Stemming algorithms aim to remove those affixes required for eg. grammatical role, tense, derivational morphology leaving only the stem of the word.  This is a difficult problem due to irregular words (eg. common verbs in English), complicated morphological rules, and part-of-speech and sense ambiguities (eg. ``ceil-`` is not the stem of ``ceiling``).\""
   ]
  },
  {
   "cell_type": "code",
   "execution_count": 64,
   "metadata": {},
   "outputs": [
    {
     "data": {
      "text/plain": [
       "['thank',\n",
       " 'you',\n",
       " 'so',\n",
       " 'much',\n",
       " 'all',\n",
       " u'veri',\n",
       " 'for',\n",
       " 'that',\n",
       " u'amaz',\n",
       " u'welcom',\n",
       " 'the',\n",
       " 'great',\n",
       " u'convent',\n",
       " 'weve',\n",
       " 'had']"
      ]
     },
     "execution_count": 64,
     "metadata": {},
     "output_type": "execute_result"
    }
   ],
   "source": [
    "# https://stackoverflow.com/questions/771918/how-do-i-do-word-stemming-or-lemmatization\n",
    "from nltk.stem.porter import PorterStemmer\n",
    "\n",
    "# There are three main stemmer algorithms: Lancaster, Porter, and Snowball\n",
    "# In this particular example, we will use the PorterStemmer by random selection\n",
    "\n",
    "porter_stemmer = PorterStemmer()\n",
    "\n",
    "word_list_clinton = []\n",
    "for speech in (clinton_list):\n",
    "    for word in speech:\n",
    "        # https://stackoverflow.com/questions/265960/best-way-to-strip-punctuation-from-a-string-in-python\n",
    "        word2 = re.sub(r'[^\\w\\s]','',word)\n",
    "        temp = porter_stemmer.stem(word2)\n",
    "        if temp not in word_list_clinton:\n",
    "            word_list_clinton.append(temp)\n",
    "\n",
    "# Will list the first 15 words. This will demonstrate how the words are standarized and stemmed.\n",
    "word_list_clinton[:15]"
   ]
  },
  {
   "cell_type": "code",
   "execution_count": 56,
   "metadata": {},
   "outputs": [
    {
     "data": {
      "text/plain": [
       "4431"
      ]
     },
     "execution_count": 56,
     "metadata": {},
     "output_type": "execute_result"
    }
   ],
   "source": [
    "# Given that the word_list is already unique, we can simply count the amount of words in the\n",
    "# list to give us number of unique words in the Clinton Speech Corpus.\n",
    "len(word_list_clinton)"
   ]
  },
  {
   "cell_type": "markdown",
   "metadata": {},
   "source": [
    "Now let us perform the same workup but for Donald Trump's speeches"
   ]
  },
  {
   "cell_type": "code",
   "execution_count": 65,
   "metadata": {},
   "outputs": [
    {
     "data": {
      "text/plain": [
       "[<Text: Thank you very much. We had an amazing...>,\n",
       " <Text: Thank you, Mike. Thank you, everybody. Who ?...>,\n",
       " <Text: Thank you very much, everybody. Wow. Thank you....>,\n",
       " <Text: So, it's been 235 days since crooked Hillary...>,\n",
       " <Text: Thank you. Whoa. Whoa. This is amazing. This...>,\n",
       " <Text: Thank you. Thank you. Thank you very much....>,\n",
       " <Text: Thank you. So we have tremendous crowds of...>,\n",
       " <Text: I want to tell you, you happen to...>,\n",
       " <Text: So how good is he? How good is...>,\n",
       " <Text: Thank you,everybody. Thank you very much. Thank you....>]"
      ]
     },
     "execution_count": 65,
     "metadata": {},
     "output_type": "execute_result"
    }
   ],
   "source": [
    "# Again, we will perform the same for Trump's speeches\n",
    "os.chdir(base_directory + '/Clinton-Trump Corpus/Trump')\n",
    "\n",
    "trump_list = []\n",
    "\n",
    "for name in os.listdir('.'):\n",
    "    f = open(name, 'rU')\n",
    "    text = f.read()\n",
    "    mod_text = re.sub('<.*?>', '', text) #Remove all of the unnecessary <> tags\n",
    "    text1 = mod_text.split()\n",
    "    abstracts = nltk.Text(text1)\n",
    "    trump_list.append(abstracts)\n",
    "\n",
    "# List the first 10 speeches from Trump\n",
    "trump_list[:10]"
   ]
  },
  {
   "cell_type": "code",
   "execution_count": 66,
   "metadata": {},
   "outputs": [
    {
     "data": {
      "text/plain": [
       "['thank',\n",
       " 'you',\n",
       " u'veri',\n",
       " 'much',\n",
       " 'We',\n",
       " 'had',\n",
       " 'an',\n",
       " u'amaz',\n",
       " u'convent',\n",
       " 'that',\n",
       " u'wa',\n",
       " 'one',\n",
       " 'of',\n",
       " 'the',\n",
       " 'best']"
      ]
     },
     "execution_count": 66,
     "metadata": {},
     "output_type": "execute_result"
    }
   ],
   "source": [
    "word_list_trump = []\n",
    "for speech in (trump_list):\n",
    "    for word in speech:\n",
    "        # https://stackoverflow.com/questions/265960/best-way-to-strip-punctuation-from-a-string-in-python\n",
    "        word2 = re.sub(r'[^\\w\\s]','',word)\n",
    "        temp = porter_stemmer.stem(word2)\n",
    "        if temp not in word_list_trump:\n",
    "            word_list_trump.append(temp)\n",
    "\n",
    "# Example with 15 words from Trump that are now standardized and stemmed.\n",
    "word_list_trump[:15]"
   ]
  },
  {
   "cell_type": "markdown",
   "metadata": {},
   "source": [
    "Above, is the list of unique word list for Donald Trump's speeches."
   ]
  },
  {
   "cell_type": "code",
   "execution_count": 67,
   "metadata": {},
   "outputs": [
    {
     "data": {
      "text/plain": [
       "6167"
      ]
     },
     "execution_count": 67,
     "metadata": {},
     "output_type": "execute_result"
    }
   ],
   "source": [
    "# Total unique word count for Donald Trump's speeches\n",
    "len(word_list_trump)"
   ]
  },
  {
   "cell_type": "markdown",
   "metadata": {},
   "source": [
    "Believe it or not, it appears that Donald Trump has used more unique words than Hillary Clinton. (However, the quality of the words could be up for debate!)"
   ]
  },
  {
   "cell_type": "markdown",
   "metadata": {},
   "source": [
    "#3. Taking the most common words, how many unique words represent half of the total words in the corpus?\n",
    "\n",
    "#4. Identify the 200 highest frequency words in this corpus.\n",
    "\n",
    "#5. Create a graph that shows the relative frequency of these 200 words.\n",
    "\n",
    "These 3 questions will be addressed simultaneously as by addressing one of these questions, we can certainly address the other two questions. (The questions will be answered slightly out of order.) "
   ]
  },
  {
   "cell_type": "markdown",
   "metadata": {},
   "source": [
    "In order to calculate how many unique words repreent half of the total words in the corpus, we need to calculate the total number of words for all of the speech corpus for each candidate (Donald Trump and Hillary Clinton). "
   ]
  },
  {
   "cell_type": "code",
   "execution_count": 67,
   "metadata": {},
   "outputs": [
    {
     "data": {
      "text/plain": [
       "114305"
      ]
     },
     "execution_count": 67,
     "metadata": {},
     "output_type": "execute_result"
    }
   ],
   "source": [
    "# Hillary Clinton\n",
    "# Again, quite similarly, will create an entire list of all of the speeches.\n",
    "# The code will look quite similar as above, but with some slight differences\n",
    "hillary_speech = []\n",
    "\n",
    "for speech in clinton_list:\n",
    "    for word in speech:\n",
    "        word2 = re.sub(r'[^\\w\\s]','',word)\n",
    "        temp = porter_stemmer.stem(word2)\n",
    "        hillary_speech.append(temp)\n",
    "        \n",
    "# Calculate the total amount of words in the Hillary's speech corpus\n",
    "total_words_clinton = len(hillary_speech)\n",
    "total_words_clinton"
   ]
  },
  {
   "cell_type": "code",
   "execution_count": 49,
   "metadata": {},
   "outputs": [
    {
     "data": {
      "text/plain": [
       "57152"
      ]
     },
     "execution_count": 49,
     "metadata": {},
     "output_type": "execute_result"
    }
   ],
   "source": [
    "# Therefore half of the total amount of words would be:\n",
    "from __future__ import division # Given python 2, will give floating numbers, instead of ints\n",
    "half_words_clinton = int(total_words_clinton/2) # need to round to a whole number, since\n",
    "                                                # we can't have a fraction of a word\n",
    "half_words_clinton"
   ]
  },
  {
   "cell_type": "code",
   "execution_count": 23,
   "metadata": {
    "collapsed": true
   },
   "outputs": [],
   "source": [
    "# Convert list into string\n",
    "# https://stackoverflow.com/questions/5618878/how-to-convert-list-to-string\n",
    "\n",
    "hillary_str = ' '.join(hillary_speech)"
   ]
  },
  {
   "cell_type": "code",
   "execution_count": 33,
   "metadata": {},
   "outputs": [
    {
     "data": {
      "text/plain": [
       "[u'temperament',\n",
       " u'SO',\n",
       " u'four',\n",
       " u'catch',\n",
       " u'protest',\n",
       " u'halloween',\n",
       " u'sleep',\n",
       " u'asian',\n",
       " u'eskelsen',\n",
       " u'oper']"
      ]
     },
     "execution_count": 33,
     "metadata": {},
     "output_type": "execute_result"
    }
   ],
   "source": [
    "# Using Conditional Frequency Distribution\n",
    "# https://stackoverflow.com/questions/4634787/freqdist-with-nltk\n",
    "\n",
    "words = nltk.tokenize.word_tokenize(hillary_str)\n",
    "fdist_clinton = FreqDist(words)\n",
    "list(fdist_clinton)[:10]"
   ]
  },
  {
   "cell_type": "code",
   "execution_count": 111,
   "metadata": {},
   "outputs": [
    {
     "data": {
      "text/plain": [
       "[(u'to', 4418),\n",
       " (u'and', 4390),\n",
       " (u'the', 3956),\n",
       " (u'I', 2581),\n",
       " (u'of', 2261),\n",
       " (u'that', 2183),\n",
       " (u'a', 1994),\n",
       " (u'you', 1948),\n",
       " (u'in', 1716),\n",
       " (u'we', 1400),\n",
       " (u'for', 1308),\n",
       " (u'it', 1205),\n",
       " (u'is', 1120),\n",
       " (u'our', 1077),\n",
       " (u'have', 1022),\n",
       " (u'he', 852),\n",
       " (u'be', 831),\n",
       " (u'what', 822),\n",
       " (u'go', 764),\n",
       " (u'thi', 756),\n",
       " (u'are', 740),\n",
       " (u'peopl', 677),\n",
       " (u'do', 674),\n",
       " (u'not', 658),\n",
       " (u'know', 655),\n",
       " (u'on', 652),\n",
       " (u'who', 627),\n",
       " (u'with', 601),\n",
       " (u'work', 581),\n",
       " (u'all', 581),\n",
       " (u'about', 579),\n",
       " (u'want', 566),\n",
       " (u'but', 555),\n",
       " (u'were', 552),\n",
       " (u'will', 550),\n",
       " (u'can', 532),\n",
       " (u'make', 507),\n",
       " (u'as', 502),\n",
       " (u'wa', 498),\n",
       " (u'becaus', 496),\n",
       " (u'get', 486),\n",
       " (u'they', 483),\n",
       " (u'your', 469),\n",
       " (u'so', 466),\n",
       " (u'my', 455),\n",
       " (u'america', 425),\n",
       " (u'just', 408),\n",
       " (u'trump', 393),\n",
       " (u'out', 381),\n",
       " (u'countri', 377),\n",
       " (u'when', 374),\n",
       " (u'here', 372),\n",
       " (u'at', 371),\n",
       " (u'We', 368),\n",
       " (u'presid', 359),\n",
       " (u'more', 358),\n",
       " (u'from', 355),\n",
       " (u'hi', 353),\n",
       " (u'now', 352),\n",
       " (u'up', 352),\n",
       " (u'american', 351),\n",
       " (u'So', 346),\n",
       " (u'think', 340),\n",
       " (u'say', 328),\n",
       " (u'me', 322),\n",
       " (u'us', 308),\n",
       " (u'ha', 308),\n",
       " (u'job', 304),\n",
       " (u'there', 302),\n",
       " (u'vote', 298),\n",
       " (u'if', 295),\n",
       " (u'got', 294),\n",
       " (u'said', 293),\n",
       " (u'or', 292),\n",
       " (u'right', 289),\n",
       " (u'famili', 283),\n",
       " (u'how', 280),\n",
       " (u'one', 278),\n",
       " (u'their', 275),\n",
       " (u'believ', 266),\n",
       " (u'donald', 260),\n",
       " (u'well', 260),\n",
       " (u'togeth', 257),\n",
       " (u'everi', 254),\n",
       " (u'by', 253),\n",
       " (u'thank', 245),\n",
       " (u'Im', 241),\n",
       " (u'elect', 240),\n",
       " (u'realli', 240),\n",
       " (u'an', 238),\n",
       " (u'them', 237),\n",
       " (u'help', 232),\n",
       " (u'would', 224),\n",
       " (u'dont', 224),\n",
       " (u'need', 224),\n",
       " (u'had', 222),\n",
       " (u'He', 219),\n",
       " (u'been', 217),\n",
       " (u'state', 204),\n",
       " (u'like', 202),\n",
       " (u'year', 201),\n",
       " (u'great', 197),\n",
       " (u'tell', 195),\n",
       " (u'back', 195),\n",
       " (u'pay', 193),\n",
       " (u'other', 193),\n",
       " (u'day', 192),\n",
       " (u'time', 190),\n",
       " (u'good', 189),\n",
       " (u'talk', 188),\n",
       " (u'should', 187),\n",
       " (u'new', 185),\n",
       " (u'take', 184),\n",
       " (u'those', 184),\n",
       " (u'am', 178),\n",
       " (u'than', 177),\n",
       " (u'let', 175),\n",
       " (u'where', 173),\n",
       " (u'mani', 170),\n",
       " (u'It', 170),\n",
       " (u'campaign', 166),\n",
       " (u'lot', 165),\n",
       " (u'then', 164),\n",
       " (u'way', 163),\n",
       " (u'busi', 162),\n",
       " (u'ive', 162),\n",
       " (u'weve', 161),\n",
       " (u'see', 160),\n",
       " (u'come', 158),\n",
       " (u'could', 158),\n",
       " (u'some', 157),\n",
       " (u'look', 153),\n",
       " (u'hard', 150),\n",
       " (u'also', 148),\n",
       " (u'she', 148),\n",
       " (u'him', 147),\n",
       " (u'support', 145),\n",
       " (u'economi', 145),\n",
       " (u'thing', 145),\n",
       " (u'tax', 144),\n",
       " (u'did', 143),\n",
       " (u'start', 142),\n",
       " (u'sure', 140),\n",
       " (u'no', 136),\n",
       " (u'live', 136),\n",
       " (u'kind', 136),\n",
       " (u'plan', 136),\n",
       " (u'young', 135),\n",
       " (u'even', 134),\n",
       " (u'nation', 132),\n",
       " (u'world', 132),\n",
       " (u'down', 130),\n",
       " (u'everybodi', 130),\n",
       " (u'friend', 130),\n",
       " (u'women', 129),\n",
       " (u'much', 128),\n",
       " (u'into', 127),\n",
       " (u'colleg', 126),\n",
       " (u'put', 126),\n",
       " (u'million', 125),\n",
       " (u'care', 123),\n",
       " (u'first', 123),\n",
       " (u'whi', 122),\n",
       " (u'everyon', 121),\n",
       " (u'hope', 119),\n",
       " (u'futur', 119),\n",
       " (u'small', 118),\n",
       " (u'last', 118),\n",
       " (u'veri', 117),\n",
       " (u'ask', 117),\n",
       " (u'never', 116),\n",
       " (u'these', 114),\n",
       " (u'cant', 113),\n",
       " (u'senat', 113),\n",
       " (u'ani', 112),\n",
       " (u'If', 110),\n",
       " (u'give', 109),\n",
       " (u'kid', 108),\n",
       " (u'her', 108),\n",
       " (u'build', 108),\n",
       " (u'stand', 107),\n",
       " (u'republican', 105),\n",
       " (u'call', 104),\n",
       " (u'creat', 104),\n",
       " (u'keep', 103),\n",
       " (u'someth', 103),\n",
       " (u'everyth', 102),\n",
       " (u'done', 102),\n",
       " (u'person', 102),\n",
       " (u'better', 100),\n",
       " (u'happen', 99),\n",
       " (u'import', 98),\n",
       " (u'after', 97),\n",
       " (u'mean', 97),\n",
       " (u'tri', 97),\n",
       " (u'school', 96),\n",
       " (u'too', 96),\n",
       " (u'unit', 95),\n",
       " (u'onli', 93),\n",
       " (u'commun', 93)]"
      ]
     },
     "execution_count": 111,
     "metadata": {},
     "output_type": "execute_result"
    }
   ],
   "source": [
    "# Answering question 4 for the 200 most commonly (unique) used words in the Clinton Corpus\n",
    "# https://stackoverflow.com/questions/23042699/freqdist-in-nltk-not-sorting-output\n",
    "fdist_clinton.most_common(200)"
   ]
  },
  {
   "cell_type": "code",
   "execution_count": 112,
   "metadata": {},
   "outputs": [
    {
     "data": {
      "image/png": "[encoded data removed]",
      "text/plain": [
       "<matplotlib.figure.Figure at 0x130a89590>"
      ]
     },
     "metadata": {},
     "output_type": "display_data"
    }
   ],
   "source": [
    "# To answer question 5, create a graph that shows the relative frequency of these 200 words.\n",
    "fdist_clinton.plot(200, cumulative = False)"
   ]
  },
  {
   "cell_type": "code",
   "execution_count": 110,
   "metadata": {},
   "outputs": [
    {
     "data": {
      "image/png": "[encoded data removed]",
      "text/plain": [
       "<matplotlib.figure.Figure at 0x1309a3d10>"
      ]
     },
     "metadata": {},
     "output_type": "display_data"
    }
   ],
   "source": [
    "# To make visualization easier on the eyes, will only do the first 40 highest frequency words\n",
    "fdist_clinton.plot(40, cumulative = True)"
   ]
  },
  {
   "cell_type": "markdown",
   "metadata": {},
   "source": [
    "As you can see from the above graph that we are at 40 words and have not yet hit 50k words to make the halfway mark. (The number to reach for halfway mark is: 57152). Let's find out how many unique words does it take to make it to 57152! (This will answer question 3). "
   ]
  },
  {
   "cell_type": "code",
   "execution_count": 125,
   "metadata": {},
   "outputs": [
    {
     "name": "stdout",
     "output_type": "stream",
     "text": [
      "('Total number of unique words to make half of the words is:', 63)\n"
     ]
    }
   ],
   "source": [
    "total_word_count = 0\n",
    "unique_count = 0\n",
    "\n",
    "for word, count in fdist_clinton.most_common(200):\n",
    "    if total_word_count < 57152:\n",
    "        unique_count = unique_count + 1\n",
    "        total_word_count = total_word_count + count\n",
    "    else:\n",
    "        print(\"Total number of unique words to make half of the words is:\", unique_count)\n",
    "        break"
   ]
  },
  {
   "cell_type": "markdown",
   "metadata": {},
   "source": [
    "We can perform a similar feat again for Donald Trump's speeches and answer these following questions."
   ]
  },
  {
   "cell_type": "code",
   "execution_count": 51,
   "metadata": {},
   "outputs": [
    {
     "data": {
      "text/plain": [
       "430570"
      ]
     },
     "execution_count": 51,
     "metadata": {},
     "output_type": "execute_result"
    }
   ],
   "source": [
    "donald_speech = []\n",
    "\n",
    "for speech in trump_list:\n",
    "    for word in speech:\n",
    "        word2 = re.sub(r'[^\\w\\s]','',word)\n",
    "        temp = porter_stemmer.stem(word2)\n",
    "        donald_speech.append(temp)\n",
    "        \n",
    "# Calculate the total amount of words in the Donald's speech corpus\n",
    "total_words_trump = len(donald_speech)\n",
    "total_words_trump"
   ]
  },
  {
   "cell_type": "code",
   "execution_count": 52,
   "metadata": {},
   "outputs": [
    {
     "data": {
      "text/plain": [
       "215285"
      ]
     },
     "execution_count": 52,
     "metadata": {},
     "output_type": "execute_result"
    }
   ],
   "source": [
    "half_words_trump = int(total_words_trump/2) # need to round to a whole number, since\n",
    "                                                # we can't have a fraction of a word\n",
    "half_words_trump "
   ]
  },
  {
   "cell_type": "code",
   "execution_count": 53,
   "metadata": {
    "collapsed": true
   },
   "outputs": [],
   "source": [
    "# Stringing all of Trump's speech into one long raw string.\n",
    "donald_str = ' '.join(donald_speech)"
   ]
  },
  {
   "cell_type": "code",
   "execution_count": 54,
   "metadata": {},
   "outputs": [
    {
     "data": {
      "text/plain": [
       "[u'yellow',\n",
       " u'four',\n",
       " u'jihad',\n",
       " u'fouryear',\n",
       " u'scold',\n",
       " u'lord',\n",
       " u'digit',\n",
       " u'780000',\n",
       " u'publicpriv',\n",
       " u'honeywel']"
      ]
     },
     "execution_count": 54,
     "metadata": {},
     "output_type": "execute_result"
    }
   ],
   "source": [
    "words_d = nltk.tokenize.word_tokenize(donald_str)\n",
    "fdist_trump = FreqDist(words_d)\n",
    "list(fdist_trump)[:10]"
   ]
  },
  {
   "cell_type": "code",
   "execution_count": 55,
   "metadata": {},
   "outputs": [
    {
     "data": {
      "text/plain": [
       "[(u'the', 15826),\n",
       " (u'and', 14376),\n",
       " (u'to', 13644),\n",
       " (u'of', 8364),\n",
       " (u'a', 8060),\n",
       " (u'it', 7572),\n",
       " (u'you', 7549),\n",
       " (u'I', 7480),\n",
       " (u'that', 6649),\n",
       " (u'go', 5880),\n",
       " (u'in', 5650),\n",
       " (u'have', 4965),\n",
       " (u'we', 4325),\n",
       " (u'they', 4146),\n",
       " (u'our', 3970),\n",
       " (u'is', 3894),\n",
       " (u'were', 3730),\n",
       " (u'for', 3449),\n",
       " (u'are', 3288),\n",
       " (u'thi', 3272),\n",
       " (u'be', 3185),\n",
       " (u'peopl', 3167),\n",
       " (u'will', 3041),\n",
       " (u'she', 2747),\n",
       " (u'but', 2679),\n",
       " (u'We', 2573),\n",
       " (u'what', 2476),\n",
       " (u'know', 2443),\n",
       " (u'do', 2406),\n",
       " (u'countri', 2217),\n",
       " (u'wa', 2103),\n",
       " (u'not', 2080),\n",
       " (u'all', 2048),\n",
       " (u'with', 1963),\n",
       " (u'on', 1923),\n",
       " (u'your', 1890),\n",
       " (u'so', 1878),\n",
       " (u'want', 1865),\n",
       " (u'dont', 1772),\n",
       " (u'great', 1735),\n",
       " (u'get', 1732),\n",
       " (u'veri', 1696),\n",
       " (u'job', 1629),\n",
       " (u'said', 1586),\n",
       " (u'one', 1571),\n",
       " (u'right', 1538),\n",
       " (u'hillari', 1522),\n",
       " (u'say', 1463),\n",
       " (u'theyr', 1462),\n",
       " (u'like', 1427),\n",
       " (u'about', 1386),\n",
       " (u'he', 1373),\n",
       " (u'out', 1365),\n",
       " (u'just', 1358),\n",
       " (u'them', 1350),\n",
       " (u'clinton', 1346),\n",
       " (u'becaus', 1328),\n",
       " (u'me', 1294),\n",
       " (u'by', 1286),\n",
       " (u'at', 1283),\n",
       " (u'there', 1162),\n",
       " (u'Im', 1160),\n",
       " (u'So', 1156),\n",
       " (u'been', 1150),\n",
       " (u'now', 1148),\n",
       " (u'make', 1147),\n",
       " (u'from', 1135),\n",
       " (u'who', 1128),\n",
       " (u'think', 1122),\n",
       " (u'happen', 1105),\n",
       " (u'look', 1089),\n",
       " (u'thank', 1084),\n",
       " (u'state', 1065),\n",
       " (u'time', 1062),\n",
       " (u'american', 1044),\n",
       " (u'back', 1033),\n",
       " (u'her', 1023),\n",
       " (u'these', 1019),\n",
       " (u'up', 1018),\n",
       " (u'their', 1005),\n",
       " (u'can', 998),\n",
       " (u'ha', 994),\n",
       " (u'year', 978),\n",
       " (u'if', 958),\n",
       " (u'as', 954),\n",
       " (u'take', 946),\n",
       " (u'never', 924),\n",
       " (u'thing', 919),\n",
       " (u'well', 917),\n",
       " (u'when', 891),\n",
       " (u'here', 880),\n",
       " (u'more', 880),\n",
       " (u'way', 865),\n",
       " (u'come', 857),\n",
       " (u'other', 857),\n",
       " (u'no', 832),\n",
       " (u'mani', 831),\n",
       " (u'lot', 811),\n",
       " (u'win', 801),\n",
       " (u'got', 796),\n",
       " (u'new', 793),\n",
       " (u'over', 791),\n",
       " (u'see', 787),\n",
       " (u'or', 781),\n",
       " (u'much', 778),\n",
       " (u'had', 775),\n",
       " (u'than', 775),\n",
       " (u'good', 742),\n",
       " (u'tell', 737),\n",
       " (u'work', 731),\n",
       " (u'america', 721),\n",
       " (u'believ', 717),\n",
       " (u'again', 716),\n",
       " (u'deal', 707),\n",
       " (u'everi', 703),\n",
       " (u'an', 702),\n",
       " (u'percent', 685),\n",
       " (u'vote', 683),\n",
       " (u'trump', 672),\n",
       " (u'mean', 660),\n",
       " (u'let', 644),\n",
       " (u'my', 642),\n",
       " (u'would', 641),\n",
       " (u'even', 640),\n",
       " (u'into', 639),\n",
       " (u'ever', 637),\n",
       " (u'us', 632),\n",
       " (u'realli', 620),\n",
       " (u'where', 608),\n",
       " (u'folk', 602),\n",
       " (u'then', 592),\n",
       " (u'did', 588),\n",
       " (u'talk', 588),\n",
       " (u'money', 581),\n",
       " (u'big', 574),\n",
       " (u'day', 572),\n",
       " (u'love', 571),\n",
       " (u'world', 570),\n",
       " (u'tax', 562),\n",
       " (u'which', 555),\n",
       " (u'It', 553),\n",
       " (u'how', 547),\n",
       " (u'trade', 540),\n",
       " (u'some', 536),\n",
       " (u'OK', 533),\n",
       " (u'care', 528),\n",
       " (u'cant', 526),\n",
       " (u'also', 525),\n",
       " (u'bad', 514),\n",
       " (u'ive', 509),\n",
       " (u'presid', 509),\n",
       " (u'million', 498),\n",
       " (u'those', 493),\n",
       " (u'put', 492),\n",
       " (u'border', 491),\n",
       " (u'bring', 468),\n",
       " (u'unit', 463),\n",
       " (u'nation', 459),\n",
       " (u'build', 448),\n",
       " (u'rememb', 444),\n",
       " (u'first', 436),\n",
       " (u'He', 433),\n",
       " (u'place', 433),\n",
       " (u'na', 429),\n",
       " (u'need', 418),\n",
       " (u'befor', 416),\n",
       " (u'pay', 415),\n",
       " (u'better', 412),\n",
       " (u'everybodi', 410),\n",
       " (u'start', 405),\n",
       " (u'number', 399),\n",
       " (u'give', 396),\n",
       " (u'didnt', 390),\n",
       " (u'onli', 386),\n",
       " (u'use', 386),\n",
       " (u'whi', 385),\n",
       " (u'chang', 384),\n",
       " (u'stop', 382),\n",
       " (u'gon', 379),\n",
       " (u'obama', 377),\n",
       " (u'most', 371),\n",
       " (u'fight', 370),\n",
       " (u'govern', 368),\n",
       " (u'wall', 366),\n",
       " (u'compani', 365),\n",
       " (u'leav', 364),\n",
       " (u'him', 362),\n",
       " (u'down', 360),\n",
       " (u'call', 359),\n",
       " (u'problem', 358),\n",
       " (u'two', 358),\n",
       " (u'mexico', 356),\n",
       " (u'last', 347),\n",
       " (u'citi', 346),\n",
       " (u'guy', 344),\n",
       " (u'disast', 342),\n",
       " (u'total', 342),\n",
       " (u'In', 342),\n",
       " (u'made', 340),\n",
       " (u'ago', 339)]"
      ]
     },
     "execution_count": 55,
     "metadata": {},
     "output_type": "execute_result"
    }
   ],
   "source": [
    "# Answering question 4 for the 200 most commonly (unique) used words in the Trump Corpus\n",
    "fdist_trump.most_common(200)"
   ]
  },
  {
   "cell_type": "markdown",
   "metadata": {},
   "source": [
    "As you can see, many of both Trump's and Clinton's most common words are stop words. To interpret the significance of each speeches can be particularly difficult if most of the words are the most commonly used word. What we'll do next is remove the stop words and take another look at the speeches. "
   ]
  },
  {
   "cell_type": "code",
   "execution_count": 56,
   "metadata": {
    "collapsed": true
   },
   "outputs": [],
   "source": [
    "from nltk.corpus import stopwords"
   ]
  },
  {
   "cell_type": "code",
   "execution_count": 63,
   "metadata": {
    "collapsed": true
   },
   "outputs": [],
   "source": [
    "hillary_speech_mod = []\n",
    "\n",
    "for speech in clinton_list:\n",
    "    for word in speech:\n",
    "        word2 = re.sub(r'[^\\w\\s]','',word)\n",
    "        temp = porter_stemmer.stem(word2)\n",
    "        if temp not in stopwords.words('english'):\n",
    "            hillary_speech_mod.append(temp)\n",
    "            \n",
    "hillary_str_mod = ' '.join(hillary_speech_mod)\n",
    "words_c_mod = nltk.tokenize.word_tokenize(hillary_str_mod)\n",
    "fdist_clinton = FreqDist(words_c_mod)\n",
    "            \n",
    "donald_speech_mod = []\n",
    "\n",
    "for speech in trump_list:\n",
    "    for word in speech:\n",
    "        word2 = re.sub(r'[^\\w\\s]','',word)\n",
    "        temp = porter_stemmer.stem(word2)\n",
    "        if temp not in stopwords.words('english'):\n",
    "            donald_speech_mod.append(temp)\n",
    "            \n",
    "donald_str_mod = ' '.join(donald_speech_mod)\n",
    "words_d_mod = nltk.tokenize.word_tokenize(donald_str_mod)\n",
    "fdist_trump = FreqDist(words_d_mod)"
   ]
  },
  {
   "cell_type": "code",
   "execution_count": 64,
   "metadata": {},
   "outputs": [
    {
     "data": {
      "text/plain": [
       "[(u'I', 2581),\n",
       " (u'go', 764),\n",
       " (u'thi', 756),\n",
       " (u'peopl', 677),\n",
       " (u'know', 655),\n",
       " (u'work', 581),\n",
       " (u'want', 566),\n",
       " (u'make', 507),\n",
       " (u'wa', 498),\n",
       " (u'becaus', 496),\n",
       " (u'get', 486),\n",
       " (u'america', 425),\n",
       " (u'trump', 393),\n",
       " (u'countri', 377),\n",
       " (u'We', 368),\n",
       " (u'presid', 359),\n",
       " (u'hi', 353),\n",
       " (u'american', 351),\n",
       " (u'So', 346),\n",
       " (u'think', 340),\n",
       " (u'say', 328),\n",
       " (u'us', 308),\n",
       " (u'ha', 308),\n",
       " (u'job', 304),\n",
       " (u'vote', 298),\n",
       " (u'got', 294),\n",
       " (u'said', 293),\n",
       " (u'right', 289),\n",
       " (u'famili', 283),\n",
       " (u'one', 278),\n",
       " (u'believ', 266),\n",
       " (u'donald', 260),\n",
       " (u'well', 260),\n",
       " (u'togeth', 257),\n",
       " (u'everi', 254),\n",
       " (u'thank', 245),\n",
       " (u'Im', 241),\n",
       " (u'elect', 240),\n",
       " (u'realli', 240),\n",
       " (u'help', 232),\n",
       " (u'would', 224),\n",
       " (u'dont', 224),\n",
       " (u'need', 224),\n",
       " (u'He', 219),\n",
       " (u'state', 204),\n",
       " (u'like', 202),\n",
       " (u'year', 201),\n",
       " (u'great', 197),\n",
       " (u'tell', 195),\n",
       " (u'back', 195)]"
      ]
     },
     "execution_count": 64,
     "metadata": {},
     "output_type": "execute_result"
    }
   ],
   "source": [
    "fdist_clinton.most_common(50)"
   ]
  },
  {
   "cell_type": "code",
   "execution_count": 65,
   "metadata": {},
   "outputs": [
    {
     "data": {
      "text/plain": [
       "[(u'I', 7480),\n",
       " (u'go', 5880),\n",
       " (u'thi', 3272),\n",
       " (u'peopl', 3167),\n",
       " (u'We', 2573),\n",
       " (u'know', 2443),\n",
       " (u'countri', 2217),\n",
       " (u'wa', 2103),\n",
       " (u'want', 1865),\n",
       " (u'dont', 1772),\n",
       " (u'great', 1735),\n",
       " (u'get', 1732),\n",
       " (u'veri', 1696),\n",
       " (u'job', 1629),\n",
       " (u'said', 1586),\n",
       " (u'one', 1571),\n",
       " (u'right', 1538),\n",
       " (u'hillari', 1522),\n",
       " (u'say', 1463),\n",
       " (u'theyr', 1462),\n",
       " (u'like', 1427),\n",
       " (u'clinton', 1346),\n",
       " (u'becaus', 1328),\n",
       " (u'Im', 1160),\n",
       " (u'So', 1156),\n",
       " (u'make', 1147),\n",
       " (u'think', 1122),\n",
       " (u'happen', 1105),\n",
       " (u'look', 1089),\n",
       " (u'thank', 1084),\n",
       " (u'state', 1065),\n",
       " (u'time', 1062),\n",
       " (u'american', 1044),\n",
       " (u'back', 1033),\n",
       " (u'ha', 994),\n",
       " (u'year', 978),\n",
       " (u'take', 946),\n",
       " (u'never', 924),\n",
       " (u'thing', 919),\n",
       " (u'well', 917),\n",
       " (u'way', 865),\n",
       " (u'come', 857),\n",
       " (u'mani', 831),\n",
       " (u'lot', 811),\n",
       " (u'win', 801),\n",
       " (u'got', 796),\n",
       " (u'new', 793),\n",
       " (u'see', 787),\n",
       " (u'much', 778),\n",
       " (u'good', 742)]"
      ]
     },
     "execution_count": 65,
     "metadata": {},
     "output_type": "execute_result"
    }
   ],
   "source": [
    "fdist_trump.most_common(50)"
   ]
  },
  {
   "cell_type": "markdown",
   "metadata": {},
   "source": [
    "#6. Does the observed relative frequency of these words follow Zipf’s law? Explain."
   ]
  },
  {
   "cell_type": "markdown",
   "metadata": {},
   "source": [
    "According to Wikipedia (https://en.wikipedia.org/wiki/Zipf%27s_law), \"Zipf's law is an empirical law formulated using mathematical statistics that refers to the fact that many types of data studied in the physical and social sciences can be approximated with a Zipfian distribution, one of a family of related discrete power law probability distributions. Zipf's law states that given some corpus of natural language utterances, the frequency of any word is inversely proportional to its rank in the frequency table. Thus the most frequent word will occur approximately twice as often as the second most frequent word, three times as often as the third most frequent word, etc.: the rank-frequency distribution is an inverse relation.\"\n",
    "\n",
    "As we look at the frequency distribution in the above graph, we do notice that there is a power distribution, so yes, this distribution does follow Zipf's law. "
   ]
  },
  {
   "cell_type": "markdown",
   "metadata": {},
   "source": [
    "#7. In what ways do you think the frequency of the words in this corpus differ from “all words in all corpora.”\n",
    "\n",
    "I suspect that most of the word choices here in this corpus are more related to politics and patriotism. Therefore, some words, such as \"America\" and \"democracy\" will most likely show up more frequently than usual. As demonstrated as below: "
   ]
  },
  {
   "cell_type": "code",
   "execution_count": 34,
   "metadata": {
    "scrolled": true
   },
   "outputs": [
    {
     "data": {
      "image/png": "[encoded data removed]",
      "text/plain": [
       "<matplotlib.figure.Figure at 0x11ecf45d0>"
      ]
     },
     "metadata": {},
     "output_type": "display_data"
    }
   ],
   "source": [
    "# http://www.nltk.org/book/ch01.html\n",
    "clinton_list[0].dispersion_plot([\"citizens\", \"democracy\", \"freedom\", \"duties\", \"America\"])"
   ]
  },
  {
   "cell_type": "code",
   "execution_count": 68,
   "metadata": {},
   "outputs": [
    {
     "data": {
      "image/png": "[encoded data removed]",
      "text/plain": [
       "<matplotlib.figure.Figure at 0x12dad5550>"
      ]
     },
     "metadata": {},
     "output_type": "display_data"
    }
   ],
   "source": [
    "trump_list[10].dispersion_plot([\"citizens\", \"democracy\", \"freedom\", \"duties\", \"America\"])"
   ]
  },
  {
   "cell_type": "markdown",
   "metadata": {
    "collapsed": true
   },
   "source": [
    "# Further look into a larger Trump and Clinton Database"
   ]
  },
  {
   "cell_type": "markdown",
   "metadata": {},
   "source": [
    "The initial zip drive that was provided above was a smaller subset of Trump and Clinton speeches. Let's take a look at the complete set of speeches and analyze them."
   ]
  },
  {
   "cell_type": "code",
   "execution_count": 68,
   "metadata": {
    "collapsed": true
   },
   "outputs": [],
   "source": [
    "os.chdir(base_directory)\n",
    "\n",
    "open('HillaryClinton.zip', 'wb').write(urllib.urlopen('https://github.com/ilyakats/CUNY-DATA620/blob/master/data/HillaryClinton.zip?raw=true').read())\n",
    "open('DonaldTrump.zip', 'wb').write(urllib.urlopen('https://github.com/ilyakats/CUNY-DATA620/blob/master/data/DonaldTrump.zip?raw=true').read())"
   ]
  },
  {
   "cell_type": "code",
   "execution_count": 69,
   "metadata": {
    "collapsed": true
   },
   "outputs": [],
   "source": [
    "zip_ref = zipfile.ZipFile(os.path.realpath('HillaryClinton.zip'), 'r')\n",
    "zip_ref.extractall(os.path.realpath(''))\n",
    "zip_ref = zipfile.ZipFile(os.path.realpath('DonaldTrump.zip'), 'r')\n",
    "zip_ref.extractall(os.path.realpath(''))\n",
    "zip_ref.close()"
   ]
  },
  {
   "cell_type": "code",
   "execution_count": 70,
   "metadata": {
    "collapsed": true
   },
   "outputs": [],
   "source": [
    "os.unlink('DonaldTrump.zip')\n",
    "os.unlink('HillaryClinton.zip')"
   ]
  },
  {
   "cell_type": "code",
   "execution_count": 86,
   "metadata": {
    "collapsed": true
   },
   "outputs": [],
   "source": [
    "read_files = glob.glob(os.path.realpath('DonaldTrump') + \"\\\\*.txt\")\n",
    "\n",
    "with open(\"DonaldTrump.txt\", \"wb\") as DonaldTrump:\n",
    "    for f in read_files:\n",
    "        with open(f, \"rb\") as infile:\n",
    "            DonaldTrump.write(infile.read())\n",
    "\n",
    "read_files = glob.glob(os.path.realpath('HillaryClinton') + \"\\\\*.txt\")\n",
    "\n",
    "with open(\"HillaryClinton.txt\", \"wb\") as HillaryClinton:\n",
    "    for f in read_files:\n",
    "        with open(f, \"rb\") as infile:\n",
    "            HillaryClinton.write(infile.read())"
   ]
  },
  {
   "cell_type": "code",
   "execution_count": 56,
   "metadata": {
    "collapsed": true
   },
   "outputs": [],
   "source": [
    "f = open('DonaldTrump.txt', 'rU')\n",
    "DT_text = f.read()\n",
    "\n",
    "f = open('HillaryClinton.txt', 'rU')\n",
    "HC_text = f.read()"
   ]
  },
  {
   "cell_type": "code",
   "execution_count": 57,
   "metadata": {
    "collapsed": true
   },
   "outputs": [],
   "source": [
    "#How many total unique words are in the corpus? (Please feel free to define unique words in any interesting, defensible way).\n",
    "from nltk.tokenize import RegexpTokenizer\n",
    "from nltk.corpus import stopwords\n",
    "from nltk.stem import PorterStemmer\n",
    "import pandas as pd\n",
    "from collections import Counter\n",
    "\n",
    "tokens = RegexpTokenizer(r'\\w+').tokenize(HC_text)\n",
    "lower_words = [w.lower() for w in tokens]\n",
    "filtered_words = [word for word in lower_words if word not in stopwords.words('english')]\n",
    "stemmed_words = [PorterStemmer().stem(word) for word in filtered_words]\n",
    "HC_results = Counter(stemmed_words)    "
   ]
  },
  {
   "cell_type": "code",
   "execution_count": 50,
   "metadata": {},
   "outputs": [
    {
     "name": "stdout",
     "output_type": "stream",
     "text": [
      "0 unique stemmed words\n"
     ]
    },
    {
     "ename": "KeyError",
     "evalue": "0",
     "output_type": "error",
     "traceback": [
      "\u001b[0;31m---------------------------------------------------------------------------\u001b[0m",
      "\u001b[0;31mKeyError\u001b[0m                                  Traceback (most recent call last)",
      "\u001b[0;32m<ipython-input-50-555fad830bef>\u001b[0m in \u001b[0;36m<module>\u001b[0;34m()\u001b[0m\n\u001b[1;32m      1\u001b[0m \u001b[0;32mprint\u001b[0m \u001b[0;34m(\u001b[0m\u001b[0;34m'%d unique stemmed words'\u001b[0m \u001b[0;34m%\u001b[0m \u001b[0mlen\u001b[0m\u001b[0;34m(\u001b[0m\u001b[0mHC_results\u001b[0m\u001b[0;34m)\u001b[0m\u001b[0;34m)\u001b[0m\u001b[0;34m\u001b[0m\u001b[0m\n\u001b[0;32m----> 2\u001b[0;31m \u001b[0mpd\u001b[0m\u001b[0;34m.\u001b[0m\u001b[0mDataFrame\u001b[0m\u001b[0;34m(\u001b[0m\u001b[0mzip\u001b[0m\u001b[0;34m(\u001b[0m\u001b[0mHC_results\u001b[0m\u001b[0;34m.\u001b[0m\u001b[0mvalues\u001b[0m\u001b[0;34m(\u001b[0m\u001b[0;34m)\u001b[0m\u001b[0;34m,\u001b[0m\u001b[0mHC_results\u001b[0m\u001b[0;34m.\u001b[0m\u001b[0mkeys\u001b[0m\u001b[0;34m(\u001b[0m\u001b[0;34m)\u001b[0m\u001b[0;34m)\u001b[0m\u001b[0;34m)\u001b[0m\u001b[0;34m.\u001b[0m\u001b[0msort_values\u001b[0m\u001b[0;34m(\u001b[0m\u001b[0mby\u001b[0m \u001b[0;34m=\u001b[0m \u001b[0;34m[\u001b[0m\u001b[0;36m0\u001b[0m\u001b[0;34m]\u001b[0m\u001b[0;34m,\u001b[0m \u001b[0maxis\u001b[0m\u001b[0;34m=\u001b[0m\u001b[0;36m0\u001b[0m\u001b[0;34m,\u001b[0m \u001b[0mascending\u001b[0m\u001b[0;34m=\u001b[0m\u001b[0mFalse\u001b[0m\u001b[0;34m)\u001b[0m\u001b[0;34m.\u001b[0m\u001b[0mhead\u001b[0m\u001b[0;34m(\u001b[0m\u001b[0;36m10\u001b[0m\u001b[0;34m)\u001b[0m\u001b[0;34m\u001b[0m\u001b[0m\n\u001b[0m",
      "\u001b[0;32m/Users/Joel/anaconda/lib/python2.7/site-packages/pandas/core/frame.pyc\u001b[0m in \u001b[0;36msort_values\u001b[0;34m(self, by, axis, ascending, inplace, kind, na_position)\u001b[0m\n\u001b[1;32m   3282\u001b[0m \u001b[0;34m\u001b[0m\u001b[0m\n\u001b[1;32m   3283\u001b[0m             \u001b[0mby\u001b[0m \u001b[0;34m=\u001b[0m \u001b[0mby\u001b[0m\u001b[0;34m[\u001b[0m\u001b[0;36m0\u001b[0m\u001b[0;34m]\u001b[0m\u001b[0;34m\u001b[0m\u001b[0m\n\u001b[0;32m-> 3284\u001b[0;31m             \u001b[0mk\u001b[0m \u001b[0;34m=\u001b[0m \u001b[0mself\u001b[0m\u001b[0;34m.\u001b[0m\u001b[0mxs\u001b[0m\u001b[0;34m(\u001b[0m\u001b[0mby\u001b[0m\u001b[0;34m,\u001b[0m \u001b[0maxis\u001b[0m\u001b[0;34m=\u001b[0m\u001b[0mother_axis\u001b[0m\u001b[0;34m)\u001b[0m\u001b[0;34m.\u001b[0m\u001b[0mvalues\u001b[0m\u001b[0;34m\u001b[0m\u001b[0m\n\u001b[0m\u001b[1;32m   3285\u001b[0m             \u001b[0;32mif\u001b[0m \u001b[0mk\u001b[0m\u001b[0;34m.\u001b[0m\u001b[0mndim\u001b[0m \u001b[0;34m==\u001b[0m \u001b[0;36m2\u001b[0m\u001b[0;34m:\u001b[0m\u001b[0;34m\u001b[0m\u001b[0m\n\u001b[1;32m   3286\u001b[0m \u001b[0;34m\u001b[0m\u001b[0m\n",
      "\u001b[0;32m/Users/Joel/anaconda/lib/python2.7/site-packages/pandas/core/generic.pyc\u001b[0m in \u001b[0;36mxs\u001b[0;34m(self, key, axis, level, drop_level)\u001b[0m\n\u001b[1;32m   1910\u001b[0m \u001b[0;34m\u001b[0m\u001b[0m\n\u001b[1;32m   1911\u001b[0m         \u001b[0;32mif\u001b[0m \u001b[0maxis\u001b[0m \u001b[0;34m==\u001b[0m \u001b[0;36m1\u001b[0m\u001b[0;34m:\u001b[0m\u001b[0;34m\u001b[0m\u001b[0m\n\u001b[0;32m-> 1912\u001b[0;31m             \u001b[0;32mreturn\u001b[0m \u001b[0mself\u001b[0m\u001b[0;34m[\u001b[0m\u001b[0mkey\u001b[0m\u001b[0;34m]\u001b[0m\u001b[0;34m\u001b[0m\u001b[0m\n\u001b[0m\u001b[1;32m   1913\u001b[0m \u001b[0;34m\u001b[0m\u001b[0m\n\u001b[1;32m   1914\u001b[0m         \u001b[0mself\u001b[0m\u001b[0;34m.\u001b[0m\u001b[0m_consolidate_inplace\u001b[0m\u001b[0;34m(\u001b[0m\u001b[0;34m)\u001b[0m\u001b[0;34m\u001b[0m\u001b[0m\n",
      "\u001b[0;32m/Users/Joel/anaconda/lib/python2.7/site-packages/pandas/core/frame.pyc\u001b[0m in \u001b[0;36m__getitem__\u001b[0;34m(self, key)\u001b[0m\n\u001b[1;32m   2060\u001b[0m             \u001b[0;32mreturn\u001b[0m \u001b[0mself\u001b[0m\u001b[0;34m.\u001b[0m\u001b[0m_getitem_multilevel\u001b[0m\u001b[0;34m(\u001b[0m\u001b[0mkey\u001b[0m\u001b[0;34m)\u001b[0m\u001b[0;34m\u001b[0m\u001b[0m\n\u001b[1;32m   2061\u001b[0m         \u001b[0;32melse\u001b[0m\u001b[0;34m:\u001b[0m\u001b[0;34m\u001b[0m\u001b[0m\n\u001b[0;32m-> 2062\u001b[0;31m             \u001b[0;32mreturn\u001b[0m \u001b[0mself\u001b[0m\u001b[0;34m.\u001b[0m\u001b[0m_getitem_column\u001b[0m\u001b[0;34m(\u001b[0m\u001b[0mkey\u001b[0m\u001b[0;34m)\u001b[0m\u001b[0;34m\u001b[0m\u001b[0m\n\u001b[0m\u001b[1;32m   2063\u001b[0m \u001b[0;34m\u001b[0m\u001b[0m\n\u001b[1;32m   2064\u001b[0m     \u001b[0;32mdef\u001b[0m \u001b[0m_getitem_column\u001b[0m\u001b[0;34m(\u001b[0m\u001b[0mself\u001b[0m\u001b[0;34m,\u001b[0m \u001b[0mkey\u001b[0m\u001b[0;34m)\u001b[0m\u001b[0;34m:\u001b[0m\u001b[0;34m\u001b[0m\u001b[0m\n",
      "\u001b[0;32m/Users/Joel/anaconda/lib/python2.7/site-packages/pandas/core/frame.pyc\u001b[0m in \u001b[0;36m_getitem_column\u001b[0;34m(self, key)\u001b[0m\n\u001b[1;32m   2067\u001b[0m         \u001b[0;31m# get column\u001b[0m\u001b[0;34m\u001b[0m\u001b[0;34m\u001b[0m\u001b[0m\n\u001b[1;32m   2068\u001b[0m         \u001b[0;32mif\u001b[0m \u001b[0mself\u001b[0m\u001b[0;34m.\u001b[0m\u001b[0mcolumns\u001b[0m\u001b[0;34m.\u001b[0m\u001b[0mis_unique\u001b[0m\u001b[0;34m:\u001b[0m\u001b[0;34m\u001b[0m\u001b[0m\n\u001b[0;32m-> 2069\u001b[0;31m             \u001b[0;32mreturn\u001b[0m \u001b[0mself\u001b[0m\u001b[0;34m.\u001b[0m\u001b[0m_get_item_cache\u001b[0m\u001b[0;34m(\u001b[0m\u001b[0mkey\u001b[0m\u001b[0;34m)\u001b[0m\u001b[0;34m\u001b[0m\u001b[0m\n\u001b[0m\u001b[1;32m   2070\u001b[0m \u001b[0;34m\u001b[0m\u001b[0m\n\u001b[1;32m   2071\u001b[0m         \u001b[0;31m# duplicate columns & possible reduce dimensionality\u001b[0m\u001b[0;34m\u001b[0m\u001b[0;34m\u001b[0m\u001b[0m\n",
      "\u001b[0;32m/Users/Joel/anaconda/lib/python2.7/site-packages/pandas/core/generic.pyc\u001b[0m in \u001b[0;36m_get_item_cache\u001b[0;34m(self, item)\u001b[0m\n\u001b[1;32m   1532\u001b[0m         \u001b[0mres\u001b[0m \u001b[0;34m=\u001b[0m \u001b[0mcache\u001b[0m\u001b[0;34m.\u001b[0m\u001b[0mget\u001b[0m\u001b[0;34m(\u001b[0m\u001b[0mitem\u001b[0m\u001b[0;34m)\u001b[0m\u001b[0;34m\u001b[0m\u001b[0m\n\u001b[1;32m   1533\u001b[0m         \u001b[0;32mif\u001b[0m \u001b[0mres\u001b[0m \u001b[0;32mis\u001b[0m \u001b[0mNone\u001b[0m\u001b[0;34m:\u001b[0m\u001b[0;34m\u001b[0m\u001b[0m\n\u001b[0;32m-> 1534\u001b[0;31m             \u001b[0mvalues\u001b[0m \u001b[0;34m=\u001b[0m \u001b[0mself\u001b[0m\u001b[0;34m.\u001b[0m\u001b[0m_data\u001b[0m\u001b[0;34m.\u001b[0m\u001b[0mget\u001b[0m\u001b[0;34m(\u001b[0m\u001b[0mitem\u001b[0m\u001b[0;34m)\u001b[0m\u001b[0;34m\u001b[0m\u001b[0m\n\u001b[0m\u001b[1;32m   1535\u001b[0m             \u001b[0mres\u001b[0m \u001b[0;34m=\u001b[0m \u001b[0mself\u001b[0m\u001b[0;34m.\u001b[0m\u001b[0m_box_item_values\u001b[0m\u001b[0;34m(\u001b[0m\u001b[0mitem\u001b[0m\u001b[0;34m,\u001b[0m \u001b[0mvalues\u001b[0m\u001b[0;34m)\u001b[0m\u001b[0;34m\u001b[0m\u001b[0m\n\u001b[1;32m   1536\u001b[0m             \u001b[0mcache\u001b[0m\u001b[0;34m[\u001b[0m\u001b[0mitem\u001b[0m\u001b[0;34m]\u001b[0m \u001b[0;34m=\u001b[0m \u001b[0mres\u001b[0m\u001b[0;34m\u001b[0m\u001b[0m\n",
      "\u001b[0;32m/Users/Joel/anaconda/lib/python2.7/site-packages/pandas/core/internals.pyc\u001b[0m in \u001b[0;36mget\u001b[0;34m(self, item, fastpath)\u001b[0m\n\u001b[1;32m   3588\u001b[0m \u001b[0;34m\u001b[0m\u001b[0m\n\u001b[1;32m   3589\u001b[0m             \u001b[0;32mif\u001b[0m \u001b[0;32mnot\u001b[0m \u001b[0misnull\u001b[0m\u001b[0;34m(\u001b[0m\u001b[0mitem\u001b[0m\u001b[0;34m)\u001b[0m\u001b[0;34m:\u001b[0m\u001b[0;34m\u001b[0m\u001b[0m\n\u001b[0;32m-> 3590\u001b[0;31m                 \u001b[0mloc\u001b[0m \u001b[0;34m=\u001b[0m \u001b[0mself\u001b[0m\u001b[0;34m.\u001b[0m\u001b[0mitems\u001b[0m\u001b[0;34m.\u001b[0m\u001b[0mget_loc\u001b[0m\u001b[0;34m(\u001b[0m\u001b[0mitem\u001b[0m\u001b[0;34m)\u001b[0m\u001b[0;34m\u001b[0m\u001b[0m\n\u001b[0m\u001b[1;32m   3591\u001b[0m             \u001b[0;32melse\u001b[0m\u001b[0;34m:\u001b[0m\u001b[0;34m\u001b[0m\u001b[0m\n\u001b[1;32m   3592\u001b[0m                 \u001b[0mindexer\u001b[0m \u001b[0;34m=\u001b[0m \u001b[0mnp\u001b[0m\u001b[0;34m.\u001b[0m\u001b[0marange\u001b[0m\u001b[0;34m(\u001b[0m\u001b[0mlen\u001b[0m\u001b[0;34m(\u001b[0m\u001b[0mself\u001b[0m\u001b[0;34m.\u001b[0m\u001b[0mitems\u001b[0m\u001b[0;34m)\u001b[0m\u001b[0;34m)\u001b[0m\u001b[0;34m[\u001b[0m\u001b[0misnull\u001b[0m\u001b[0;34m(\u001b[0m\u001b[0mself\u001b[0m\u001b[0;34m.\u001b[0m\u001b[0mitems\u001b[0m\u001b[0;34m)\u001b[0m\u001b[0;34m]\u001b[0m\u001b[0;34m\u001b[0m\u001b[0m\n",
      "\u001b[0;32m/Users/Joel/anaconda/lib/python2.7/site-packages/pandas/core/indexes/base.pyc\u001b[0m in \u001b[0;36mget_loc\u001b[0;34m(self, key, method, tolerance)\u001b[0m\n\u001b[1;32m   2393\u001b[0m                 \u001b[0;32mreturn\u001b[0m \u001b[0mself\u001b[0m\u001b[0;34m.\u001b[0m\u001b[0m_engine\u001b[0m\u001b[0;34m.\u001b[0m\u001b[0mget_loc\u001b[0m\u001b[0;34m(\u001b[0m\u001b[0mkey\u001b[0m\u001b[0;34m)\u001b[0m\u001b[0;34m\u001b[0m\u001b[0m\n\u001b[1;32m   2394\u001b[0m             \u001b[0;32mexcept\u001b[0m \u001b[0mKeyError\u001b[0m\u001b[0;34m:\u001b[0m\u001b[0;34m\u001b[0m\u001b[0m\n\u001b[0;32m-> 2395\u001b[0;31m                 \u001b[0;32mreturn\u001b[0m \u001b[0mself\u001b[0m\u001b[0;34m.\u001b[0m\u001b[0m_engine\u001b[0m\u001b[0;34m.\u001b[0m\u001b[0mget_loc\u001b[0m\u001b[0;34m(\u001b[0m\u001b[0mself\u001b[0m\u001b[0;34m.\u001b[0m\u001b[0m_maybe_cast_indexer\u001b[0m\u001b[0;34m(\u001b[0m\u001b[0mkey\u001b[0m\u001b[0;34m)\u001b[0m\u001b[0;34m)\u001b[0m\u001b[0;34m\u001b[0m\u001b[0m\n\u001b[0m\u001b[1;32m   2396\u001b[0m \u001b[0;34m\u001b[0m\u001b[0m\n\u001b[1;32m   2397\u001b[0m         \u001b[0mindexer\u001b[0m \u001b[0;34m=\u001b[0m \u001b[0mself\u001b[0m\u001b[0;34m.\u001b[0m\u001b[0mget_indexer\u001b[0m\u001b[0;34m(\u001b[0m\u001b[0;34m[\u001b[0m\u001b[0mkey\u001b[0m\u001b[0;34m]\u001b[0m\u001b[0;34m,\u001b[0m \u001b[0mmethod\u001b[0m\u001b[0;34m=\u001b[0m\u001b[0mmethod\u001b[0m\u001b[0;34m,\u001b[0m \u001b[0mtolerance\u001b[0m\u001b[0;34m=\u001b[0m\u001b[0mtolerance\u001b[0m\u001b[0;34m)\u001b[0m\u001b[0;34m\u001b[0m\u001b[0m\n",
      "\u001b[0;32mpandas/_libs/index.pyx\u001b[0m in \u001b[0;36mpandas._libs.index.IndexEngine.get_loc (pandas/_libs/index.c:5239)\u001b[0;34m()\u001b[0m\n",
      "\u001b[0;32mpandas/_libs/index.pyx\u001b[0m in \u001b[0;36mpandas._libs.index.IndexEngine.get_loc (pandas/_libs/index.c:5085)\u001b[0;34m()\u001b[0m\n",
      "\u001b[0;32mpandas/_libs/hashtable_class_helper.pxi\u001b[0m in \u001b[0;36mpandas._libs.hashtable.PyObjectHashTable.get_item (pandas/_libs/hashtable.c:20405)\u001b[0;34m()\u001b[0m\n",
      "\u001b[0;32mpandas/_libs/hashtable_class_helper.pxi\u001b[0m in \u001b[0;36mpandas._libs.hashtable.PyObjectHashTable.get_item (pandas/_libs/hashtable.c:20359)\u001b[0;34m()\u001b[0m\n",
      "\u001b[0;31mKeyError\u001b[0m: 0"
     ]
    }
   ],
   "source": [
    "print ('%d unique stemmed words' % len(HC_results))\n",
    "pd.DataFrame(zip(HC_results.values(),HC_results.keys())).sort_values(by = [0], axis=0, ascending=False).head(10)"
   ]
  },
  {
   "cell_type": "code",
   "execution_count": 75,
   "metadata": {
    "collapsed": true
   },
   "outputs": [],
   "source": [
    "tokens = RegexpTokenizer(r'\\w+').tokenize(DT_text)\n",
    "lower_words = [w.lower() for w in tokens]\n",
    "filtered_words = [word for word in lower_words if word not in stopwords.words('english')]\n",
    "stemmed_words = [PorterStemmer().stem(word) for word in filtered_words]\n",
    "DT_results = Counter(stemmed_words) "
   ]
  },
  {
   "cell_type": "code",
   "execution_count": 76,
   "metadata": {},
   "outputs": [
    {
     "name": "stdout",
     "output_type": "stream",
     "text": [
      "0 unique stemmed words\n"
     ]
    },
    {
     "ename": "KeyError",
     "evalue": "0",
     "output_type": "error",
     "traceback": [
      "\u001b[0;31m---------------------------------------------------------------------------\u001b[0m",
      "\u001b[0;31mKeyError\u001b[0m                                  Traceback (most recent call last)",
      "\u001b[0;32m<ipython-input-76-f3ef44180e26>\u001b[0m in \u001b[0;36m<module>\u001b[0;34m()\u001b[0m\n\u001b[1;32m      1\u001b[0m \u001b[0;32mprint\u001b[0m \u001b[0;34m(\u001b[0m\u001b[0;34m'%d unique stemmed words'\u001b[0m \u001b[0;34m%\u001b[0m \u001b[0mlen\u001b[0m\u001b[0;34m(\u001b[0m\u001b[0mDT_results\u001b[0m\u001b[0;34m)\u001b[0m\u001b[0;34m)\u001b[0m\u001b[0;34m\u001b[0m\u001b[0m\n\u001b[0;32m----> 2\u001b[0;31m \u001b[0mpd\u001b[0m\u001b[0;34m.\u001b[0m\u001b[0mDataFrame\u001b[0m\u001b[0;34m(\u001b[0m\u001b[0mzip\u001b[0m\u001b[0;34m(\u001b[0m\u001b[0mDT_results\u001b[0m\u001b[0;34m.\u001b[0m\u001b[0mvalues\u001b[0m\u001b[0;34m(\u001b[0m\u001b[0;34m)\u001b[0m\u001b[0;34m,\u001b[0m\u001b[0mDT_results\u001b[0m\u001b[0;34m.\u001b[0m\u001b[0mkeys\u001b[0m\u001b[0;34m(\u001b[0m\u001b[0;34m)\u001b[0m\u001b[0;34m)\u001b[0m\u001b[0;34m)\u001b[0m\u001b[0;34m.\u001b[0m\u001b[0msort_values\u001b[0m\u001b[0;34m(\u001b[0m\u001b[0mby\u001b[0m \u001b[0;34m=\u001b[0m \u001b[0;34m[\u001b[0m\u001b[0;36m0\u001b[0m\u001b[0;34m]\u001b[0m\u001b[0;34m,\u001b[0m \u001b[0maxis\u001b[0m\u001b[0;34m=\u001b[0m\u001b[0;36m0\u001b[0m\u001b[0;34m,\u001b[0m \u001b[0mascending\u001b[0m\u001b[0;34m=\u001b[0m\u001b[0mFalse\u001b[0m\u001b[0;34m)\u001b[0m\u001b[0;34m.\u001b[0m\u001b[0mhead\u001b[0m\u001b[0;34m(\u001b[0m\u001b[0;36m10\u001b[0m\u001b[0;34m)\u001b[0m\u001b[0;34m\u001b[0m\u001b[0m\n\u001b[0m",
      "\u001b[0;32m/Users/Joel/anaconda/lib/python2.7/site-packages/pandas/core/frame.pyc\u001b[0m in \u001b[0;36msort_values\u001b[0;34m(self, by, axis, ascending, inplace, kind, na_position)\u001b[0m\n\u001b[1;32m   3282\u001b[0m \u001b[0;34m\u001b[0m\u001b[0m\n\u001b[1;32m   3283\u001b[0m             \u001b[0mby\u001b[0m \u001b[0;34m=\u001b[0m \u001b[0mby\u001b[0m\u001b[0;34m[\u001b[0m\u001b[0;36m0\u001b[0m\u001b[0;34m]\u001b[0m\u001b[0;34m\u001b[0m\u001b[0m\n\u001b[0;32m-> 3284\u001b[0;31m             \u001b[0mk\u001b[0m \u001b[0;34m=\u001b[0m \u001b[0mself\u001b[0m\u001b[0;34m.\u001b[0m\u001b[0mxs\u001b[0m\u001b[0;34m(\u001b[0m\u001b[0mby\u001b[0m\u001b[0;34m,\u001b[0m \u001b[0maxis\u001b[0m\u001b[0;34m=\u001b[0m\u001b[0mother_axis\u001b[0m\u001b[0;34m)\u001b[0m\u001b[0;34m.\u001b[0m\u001b[0mvalues\u001b[0m\u001b[0;34m\u001b[0m\u001b[0m\n\u001b[0m\u001b[1;32m   3285\u001b[0m             \u001b[0;32mif\u001b[0m \u001b[0mk\u001b[0m\u001b[0;34m.\u001b[0m\u001b[0mndim\u001b[0m \u001b[0;34m==\u001b[0m \u001b[0;36m2\u001b[0m\u001b[0;34m:\u001b[0m\u001b[0;34m\u001b[0m\u001b[0m\n\u001b[1;32m   3286\u001b[0m \u001b[0;34m\u001b[0m\u001b[0m\n",
      "\u001b[0;32m/Users/Joel/anaconda/lib/python2.7/site-packages/pandas/core/generic.pyc\u001b[0m in \u001b[0;36mxs\u001b[0;34m(self, key, axis, level, drop_level)\u001b[0m\n\u001b[1;32m   1910\u001b[0m \u001b[0;34m\u001b[0m\u001b[0m\n\u001b[1;32m   1911\u001b[0m         \u001b[0;32mif\u001b[0m \u001b[0maxis\u001b[0m \u001b[0;34m==\u001b[0m \u001b[0;36m1\u001b[0m\u001b[0;34m:\u001b[0m\u001b[0;34m\u001b[0m\u001b[0m\n\u001b[0;32m-> 1912\u001b[0;31m             \u001b[0;32mreturn\u001b[0m \u001b[0mself\u001b[0m\u001b[0;34m[\u001b[0m\u001b[0mkey\u001b[0m\u001b[0;34m]\u001b[0m\u001b[0;34m\u001b[0m\u001b[0m\n\u001b[0m\u001b[1;32m   1913\u001b[0m \u001b[0;34m\u001b[0m\u001b[0m\n\u001b[1;32m   1914\u001b[0m         \u001b[0mself\u001b[0m\u001b[0;34m.\u001b[0m\u001b[0m_consolidate_inplace\u001b[0m\u001b[0;34m(\u001b[0m\u001b[0;34m)\u001b[0m\u001b[0;34m\u001b[0m\u001b[0m\n",
      "\u001b[0;32m/Users/Joel/anaconda/lib/python2.7/site-packages/pandas/core/frame.pyc\u001b[0m in \u001b[0;36m__getitem__\u001b[0;34m(self, key)\u001b[0m\n\u001b[1;32m   2060\u001b[0m             \u001b[0;32mreturn\u001b[0m \u001b[0mself\u001b[0m\u001b[0;34m.\u001b[0m\u001b[0m_getitem_multilevel\u001b[0m\u001b[0;34m(\u001b[0m\u001b[0mkey\u001b[0m\u001b[0;34m)\u001b[0m\u001b[0;34m\u001b[0m\u001b[0m\n\u001b[1;32m   2061\u001b[0m         \u001b[0;32melse\u001b[0m\u001b[0;34m:\u001b[0m\u001b[0;34m\u001b[0m\u001b[0m\n\u001b[0;32m-> 2062\u001b[0;31m             \u001b[0;32mreturn\u001b[0m \u001b[0mself\u001b[0m\u001b[0;34m.\u001b[0m\u001b[0m_getitem_column\u001b[0m\u001b[0;34m(\u001b[0m\u001b[0mkey\u001b[0m\u001b[0;34m)\u001b[0m\u001b[0;34m\u001b[0m\u001b[0m\n\u001b[0m\u001b[1;32m   2063\u001b[0m \u001b[0;34m\u001b[0m\u001b[0m\n\u001b[1;32m   2064\u001b[0m     \u001b[0;32mdef\u001b[0m \u001b[0m_getitem_column\u001b[0m\u001b[0;34m(\u001b[0m\u001b[0mself\u001b[0m\u001b[0;34m,\u001b[0m \u001b[0mkey\u001b[0m\u001b[0;34m)\u001b[0m\u001b[0;34m:\u001b[0m\u001b[0;34m\u001b[0m\u001b[0m\n",
      "\u001b[0;32m/Users/Joel/anaconda/lib/python2.7/site-packages/pandas/core/frame.pyc\u001b[0m in \u001b[0;36m_getitem_column\u001b[0;34m(self, key)\u001b[0m\n\u001b[1;32m   2067\u001b[0m         \u001b[0;31m# get column\u001b[0m\u001b[0;34m\u001b[0m\u001b[0;34m\u001b[0m\u001b[0m\n\u001b[1;32m   2068\u001b[0m         \u001b[0;32mif\u001b[0m \u001b[0mself\u001b[0m\u001b[0;34m.\u001b[0m\u001b[0mcolumns\u001b[0m\u001b[0;34m.\u001b[0m\u001b[0mis_unique\u001b[0m\u001b[0;34m:\u001b[0m\u001b[0;34m\u001b[0m\u001b[0m\n\u001b[0;32m-> 2069\u001b[0;31m             \u001b[0;32mreturn\u001b[0m \u001b[0mself\u001b[0m\u001b[0;34m.\u001b[0m\u001b[0m_get_item_cache\u001b[0m\u001b[0;34m(\u001b[0m\u001b[0mkey\u001b[0m\u001b[0;34m)\u001b[0m\u001b[0;34m\u001b[0m\u001b[0m\n\u001b[0m\u001b[1;32m   2070\u001b[0m \u001b[0;34m\u001b[0m\u001b[0m\n\u001b[1;32m   2071\u001b[0m         \u001b[0;31m# duplicate columns & possible reduce dimensionality\u001b[0m\u001b[0;34m\u001b[0m\u001b[0;34m\u001b[0m\u001b[0m\n",
      "\u001b[0;32m/Users/Joel/anaconda/lib/python2.7/site-packages/pandas/core/generic.pyc\u001b[0m in \u001b[0;36m_get_item_cache\u001b[0;34m(self, item)\u001b[0m\n\u001b[1;32m   1532\u001b[0m         \u001b[0mres\u001b[0m \u001b[0;34m=\u001b[0m \u001b[0mcache\u001b[0m\u001b[0;34m.\u001b[0m\u001b[0mget\u001b[0m\u001b[0;34m(\u001b[0m\u001b[0mitem\u001b[0m\u001b[0;34m)\u001b[0m\u001b[0;34m\u001b[0m\u001b[0m\n\u001b[1;32m   1533\u001b[0m         \u001b[0;32mif\u001b[0m \u001b[0mres\u001b[0m \u001b[0;32mis\u001b[0m \u001b[0mNone\u001b[0m\u001b[0;34m:\u001b[0m\u001b[0;34m\u001b[0m\u001b[0m\n\u001b[0;32m-> 1534\u001b[0;31m             \u001b[0mvalues\u001b[0m \u001b[0;34m=\u001b[0m \u001b[0mself\u001b[0m\u001b[0;34m.\u001b[0m\u001b[0m_data\u001b[0m\u001b[0;34m.\u001b[0m\u001b[0mget\u001b[0m\u001b[0;34m(\u001b[0m\u001b[0mitem\u001b[0m\u001b[0;34m)\u001b[0m\u001b[0;34m\u001b[0m\u001b[0m\n\u001b[0m\u001b[1;32m   1535\u001b[0m             \u001b[0mres\u001b[0m \u001b[0;34m=\u001b[0m \u001b[0mself\u001b[0m\u001b[0;34m.\u001b[0m\u001b[0m_box_item_values\u001b[0m\u001b[0;34m(\u001b[0m\u001b[0mitem\u001b[0m\u001b[0;34m,\u001b[0m \u001b[0mvalues\u001b[0m\u001b[0;34m)\u001b[0m\u001b[0;34m\u001b[0m\u001b[0m\n\u001b[1;32m   1536\u001b[0m             \u001b[0mcache\u001b[0m\u001b[0;34m[\u001b[0m\u001b[0mitem\u001b[0m\u001b[0;34m]\u001b[0m \u001b[0;34m=\u001b[0m \u001b[0mres\u001b[0m\u001b[0;34m\u001b[0m\u001b[0m\n",
      "\u001b[0;32m/Users/Joel/anaconda/lib/python2.7/site-packages/pandas/core/internals.pyc\u001b[0m in \u001b[0;36mget\u001b[0;34m(self, item, fastpath)\u001b[0m\n\u001b[1;32m   3588\u001b[0m \u001b[0;34m\u001b[0m\u001b[0m\n\u001b[1;32m   3589\u001b[0m             \u001b[0;32mif\u001b[0m \u001b[0;32mnot\u001b[0m \u001b[0misnull\u001b[0m\u001b[0;34m(\u001b[0m\u001b[0mitem\u001b[0m\u001b[0;34m)\u001b[0m\u001b[0;34m:\u001b[0m\u001b[0;34m\u001b[0m\u001b[0m\n\u001b[0;32m-> 3590\u001b[0;31m                 \u001b[0mloc\u001b[0m \u001b[0;34m=\u001b[0m \u001b[0mself\u001b[0m\u001b[0;34m.\u001b[0m\u001b[0mitems\u001b[0m\u001b[0;34m.\u001b[0m\u001b[0mget_loc\u001b[0m\u001b[0;34m(\u001b[0m\u001b[0mitem\u001b[0m\u001b[0;34m)\u001b[0m\u001b[0;34m\u001b[0m\u001b[0m\n\u001b[0m\u001b[1;32m   3591\u001b[0m             \u001b[0;32melse\u001b[0m\u001b[0;34m:\u001b[0m\u001b[0;34m\u001b[0m\u001b[0m\n\u001b[1;32m   3592\u001b[0m                 \u001b[0mindexer\u001b[0m \u001b[0;34m=\u001b[0m \u001b[0mnp\u001b[0m\u001b[0;34m.\u001b[0m\u001b[0marange\u001b[0m\u001b[0;34m(\u001b[0m\u001b[0mlen\u001b[0m\u001b[0;34m(\u001b[0m\u001b[0mself\u001b[0m\u001b[0;34m.\u001b[0m\u001b[0mitems\u001b[0m\u001b[0;34m)\u001b[0m\u001b[0;34m)\u001b[0m\u001b[0;34m[\u001b[0m\u001b[0misnull\u001b[0m\u001b[0;34m(\u001b[0m\u001b[0mself\u001b[0m\u001b[0;34m.\u001b[0m\u001b[0mitems\u001b[0m\u001b[0;34m)\u001b[0m\u001b[0;34m]\u001b[0m\u001b[0;34m\u001b[0m\u001b[0m\n",
      "\u001b[0;32m/Users/Joel/anaconda/lib/python2.7/site-packages/pandas/core/indexes/base.pyc\u001b[0m in \u001b[0;36mget_loc\u001b[0;34m(self, key, method, tolerance)\u001b[0m\n\u001b[1;32m   2393\u001b[0m                 \u001b[0;32mreturn\u001b[0m \u001b[0mself\u001b[0m\u001b[0;34m.\u001b[0m\u001b[0m_engine\u001b[0m\u001b[0;34m.\u001b[0m\u001b[0mget_loc\u001b[0m\u001b[0;34m(\u001b[0m\u001b[0mkey\u001b[0m\u001b[0;34m)\u001b[0m\u001b[0;34m\u001b[0m\u001b[0m\n\u001b[1;32m   2394\u001b[0m             \u001b[0;32mexcept\u001b[0m \u001b[0mKeyError\u001b[0m\u001b[0;34m:\u001b[0m\u001b[0;34m\u001b[0m\u001b[0m\n\u001b[0;32m-> 2395\u001b[0;31m                 \u001b[0;32mreturn\u001b[0m \u001b[0mself\u001b[0m\u001b[0;34m.\u001b[0m\u001b[0m_engine\u001b[0m\u001b[0;34m.\u001b[0m\u001b[0mget_loc\u001b[0m\u001b[0;34m(\u001b[0m\u001b[0mself\u001b[0m\u001b[0;34m.\u001b[0m\u001b[0m_maybe_cast_indexer\u001b[0m\u001b[0;34m(\u001b[0m\u001b[0mkey\u001b[0m\u001b[0;34m)\u001b[0m\u001b[0;34m)\u001b[0m\u001b[0;34m\u001b[0m\u001b[0m\n\u001b[0m\u001b[1;32m   2396\u001b[0m \u001b[0;34m\u001b[0m\u001b[0m\n\u001b[1;32m   2397\u001b[0m         \u001b[0mindexer\u001b[0m \u001b[0;34m=\u001b[0m \u001b[0mself\u001b[0m\u001b[0;34m.\u001b[0m\u001b[0mget_indexer\u001b[0m\u001b[0;34m(\u001b[0m\u001b[0;34m[\u001b[0m\u001b[0mkey\u001b[0m\u001b[0;34m]\u001b[0m\u001b[0;34m,\u001b[0m \u001b[0mmethod\u001b[0m\u001b[0;34m=\u001b[0m\u001b[0mmethod\u001b[0m\u001b[0;34m,\u001b[0m \u001b[0mtolerance\u001b[0m\u001b[0;34m=\u001b[0m\u001b[0mtolerance\u001b[0m\u001b[0;34m)\u001b[0m\u001b[0;34m\u001b[0m\u001b[0m\n",
      "\u001b[0;32mpandas/_libs/index.pyx\u001b[0m in \u001b[0;36mpandas._libs.index.IndexEngine.get_loc (pandas/_libs/index.c:5239)\u001b[0;34m()\u001b[0m\n",
      "\u001b[0;32mpandas/_libs/index.pyx\u001b[0m in \u001b[0;36mpandas._libs.index.IndexEngine.get_loc (pandas/_libs/index.c:5085)\u001b[0;34m()\u001b[0m\n",
      "\u001b[0;32mpandas/_libs/hashtable_class_helper.pxi\u001b[0m in \u001b[0;36mpandas._libs.hashtable.PyObjectHashTable.get_item (pandas/_libs/hashtable.c:20405)\u001b[0;34m()\u001b[0m\n",
      "\u001b[0;32mpandas/_libs/hashtable_class_helper.pxi\u001b[0m in \u001b[0;36mpandas._libs.hashtable.PyObjectHashTable.get_item (pandas/_libs/hashtable.c:20359)\u001b[0;34m()\u001b[0m\n",
      "\u001b[0;31mKeyError\u001b[0m: 0"
     ]
    }
   ],
   "source": [
    "print ('%d unique stemmed words' % len(DT_results))\n",
    "pd.DataFrame(zip(DT_results.values(),DT_results.keys())).sort_values(by = [0], axis=0, ascending=False).head(10)"
   ]
  },
  {
   "cell_type": "code",
   "execution_count": 77,
   "metadata": {},
   "outputs": [
    {
     "ename": "ValueError",
     "evalue": "Length mismatch: Expected axis has 0 elements, new values have 2 elements",
     "output_type": "error",
     "traceback": [
      "\u001b[0;31m---------------------------------------------------------------------------\u001b[0m",
      "\u001b[0;31mValueError\u001b[0m                                Traceback (most recent call last)",
      "\u001b[0;32m<ipython-input-77-d7cc53076598>\u001b[0m in \u001b[0;36m<module>\u001b[0;34m()\u001b[0m\n\u001b[1;32m      1\u001b[0m \u001b[0;31m# 3. Taking the most common words, how many unique words represent half of the total words in the corpus?\u001b[0m\u001b[0;34m\u001b[0m\u001b[0;34m\u001b[0m\u001b[0m\n\u001b[1;32m      2\u001b[0m \u001b[0mx\u001b[0m \u001b[0;34m=\u001b[0m \u001b[0mpd\u001b[0m\u001b[0;34m.\u001b[0m\u001b[0mDataFrame\u001b[0m\u001b[0;34m(\u001b[0m\u001b[0mzip\u001b[0m\u001b[0;34m(\u001b[0m\u001b[0mHC_results\u001b[0m\u001b[0;34m.\u001b[0m\u001b[0mkeys\u001b[0m\u001b[0;34m(\u001b[0m\u001b[0;34m)\u001b[0m\u001b[0;34m,\u001b[0m \u001b[0mHC_results\u001b[0m\u001b[0;34m.\u001b[0m\u001b[0mvalues\u001b[0m\u001b[0;34m(\u001b[0m\u001b[0;34m)\u001b[0m\u001b[0;34m)\u001b[0m\u001b[0;34m)\u001b[0m\u001b[0;34m\u001b[0m\u001b[0m\n\u001b[0;32m----> 3\u001b[0;31m \u001b[0mx\u001b[0m\u001b[0;34m.\u001b[0m\u001b[0mcolumns\u001b[0m \u001b[0;34m=\u001b[0m \u001b[0;34m[\u001b[0m\u001b[0;34m'word'\u001b[0m\u001b[0;34m,\u001b[0m \u001b[0;34m'counts'\u001b[0m\u001b[0;34m]\u001b[0m\u001b[0;34m\u001b[0m\u001b[0m\n\u001b[0m\u001b[1;32m      4\u001b[0m \u001b[0mx\u001b[0m \u001b[0;34m=\u001b[0m \u001b[0mx\u001b[0m\u001b[0;34m.\u001b[0m\u001b[0msort_values\u001b[0m\u001b[0;34m(\u001b[0m\u001b[0;34m[\u001b[0m\u001b[0;34m'counts'\u001b[0m\u001b[0;34m]\u001b[0m\u001b[0;34m,\u001b[0m \u001b[0mascending\u001b[0m\u001b[0;34m=\u001b[0m\u001b[0;34m[\u001b[0m\u001b[0;36m0\u001b[0m\u001b[0;34m]\u001b[0m\u001b[0;34m)\u001b[0m\u001b[0;34m\u001b[0m\u001b[0m\n\u001b[1;32m      5\u001b[0m \u001b[0mx\u001b[0m\u001b[0;34m[\u001b[0m\u001b[0;34m'cum_sum'\u001b[0m\u001b[0;34m]\u001b[0m \u001b[0;34m=\u001b[0m \u001b[0mx\u001b[0m\u001b[0;34m.\u001b[0m\u001b[0mcounts\u001b[0m\u001b[0;34m.\u001b[0m\u001b[0mcumsum\u001b[0m\u001b[0;34m(\u001b[0m\u001b[0;34m)\u001b[0m\u001b[0;34m\u001b[0m\u001b[0m\n",
      "\u001b[0;32m/Users/Joel/anaconda/lib/python2.7/site-packages/pandas/core/generic.pyc\u001b[0m in \u001b[0;36m__setattr__\u001b[0;34m(self, name, value)\u001b[0m\n\u001b[1;32m   2981\u001b[0m         \u001b[0;32mtry\u001b[0m\u001b[0;34m:\u001b[0m\u001b[0;34m\u001b[0m\u001b[0m\n\u001b[1;32m   2982\u001b[0m             \u001b[0mobject\u001b[0m\u001b[0;34m.\u001b[0m\u001b[0m__getattribute__\u001b[0m\u001b[0;34m(\u001b[0m\u001b[0mself\u001b[0m\u001b[0;34m,\u001b[0m \u001b[0mname\u001b[0m\u001b[0;34m)\u001b[0m\u001b[0;34m\u001b[0m\u001b[0m\n\u001b[0;32m-> 2983\u001b[0;31m             \u001b[0;32mreturn\u001b[0m \u001b[0mobject\u001b[0m\u001b[0;34m.\u001b[0m\u001b[0m__setattr__\u001b[0m\u001b[0;34m(\u001b[0m\u001b[0mself\u001b[0m\u001b[0;34m,\u001b[0m \u001b[0mname\u001b[0m\u001b[0;34m,\u001b[0m \u001b[0mvalue\u001b[0m\u001b[0;34m)\u001b[0m\u001b[0;34m\u001b[0m\u001b[0m\n\u001b[0m\u001b[1;32m   2984\u001b[0m         \u001b[0;32mexcept\u001b[0m \u001b[0mAttributeError\u001b[0m\u001b[0;34m:\u001b[0m\u001b[0;34m\u001b[0m\u001b[0m\n\u001b[1;32m   2985\u001b[0m             \u001b[0;32mpass\u001b[0m\u001b[0;34m\u001b[0m\u001b[0m\n",
      "\u001b[0;32mpandas/_libs/src/properties.pyx\u001b[0m in \u001b[0;36mpandas._libs.lib.AxisProperty.__set__ (pandas/_libs/lib.c:45103)\u001b[0;34m()\u001b[0m\n",
      "\u001b[0;32m/Users/Joel/anaconda/lib/python2.7/site-packages/pandas/core/generic.pyc\u001b[0m in \u001b[0;36m_set_axis\u001b[0;34m(self, axis, labels)\u001b[0m\n\u001b[1;32m    469\u001b[0m \u001b[0;34m\u001b[0m\u001b[0m\n\u001b[1;32m    470\u001b[0m     \u001b[0;32mdef\u001b[0m \u001b[0m_set_axis\u001b[0m\u001b[0;34m(\u001b[0m\u001b[0mself\u001b[0m\u001b[0;34m,\u001b[0m \u001b[0maxis\u001b[0m\u001b[0;34m,\u001b[0m \u001b[0mlabels\u001b[0m\u001b[0;34m)\u001b[0m\u001b[0;34m:\u001b[0m\u001b[0;34m\u001b[0m\u001b[0m\n\u001b[0;32m--> 471\u001b[0;31m         \u001b[0mself\u001b[0m\u001b[0;34m.\u001b[0m\u001b[0m_data\u001b[0m\u001b[0;34m.\u001b[0m\u001b[0mset_axis\u001b[0m\u001b[0;34m(\u001b[0m\u001b[0maxis\u001b[0m\u001b[0;34m,\u001b[0m \u001b[0mlabels\u001b[0m\u001b[0;34m)\u001b[0m\u001b[0;34m\u001b[0m\u001b[0m\n\u001b[0m\u001b[1;32m    472\u001b[0m         \u001b[0mself\u001b[0m\u001b[0;34m.\u001b[0m\u001b[0m_clear_item_cache\u001b[0m\u001b[0;34m(\u001b[0m\u001b[0;34m)\u001b[0m\u001b[0;34m\u001b[0m\u001b[0m\n\u001b[1;32m    473\u001b[0m \u001b[0;34m\u001b[0m\u001b[0m\n",
      "\u001b[0;32m/Users/Joel/anaconda/lib/python2.7/site-packages/pandas/core/internals.pyc\u001b[0m in \u001b[0;36mset_axis\u001b[0;34m(self, axis, new_labels)\u001b[0m\n\u001b[1;32m   2834\u001b[0m             raise ValueError('Length mismatch: Expected axis has %d elements, '\n\u001b[1;32m   2835\u001b[0m                              \u001b[0;34m'new values have %d elements'\u001b[0m \u001b[0;34m%\u001b[0m\u001b[0;34m\u001b[0m\u001b[0m\n\u001b[0;32m-> 2836\u001b[0;31m                              (old_len, new_len))\n\u001b[0m\u001b[1;32m   2837\u001b[0m \u001b[0;34m\u001b[0m\u001b[0m\n\u001b[1;32m   2838\u001b[0m         \u001b[0mself\u001b[0m\u001b[0;34m.\u001b[0m\u001b[0maxes\u001b[0m\u001b[0;34m[\u001b[0m\u001b[0maxis\u001b[0m\u001b[0;34m]\u001b[0m \u001b[0;34m=\u001b[0m \u001b[0mnew_labels\u001b[0m\u001b[0;34m\u001b[0m\u001b[0m\n",
      "\u001b[0;31mValueError\u001b[0m: Length mismatch: Expected axis has 0 elements, new values have 2 elements"
     ]
    }
   ],
   "source": [
    "# 3. Taking the most common words, how many unique words represent half of the total words in the corpus?\n",
    "x = pd.DataFrame(zip(HC_results.keys(), HC_results.values()))\n",
    "x.columns = ['word', 'counts']\n",
    "x = x.sort_values(['counts'], ascending=[0])\n",
    "x['cum_sum'] = x.counts.cumsum()\n",
    "x['cum_perc'] = x.cum_sum/x.counts.sum()\n",
    "HC_word_results = x\n",
    "HC_word_results_top50 = HC_word_results[HC_word_results['cum_perc'] <= .50]\n",
    "\n",
    "print ('%d unique stemmed words represent the top half of words in the corpus' % len(HC_word_results_top50))"
   ]
  },
  {
   "cell_type": "code",
   "execution_count": 78,
   "metadata": {},
   "outputs": [
    {
     "ename": "ValueError",
     "evalue": "Length mismatch: Expected axis has 0 elements, new values have 2 elements",
     "output_type": "error",
     "traceback": [
      "\u001b[0;31m---------------------------------------------------------------------------\u001b[0m",
      "\u001b[0;31mValueError\u001b[0m                                Traceback (most recent call last)",
      "\u001b[0;32m<ipython-input-78-c6659ca2bb92>\u001b[0m in \u001b[0;36m<module>\u001b[0;34m()\u001b[0m\n\u001b[1;32m      1\u001b[0m \u001b[0mx\u001b[0m \u001b[0;34m=\u001b[0m \u001b[0mpd\u001b[0m\u001b[0;34m.\u001b[0m\u001b[0mDataFrame\u001b[0m\u001b[0;34m(\u001b[0m\u001b[0mzip\u001b[0m\u001b[0;34m(\u001b[0m\u001b[0mDT_results\u001b[0m\u001b[0;34m.\u001b[0m\u001b[0mkeys\u001b[0m\u001b[0;34m(\u001b[0m\u001b[0;34m)\u001b[0m\u001b[0;34m,\u001b[0m \u001b[0mDT_results\u001b[0m\u001b[0;34m.\u001b[0m\u001b[0mvalues\u001b[0m\u001b[0;34m(\u001b[0m\u001b[0;34m)\u001b[0m\u001b[0;34m)\u001b[0m\u001b[0;34m)\u001b[0m\u001b[0;34m\u001b[0m\u001b[0m\n\u001b[0;32m----> 2\u001b[0;31m \u001b[0mx\u001b[0m\u001b[0;34m.\u001b[0m\u001b[0mcolumns\u001b[0m \u001b[0;34m=\u001b[0m \u001b[0;34m[\u001b[0m\u001b[0;34m'word'\u001b[0m\u001b[0;34m,\u001b[0m \u001b[0;34m'counts'\u001b[0m\u001b[0;34m]\u001b[0m\u001b[0;34m\u001b[0m\u001b[0m\n\u001b[0m\u001b[1;32m      3\u001b[0m \u001b[0mx\u001b[0m \u001b[0;34m=\u001b[0m \u001b[0mx\u001b[0m\u001b[0;34m.\u001b[0m\u001b[0msort_values\u001b[0m\u001b[0;34m(\u001b[0m\u001b[0;34m[\u001b[0m\u001b[0;34m'counts'\u001b[0m\u001b[0;34m]\u001b[0m\u001b[0;34m,\u001b[0m \u001b[0mascending\u001b[0m\u001b[0;34m=\u001b[0m\u001b[0;34m[\u001b[0m\u001b[0;36m0\u001b[0m\u001b[0;34m]\u001b[0m\u001b[0;34m)\u001b[0m\u001b[0;34m\u001b[0m\u001b[0m\n\u001b[1;32m      4\u001b[0m \u001b[0mx\u001b[0m\u001b[0;34m[\u001b[0m\u001b[0;34m'cum_sum'\u001b[0m\u001b[0;34m]\u001b[0m \u001b[0;34m=\u001b[0m \u001b[0mx\u001b[0m\u001b[0;34m.\u001b[0m\u001b[0mcounts\u001b[0m\u001b[0;34m.\u001b[0m\u001b[0mcumsum\u001b[0m\u001b[0;34m(\u001b[0m\u001b[0;34m)\u001b[0m\u001b[0;34m\u001b[0m\u001b[0m\n\u001b[1;32m      5\u001b[0m \u001b[0mx\u001b[0m\u001b[0;34m[\u001b[0m\u001b[0;34m'cum_perc'\u001b[0m\u001b[0;34m]\u001b[0m \u001b[0;34m=\u001b[0m \u001b[0mx\u001b[0m\u001b[0;34m.\u001b[0m\u001b[0mcum_sum\u001b[0m\u001b[0;34m/\u001b[0m\u001b[0mx\u001b[0m\u001b[0;34m.\u001b[0m\u001b[0mcounts\u001b[0m\u001b[0;34m.\u001b[0m\u001b[0msum\u001b[0m\u001b[0;34m(\u001b[0m\u001b[0;34m)\u001b[0m\u001b[0;34m\u001b[0m\u001b[0m\n",
      "\u001b[0;32m/Users/Joel/anaconda/lib/python2.7/site-packages/pandas/core/generic.pyc\u001b[0m in \u001b[0;36m__setattr__\u001b[0;34m(self, name, value)\u001b[0m\n\u001b[1;32m   2981\u001b[0m         \u001b[0;32mtry\u001b[0m\u001b[0;34m:\u001b[0m\u001b[0;34m\u001b[0m\u001b[0m\n\u001b[1;32m   2982\u001b[0m             \u001b[0mobject\u001b[0m\u001b[0;34m.\u001b[0m\u001b[0m__getattribute__\u001b[0m\u001b[0;34m(\u001b[0m\u001b[0mself\u001b[0m\u001b[0;34m,\u001b[0m \u001b[0mname\u001b[0m\u001b[0;34m)\u001b[0m\u001b[0;34m\u001b[0m\u001b[0m\n\u001b[0;32m-> 2983\u001b[0;31m             \u001b[0;32mreturn\u001b[0m \u001b[0mobject\u001b[0m\u001b[0;34m.\u001b[0m\u001b[0m__setattr__\u001b[0m\u001b[0;34m(\u001b[0m\u001b[0mself\u001b[0m\u001b[0;34m,\u001b[0m \u001b[0mname\u001b[0m\u001b[0;34m,\u001b[0m \u001b[0mvalue\u001b[0m\u001b[0;34m)\u001b[0m\u001b[0;34m\u001b[0m\u001b[0m\n\u001b[0m\u001b[1;32m   2984\u001b[0m         \u001b[0;32mexcept\u001b[0m \u001b[0mAttributeError\u001b[0m\u001b[0;34m:\u001b[0m\u001b[0;34m\u001b[0m\u001b[0m\n\u001b[1;32m   2985\u001b[0m             \u001b[0;32mpass\u001b[0m\u001b[0;34m\u001b[0m\u001b[0m\n",
      "\u001b[0;32mpandas/_libs/src/properties.pyx\u001b[0m in \u001b[0;36mpandas._libs.lib.AxisProperty.__set__ (pandas/_libs/lib.c:45103)\u001b[0;34m()\u001b[0m\n",
      "\u001b[0;32m/Users/Joel/anaconda/lib/python2.7/site-packages/pandas/core/generic.pyc\u001b[0m in \u001b[0;36m_set_axis\u001b[0;34m(self, axis, labels)\u001b[0m\n\u001b[1;32m    469\u001b[0m \u001b[0;34m\u001b[0m\u001b[0m\n\u001b[1;32m    470\u001b[0m     \u001b[0;32mdef\u001b[0m \u001b[0m_set_axis\u001b[0m\u001b[0;34m(\u001b[0m\u001b[0mself\u001b[0m\u001b[0;34m,\u001b[0m \u001b[0maxis\u001b[0m\u001b[0;34m,\u001b[0m \u001b[0mlabels\u001b[0m\u001b[0;34m)\u001b[0m\u001b[0;34m:\u001b[0m\u001b[0;34m\u001b[0m\u001b[0m\n\u001b[0;32m--> 471\u001b[0;31m         \u001b[0mself\u001b[0m\u001b[0;34m.\u001b[0m\u001b[0m_data\u001b[0m\u001b[0;34m.\u001b[0m\u001b[0mset_axis\u001b[0m\u001b[0;34m(\u001b[0m\u001b[0maxis\u001b[0m\u001b[0;34m,\u001b[0m \u001b[0mlabels\u001b[0m\u001b[0;34m)\u001b[0m\u001b[0;34m\u001b[0m\u001b[0m\n\u001b[0m\u001b[1;32m    472\u001b[0m         \u001b[0mself\u001b[0m\u001b[0;34m.\u001b[0m\u001b[0m_clear_item_cache\u001b[0m\u001b[0;34m(\u001b[0m\u001b[0;34m)\u001b[0m\u001b[0;34m\u001b[0m\u001b[0m\n\u001b[1;32m    473\u001b[0m \u001b[0;34m\u001b[0m\u001b[0m\n",
      "\u001b[0;32m/Users/Joel/anaconda/lib/python2.7/site-packages/pandas/core/internals.pyc\u001b[0m in \u001b[0;36mset_axis\u001b[0;34m(self, axis, new_labels)\u001b[0m\n\u001b[1;32m   2834\u001b[0m             raise ValueError('Length mismatch: Expected axis has %d elements, '\n\u001b[1;32m   2835\u001b[0m                              \u001b[0;34m'new values have %d elements'\u001b[0m \u001b[0;34m%\u001b[0m\u001b[0;34m\u001b[0m\u001b[0m\n\u001b[0;32m-> 2836\u001b[0;31m                              (old_len, new_len))\n\u001b[0m\u001b[1;32m   2837\u001b[0m \u001b[0;34m\u001b[0m\u001b[0m\n\u001b[1;32m   2838\u001b[0m         \u001b[0mself\u001b[0m\u001b[0;34m.\u001b[0m\u001b[0maxes\u001b[0m\u001b[0;34m[\u001b[0m\u001b[0maxis\u001b[0m\u001b[0;34m]\u001b[0m \u001b[0;34m=\u001b[0m \u001b[0mnew_labels\u001b[0m\u001b[0;34m\u001b[0m\u001b[0m\n",
      "\u001b[0;31mValueError\u001b[0m: Length mismatch: Expected axis has 0 elements, new values have 2 elements"
     ]
    }
   ],
   "source": [
    "x = pd.DataFrame(zip(DT_results.keys(), DT_results.values()))\n",
    "x.columns = ['word', 'counts']\n",
    "x = x.sort_values(['counts'], ascending=[0])\n",
    "x['cum_sum'] = x.counts.cumsum()\n",
    "x['cum_perc'] = x.cum_sum/x.counts.sum()\n",
    "DT_word_results = x\n",
    "DT_word_results_top50 = DT_word_results[DT_word_results['cum_perc'] <= .50]\n",
    "\n",
    "print ('%d unique stemmed words represent the top half of words in the corpus' % len(DT_word_results_top50))"
   ]
  },
  {
   "cell_type": "code",
   "execution_count": 79,
   "metadata": {},
   "outputs": [
    {
     "ename": "NameError",
     "evalue": "name 'HC_word_results' is not defined",
     "output_type": "error",
     "traceback": [
      "\u001b[0;31m---------------------------------------------------------------------------\u001b[0m",
      "\u001b[0;31mNameError\u001b[0m                                 Traceback (most recent call last)",
      "\u001b[0;32m<ipython-input-79-0aa1a7394fb8>\u001b[0m in \u001b[0;36m<module>\u001b[0;34m()\u001b[0m\n\u001b[1;32m      1\u001b[0m \u001b[0;31m# 4. Identify the 200 highest frequency words in this corpus.\u001b[0m\u001b[0;34m\u001b[0m\u001b[0;34m\u001b[0m\u001b[0m\n\u001b[0;32m----> 2\u001b[0;31m \u001b[0mHC_word_results_top200\u001b[0m \u001b[0;34m=\u001b[0m \u001b[0mHC_word_results\u001b[0m\u001b[0;34m.\u001b[0m\u001b[0mhead\u001b[0m\u001b[0;34m(\u001b[0m\u001b[0;36m200\u001b[0m\u001b[0;34m)\u001b[0m\u001b[0;34m\u001b[0m\u001b[0m\n\u001b[0m\u001b[1;32m      3\u001b[0m \u001b[0mDT_word_results_top200\u001b[0m \u001b[0;34m=\u001b[0m \u001b[0mDT_word_results\u001b[0m\u001b[0;34m.\u001b[0m\u001b[0mhead\u001b[0m\u001b[0;34m(\u001b[0m\u001b[0;36m200\u001b[0m\u001b[0;34m)\u001b[0m\u001b[0;34m\u001b[0m\u001b[0m\n",
      "\u001b[0;31mNameError\u001b[0m: name 'HC_word_results' is not defined"
     ]
    }
   ],
   "source": [
    "# 4. Identify the 200 highest frequency words in this corpus.\n",
    "HC_word_results_top200 = HC_word_results.head(200)\n",
    "DT_word_results_top200 = DT_word_results.head(200)"
   ]
  },
  {
   "cell_type": "code",
   "execution_count": 80,
   "metadata": {},
   "outputs": [
    {
     "ename": "NameError",
     "evalue": "name 'HC_word_results_top200' is not defined",
     "output_type": "error",
     "traceback": [
      "\u001b[0;31m---------------------------------------------------------------------------\u001b[0m",
      "\u001b[0;31mNameError\u001b[0m                                 Traceback (most recent call last)",
      "\u001b[0;32m<ipython-input-80-8bcbde25c8ea>\u001b[0m in \u001b[0;36m<module>\u001b[0;34m()\u001b[0m\n\u001b[1;32m      1\u001b[0m \u001b[0;32mimport\u001b[0m \u001b[0mmatplotlib\u001b[0m\u001b[0;34m.\u001b[0m\u001b[0mpyplot\u001b[0m \u001b[0;32mas\u001b[0m \u001b[0mplt\u001b[0m\u001b[0;34m\u001b[0m\u001b[0m\n\u001b[0;32m----> 2\u001b[0;31m \u001b[0mHC_word_results_top200\u001b[0m\u001b[0;34m.\u001b[0m\u001b[0mplot\u001b[0m\u001b[0;34m(\u001b[0m \u001b[0mx\u001b[0m \u001b[0;34m=\u001b[0m \u001b[0;34m'word'\u001b[0m\u001b[0;34m,\u001b[0m \u001b[0my\u001b[0m \u001b[0;34m=\u001b[0m \u001b[0;34m'cum_sum'\u001b[0m\u001b[0;34m)\u001b[0m\u001b[0;34m\u001b[0m\u001b[0m\n\u001b[0m\u001b[1;32m      3\u001b[0m \u001b[0mplt\u001b[0m\u001b[0;34m.\u001b[0m\u001b[0mshow\u001b[0m\u001b[0;34m(\u001b[0m\u001b[0;34m)\u001b[0m\u001b[0;34m\u001b[0m\u001b[0m\n",
      "\u001b[0;31mNameError\u001b[0m: name 'HC_word_results_top200' is not defined"
     ]
    }
   ],
   "source": [
    "import matplotlib.pyplot as plt\n",
    "HC_word_results_top200.plot( x = 'word', y = 'cum_sum')\n",
    "plt.show()"
   ]
  },
  {
   "cell_type": "code",
   "execution_count": 81,
   "metadata": {},
   "outputs": [
    {
     "ename": "NameError",
     "evalue": "name 'DT_word_results_top200' is not defined",
     "output_type": "error",
     "traceback": [
      "\u001b[0;31m---------------------------------------------------------------------------\u001b[0m",
      "\u001b[0;31mNameError\u001b[0m                                 Traceback (most recent call last)",
      "\u001b[0;32m<ipython-input-81-0dddebbf2532>\u001b[0m in \u001b[0;36m<module>\u001b[0;34m()\u001b[0m\n\u001b[0;32m----> 1\u001b[0;31m \u001b[0mDT_word_results_top200\u001b[0m\u001b[0;34m.\u001b[0m\u001b[0mplot\u001b[0m\u001b[0;34m(\u001b[0m \u001b[0mx\u001b[0m \u001b[0;34m=\u001b[0m \u001b[0;34m'word'\u001b[0m\u001b[0;34m,\u001b[0m \u001b[0my\u001b[0m \u001b[0;34m=\u001b[0m \u001b[0;34m'cum_sum'\u001b[0m\u001b[0;34m)\u001b[0m\u001b[0;34m\u001b[0m\u001b[0m\n\u001b[0m\u001b[1;32m      2\u001b[0m \u001b[0mplt\u001b[0m\u001b[0;34m.\u001b[0m\u001b[0mshow\u001b[0m\u001b[0;34m(\u001b[0m\u001b[0;34m)\u001b[0m\u001b[0;34m\u001b[0m\u001b[0m\n",
      "\u001b[0;31mNameError\u001b[0m: name 'DT_word_results_top200' is not defined"
     ]
    }
   ],
   "source": [
    "DT_word_results_top200.plot( x = 'word', y = 'cum_sum')\n",
    "plt.show()"
   ]
  },
  {
   "cell_type": "code",
   "execution_count": 82,
   "metadata": {},
   "outputs": [
    {
     "name": "stdout",
     "output_type": "stream",
     "text": [
      "No matches\n"
     ]
    }
   ],
   "source": [
    "tokens = RegexpTokenizer(r'\\w+').tokenize(HC_text)\n",
    "text = nltk.Text(tokens)\n",
    "text.concordance(\"Trump\")"
   ]
  },
  {
   "cell_type": "code",
   "execution_count": 83,
   "metadata": {},
   "outputs": [
    {
     "name": "stdout",
     "output_type": "stream",
     "text": [
      "No matches\n"
     ]
    }
   ],
   "source": [
    "tokens = RegexpTokenizer(r'\\w+').tokenize(DT_text)\n",
    "text = nltk.Text(tokens)\n",
    "text.concordance(\"Clinton\")"
   ]
  }
 ],
 "metadata": {
  "kernelspec": {
   "display_name": "Python 2",
   "language": "python",
   "name": "python2"
  },
  "language_info": {
   "codemirror_mode": {
    "name": "ipython",
    "version": 2
   },
   "file_extension": ".py",
   "mimetype": "text/x-python",
   "name": "python",
   "nbconvert_exporter": "python",
   "pygments_lexer": "ipython2",
   "version": "2.7.13"
  }
 },
 "nbformat": 4,
 "nbformat_minor": 2
}
