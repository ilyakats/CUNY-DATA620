{
 "cells": [
  {
   "cell_type": "markdown",
   "metadata": {},
   "source": [
    "# Graphlab for Game of Thrones"
   ]
  },
  {
   "cell_type": "markdown",
   "metadata": {},
   "source": [
    "Submitted by: Team 2 (Joel Park)\n",
    "CUNY 620 Assignment Week 1\n",
    "In this assignment, you're asked to create the nodes and edges for a basic graph.\n",
    "You're welcome to substitue data of your own choosing.\n",
    "\n",
    "In this assignment, we will be using Graphlab to create a graphical representation for the characters in the games\n",
    "of thrones. The csv file was obtained from: https://www.macalester.edu/~abeverid/data/stormofswords.csv\n",
    "\n",
    "The tutorial itself from GraphLab Create was very helpful. It provided a foundation for us for this particular assignment. https://github.com/turi-code/tutorials/blob/master/notebooks/getting_started_with_graphlab_create.ipynb"
   ]
  },
  {
   "cell_type": "code",
   "execution_count": 1,
   "metadata": {
    "collapsed": true
   },
   "outputs": [],
   "source": [
    "# Import libraries\n",
    "\n",
    "import graphlab as gl\n",
    "gl.canvas.set_target('ipynb')"
   ]
  },
  {
   "cell_type": "markdown",
   "metadata": {},
   "source": [
    "# Load data into an SFrame"
   ]
  },
  {
   "cell_type": "markdown",
   "metadata": {},
   "source": [
    "In this particular example, I had used the 'stormofswords.csv' for both the vertices (nodes) and for its edges. This was done as there was only one .csv file to work from. Each pair in this .csv represents an \"interaction\" between two characters in the Game of Thrones world. And it is not surprising that some of the characters have interacted with numerous other characters. Therefore, some names come up several times and are redundant. With the vertices, I had used the set() function to create a list of unique names from both the 'Source' and 'Target' and created my own SFrame. This SFrame was then used as the basis for my vertices for the graph."
   ]
  },
  {
   "cell_type": "code",
   "execution_count": 42,
   "metadata": {
    "collapsed": false,
    "scrolled": false
   },
   "outputs": [
    {
     "data": {
      "text/html": [
       "<pre>Finished parsing file https://www.macalester.edu/~abeverid/data/stormofswords.csv</pre>"
      ],
      "text/plain": [
       "Finished parsing file https://www.macalester.edu/~abeverid/data/stormofswords.csv"
      ]
     },
     "metadata": {},
     "output_type": "display_data"
    },
    {
     "data": {
      "text/html": [
       "<pre>Parsing completed. Parsed 100 lines in 0.010824 secs.</pre>"
      ],
      "text/plain": [
       "Parsing completed. Parsed 100 lines in 0.010824 secs."
      ]
     },
     "metadata": {},
     "output_type": "display_data"
    },
    {
     "name": "stdout",
     "output_type": "stream",
     "text": [
      "------------------------------------------------------\n",
      "Inferred types from first 100 line(s) of file as \n",
      "column_type_hints=[str,str,int]\n",
      "If parsing fails due to incorrect types, you can correct\n",
      "the inferred type list above and pass it to read_csv in\n",
      "the column_type_hints argument\n",
      "------------------------------------------------------\n"
     ]
    },
    {
     "data": {
      "text/html": [
       "<pre>Finished parsing file https://www.macalester.edu/~abeverid/data/stormofswords.csv</pre>"
      ],
      "text/plain": [
       "Finished parsing file https://www.macalester.edu/~abeverid/data/stormofswords.csv"
      ]
     },
     "metadata": {},
     "output_type": "display_data"
    },
    {
     "data": {
      "text/html": [
       "<pre>Parsing completed. Parsed 352 lines in 0.009611 secs.</pre>"
      ],
      "text/plain": [
       "Parsing completed. Parsed 352 lines in 0.009611 secs."
      ]
     },
     "metadata": {},
     "output_type": "display_data"
    }
   ],
   "source": [
    "vertices = gl.SFrame.read_csv('https://www.macalester.edu/~abeverid/data/stormofswords.csv')\n",
    "Unique_Names = set(list(set(vertices['Source'])) + list(set(vertices['Target'])))\n",
    "vertices = gl.SFrame({'Names': Unique_Names})"
   ]
  },
  {
   "cell_type": "code",
   "execution_count": 44,
   "metadata": {
    "collapsed": false
   },
   "outputs": [
    {
     "data": {
      "text/html": [
       "<div style=\"max-height:1000px;max-width:1500px;overflow:auto;\"><table frame=\"box\" rules=\"cols\">\n",
       "    <tr>\n",
       "        <th style=\"padding-left: 1em; padding-right: 1em; text-align: center\">Names</th>\n",
       "    </tr>\n",
       "    <tr>\n",
       "        <td style=\"padding-left: 1em; padding-right: 1em; text-align: center; vertical-align: top\">Jon Arryn</td>\n",
       "    </tr>\n",
       "    <tr>\n",
       "        <td style=\"padding-left: 1em; padding-right: 1em; text-align: center; vertical-align: top\">Val</td>\n",
       "    </tr>\n",
       "    <tr>\n",
       "        <td style=\"padding-left: 1em; padding-right: 1em; text-align: center; vertical-align: top\">Balon</td>\n",
       "    </tr>\n",
       "    <tr>\n",
       "        <td style=\"padding-left: 1em; padding-right: 1em; text-align: center; vertical-align: top\">Brynden</td>\n",
       "    </tr>\n",
       "    <tr>\n",
       "        <td style=\"padding-left: 1em; padding-right: 1em; text-align: center; vertical-align: top\">Shireen</td>\n",
       "    </tr>\n",
       "    <tr>\n",
       "        <td style=\"padding-left: 1em; padding-right: 1em; text-align: center; vertical-align: top\">Belwas</td>\n",
       "    </tr>\n",
       "    <tr>\n",
       "        <td style=\"padding-left: 1em; padding-right: 1em; text-align: center; vertical-align: top\">Walton</td>\n",
       "    </tr>\n",
       "    <tr>\n",
       "        <td style=\"padding-left: 1em; padding-right: 1em; text-align: center; vertical-align: top\">Chataya</td>\n",
       "    </tr>\n",
       "    <tr>\n",
       "        <td style=\"padding-left: 1em; padding-right: 1em; text-align: center; vertical-align: top\">Tyrion</td>\n",
       "    </tr>\n",
       "    <tr>\n",
       "        <td style=\"padding-left: 1em; padding-right: 1em; text-align: center; vertical-align: top\">Margaery</td>\n",
       "    </tr>\n",
       "</table>\n",
       "[107 rows x 1 columns]<br/>Note: Only the head of the SFrame is printed.<br/>You can use print_rows(num_rows=m, num_columns=n) to print more rows and columns.\n",
       "</div>"
      ],
      "text/plain": [
       "Columns:\n",
       "\tNames\tstr\n",
       "\n",
       "Rows: 107\n",
       "\n",
       "Data:\n",
       "+-----------+\n",
       "|   Names   |\n",
       "+-----------+\n",
       "| Jon Arryn |\n",
       "|    Val    |\n",
       "|   Balon   |\n",
       "|  Brynden  |\n",
       "|  Shireen  |\n",
       "|   Belwas  |\n",
       "|   Walton  |\n",
       "|  Chataya  |\n",
       "|   Tyrion  |\n",
       "|  Margaery |\n",
       "+-----------+\n",
       "[107 rows x 1 columns]\n",
       "Note: Only the head of the SFrame is printed.\n",
       "You can use print_rows(num_rows=m, num_columns=n) to print more rows and columns."
      ]
     },
     "execution_count": 44,
     "metadata": {},
     "output_type": "execute_result"
    }
   ],
   "source": [
    "vertices"
   ]
  },
  {
   "cell_type": "markdown",
   "metadata": {},
   "source": [
    "There are now 107 unique names for vertices. "
   ]
  },
  {
   "cell_type": "code",
   "execution_count": 3,
   "metadata": {
    "collapsed": false
   },
   "outputs": [
    {
     "name": "stdout",
     "output_type": "stream",
     "text": [
      "This non-commercial license of GraphLab Create for academic use is assigned to joel.park@spsmail.cuny.edu and will expire on June 05, 2018.\n"
     ]
    },
    {
     "name": "stderr",
     "output_type": "stream",
     "text": [
      "[INFO] graphlab.cython.cy_server: GraphLab Create v2.1 started. Logging: /tmp/graphlab_server_1496954796.log\n"
     ]
    },
    {
     "data": {
      "text/html": [
       "<pre>Downloading https://www.macalester.edu/~abeverid/data/stormofswords.csv to /var/tmp/graphlab-Joel/1858/62cca452-2adb-41d4-8648-8cdb5e1e2be4.csv</pre>"
      ],
      "text/plain": [
       "Downloading https://www.macalester.edu/~abeverid/data/stormofswords.csv to /var/tmp/graphlab-Joel/1858/62cca452-2adb-41d4-8648-8cdb5e1e2be4.csv"
      ]
     },
     "metadata": {},
     "output_type": "display_data"
    },
    {
     "data": {
      "text/html": [
       "<pre>Finished parsing file https://www.macalester.edu/~abeverid/data/stormofswords.csv</pre>"
      ],
      "text/plain": [
       "Finished parsing file https://www.macalester.edu/~abeverid/data/stormofswords.csv"
      ]
     },
     "metadata": {},
     "output_type": "display_data"
    },
    {
     "data": {
      "text/html": [
       "<pre>Parsing completed. Parsed 100 lines in 0.031171 secs.</pre>"
      ],
      "text/plain": [
       "Parsing completed. Parsed 100 lines in 0.031171 secs."
      ]
     },
     "metadata": {},
     "output_type": "display_data"
    },
    {
     "name": "stdout",
     "output_type": "stream",
     "text": [
      "------------------------------------------------------\n",
      "Inferred types from first 100 line(s) of file as \n",
      "column_type_hints=[str,str,int]\n",
      "If parsing fails due to incorrect types, you can correct\n",
      "the inferred type list above and pass it to read_csv in\n",
      "the column_type_hints argument\n",
      "------------------------------------------------------\n"
     ]
    },
    {
     "data": {
      "text/html": [
       "<pre>Finished parsing file https://www.macalester.edu/~abeverid/data/stormofswords.csv</pre>"
      ],
      "text/plain": [
       "Finished parsing file https://www.macalester.edu/~abeverid/data/stormofswords.csv"
      ]
     },
     "metadata": {},
     "output_type": "display_data"
    },
    {
     "data": {
      "text/html": [
       "<pre>Parsing completed. Parsed 352 lines in 0.012646 secs.</pre>"
      ],
      "text/plain": [
       "Parsing completed. Parsed 352 lines in 0.012646 secs."
      ]
     },
     "metadata": {},
     "output_type": "display_data"
    }
   ],
   "source": [
    "edges = gl.SFrame.read_csv('https://www.macalester.edu/~abeverid/data/stormofswords.csv')"
   ]
  },
  {
   "cell_type": "code",
   "execution_count": 4,
   "metadata": {
    "collapsed": false
   },
   "outputs": [
    {
     "data": {
      "text/html": [
       "<div style=\"max-height:1000px;max-width:1500px;overflow:auto;\"><table frame=\"box\" rules=\"cols\">\n",
       "    <tr>\n",
       "        <th style=\"padding-left: 1em; padding-right: 1em; text-align: center\">Source</th>\n",
       "        <th style=\"padding-left: 1em; padding-right: 1em; text-align: center\">Target</th>\n",
       "        <th style=\"padding-left: 1em; padding-right: 1em; text-align: center\">Weight</th>\n",
       "    </tr>\n",
       "    <tr>\n",
       "        <td style=\"padding-left: 1em; padding-right: 1em; text-align: center; vertical-align: top\">Aemon</td>\n",
       "        <td style=\"padding-left: 1em; padding-right: 1em; text-align: center; vertical-align: top\">Grenn</td>\n",
       "        <td style=\"padding-left: 1em; padding-right: 1em; text-align: center; vertical-align: top\">5</td>\n",
       "    </tr>\n",
       "    <tr>\n",
       "        <td style=\"padding-left: 1em; padding-right: 1em; text-align: center; vertical-align: top\">Aemon</td>\n",
       "        <td style=\"padding-left: 1em; padding-right: 1em; text-align: center; vertical-align: top\">Samwell</td>\n",
       "        <td style=\"padding-left: 1em; padding-right: 1em; text-align: center; vertical-align: top\">31</td>\n",
       "    </tr>\n",
       "    <tr>\n",
       "        <td style=\"padding-left: 1em; padding-right: 1em; text-align: center; vertical-align: top\">Aerys</td>\n",
       "        <td style=\"padding-left: 1em; padding-right: 1em; text-align: center; vertical-align: top\">Jaime</td>\n",
       "        <td style=\"padding-left: 1em; padding-right: 1em; text-align: center; vertical-align: top\">18</td>\n",
       "    </tr>\n",
       "    <tr>\n",
       "        <td style=\"padding-left: 1em; padding-right: 1em; text-align: center; vertical-align: top\">Aerys</td>\n",
       "        <td style=\"padding-left: 1em; padding-right: 1em; text-align: center; vertical-align: top\">Robert</td>\n",
       "        <td style=\"padding-left: 1em; padding-right: 1em; text-align: center; vertical-align: top\">6</td>\n",
       "    </tr>\n",
       "    <tr>\n",
       "        <td style=\"padding-left: 1em; padding-right: 1em; text-align: center; vertical-align: top\">Aerys</td>\n",
       "        <td style=\"padding-left: 1em; padding-right: 1em; text-align: center; vertical-align: top\">Tyrion</td>\n",
       "        <td style=\"padding-left: 1em; padding-right: 1em; text-align: center; vertical-align: top\">5</td>\n",
       "    </tr>\n",
       "    <tr>\n",
       "        <td style=\"padding-left: 1em; padding-right: 1em; text-align: center; vertical-align: top\">Aerys</td>\n",
       "        <td style=\"padding-left: 1em; padding-right: 1em; text-align: center; vertical-align: top\">Tywin</td>\n",
       "        <td style=\"padding-left: 1em; padding-right: 1em; text-align: center; vertical-align: top\">8</td>\n",
       "    </tr>\n",
       "    <tr>\n",
       "        <td style=\"padding-left: 1em; padding-right: 1em; text-align: center; vertical-align: top\">Alliser</td>\n",
       "        <td style=\"padding-left: 1em; padding-right: 1em; text-align: center; vertical-align: top\">Mance</td>\n",
       "        <td style=\"padding-left: 1em; padding-right: 1em; text-align: center; vertical-align: top\">5</td>\n",
       "    </tr>\n",
       "    <tr>\n",
       "        <td style=\"padding-left: 1em; padding-right: 1em; text-align: center; vertical-align: top\">Amory</td>\n",
       "        <td style=\"padding-left: 1em; padding-right: 1em; text-align: center; vertical-align: top\">Oberyn</td>\n",
       "        <td style=\"padding-left: 1em; padding-right: 1em; text-align: center; vertical-align: top\">5</td>\n",
       "    </tr>\n",
       "    <tr>\n",
       "        <td style=\"padding-left: 1em; padding-right: 1em; text-align: center; vertical-align: top\">Arya</td>\n",
       "        <td style=\"padding-left: 1em; padding-right: 1em; text-align: center; vertical-align: top\">Anguy</td>\n",
       "        <td style=\"padding-left: 1em; padding-right: 1em; text-align: center; vertical-align: top\">11</td>\n",
       "    </tr>\n",
       "    <tr>\n",
       "        <td style=\"padding-left: 1em; padding-right: 1em; text-align: center; vertical-align: top\">Arya</td>\n",
       "        <td style=\"padding-left: 1em; padding-right: 1em; text-align: center; vertical-align: top\">Beric</td>\n",
       "        <td style=\"padding-left: 1em; padding-right: 1em; text-align: center; vertical-align: top\">23</td>\n",
       "    </tr>\n",
       "</table>\n",
       "[352 rows x 3 columns]<br/>Note: Only the head of the SFrame is printed.<br/>You can use print_rows(num_rows=m, num_columns=n) to print more rows and columns.\n",
       "</div>"
      ],
      "text/plain": [
       "Columns:\n",
       "\tSource\tstr\n",
       "\tTarget\tstr\n",
       "\tWeight\tint\n",
       "\n",
       "Rows: 352\n",
       "\n",
       "Data:\n",
       "+---------+---------+--------+\n",
       "|  Source |  Target | Weight |\n",
       "+---------+---------+--------+\n",
       "|  Aemon  |  Grenn  |   5    |\n",
       "|  Aemon  | Samwell |   31   |\n",
       "|  Aerys  |  Jaime  |   18   |\n",
       "|  Aerys  |  Robert |   6    |\n",
       "|  Aerys  |  Tyrion |   5    |\n",
       "|  Aerys  |  Tywin  |   8    |\n",
       "| Alliser |  Mance  |   5    |\n",
       "|  Amory  |  Oberyn |   5    |\n",
       "|   Arya  |  Anguy  |   11   |\n",
       "|   Arya  |  Beric  |   23   |\n",
       "+---------+---------+--------+\n",
       "[352 rows x 3 columns]\n",
       "Note: Only the head of the SFrame is printed.\n",
       "You can use print_rows(num_rows=m, num_columns=n) to print more rows and columns."
      ]
     },
     "execution_count": 4,
     "metadata": {},
     "output_type": "execute_result"
    }
   ],
   "source": [
    "edges"
   ]
  },
  {
   "cell_type": "code",
   "execution_count": 5,
   "metadata": {
    "collapsed": false
   },
   "outputs": [
    {
     "data": {
      "application/javascript": [
       "$(\"head\").append($(\"<link/>\").attr({\n",
       "  rel:  \"stylesheet\",\n",
       "  type: \"text/css\",\n",
       "  href: \"//cdnjs.cloudflare.com/ajax/libs/font-awesome/4.1.0/css/font-awesome.min.css\"\n",
       "}));\n",
       "$(\"head\").append($(\"<link/>\").attr({\n",
       "  rel:  \"stylesheet\",\n",
       "  type: \"text/css\",\n",
       "  href: \"https://static.turi.com/products/graphlab-create/2.1/canvas/css/canvas.css\"\n",
       "}));\n",
       "\n",
       "            (function(){\n",
       "\n",
       "                var e = null;\n",
       "                if (typeof element == 'undefined') {\n",
       "                    var scripts = document.getElementsByTagName('script');\n",
       "                    var thisScriptTag = scripts[scripts.length-1];\n",
       "                    var parentDiv = thisScriptTag.parentNode;\n",
       "                    e = document.createElement('div');\n",
       "                    parentDiv.appendChild(e);\n",
       "                } else {\n",
       "                    e = element[0];\n",
       "                }\n",
       "\n",
       "                if (typeof requirejs !== 'undefined') {\n",
       "                    // disable load timeout; ipython_app.js is large and can take a while to load.\n",
       "                    requirejs.config({waitSeconds: 0});\n",
       "                }\n",
       "\n",
       "                require(['https://static.turi.com/products/graphlab-create/2.1/canvas/js/ipython_app.js'], function(IPythonApp){\n",
       "                    var app = new IPythonApp();\n",
       "                    app.attachView('sframe','Summary', {\"ipython\": true, \"sketch\": {\"Source\": {\"complete\": true, \"numeric\": false, \"num_unique\": 71, \"num_undefined\": 0, \"progress\": 1.0, \"frequent_items\": {\"Stannis\": {\"frequency\": 6, \"value\": \"Stannis\"}, \"Jaime\": {\"frequency\": 15, \"value\": \"Jaime\"}, \"Ygritte\": {\"frequency\": 2, \"value\": \"Ygritte\"}, \"Jon Arryn\": {\"frequency\": 2, \"value\": \"Jon Arryn\"}, \"Val\": {\"frequency\": 1, \"value\": \"Val\"}, \"Balon\": {\"frequency\": 1, \"value\": \"Balon\"}, \"Gregor\": {\"frequency\": 5, \"value\": \"Gregor\"}, \"Gilly\": {\"frequency\": 1, \"value\": \"Gilly\"}, \"Daario\": {\"frequency\": 2, \"value\": \"Daario\"}, \"Shae\": {\"frequency\": 2, \"value\": \"Shae\"}, \"Daenerys\": {\"frequency\": 14, \"value\": \"Daenerys\"}, \"Walder\": {\"frequency\": 3, \"value\": \"Walder\"}, \"Aerys\": {\"frequency\": 4, \"value\": \"Aerys\"}, \"Podrick\": {\"frequency\": 1, \"value\": \"Podrick\"}, \"Mance\": {\"frequency\": 8, \"value\": \"Mance\"}, \"Brienne\": {\"frequency\": 1, \"value\": \"Brienne\"}, \"Viserys\": {\"frequency\": 2, \"value\": \"Viserys\"}, \"Samwell\": {\"frequency\": 8, \"value\": \"Samwell\"}, \"Jorah\": {\"frequency\": 4, \"value\": \"Jorah\"}, \"Amory\": {\"frequency\": 1, \"value\": \"Amory\"}, \"Belwas\": {\"frequency\": 2, \"value\": \"Belwas\"}, \"Rickard\": {\"frequency\": 1, \"value\": \"Rickard\"}, \"Walton\": {\"frequency\": 1, \"value\": \"Walton\"}, \"Sandor\": {\"frequency\": 6, \"value\": \"Sandor\"}, \"Janos\": {\"frequency\": 3, \"value\": \"Janos\"}, \"Meera\": {\"frequency\": 1, \"value\": \"Meera\"}, \"Meryn\": {\"frequency\": 1, \"value\": \"Meryn\"}, \"Rattleshirt\": {\"frequency\": 1, \"value\": \"Rattleshirt\"}, \"Joffrey\": {\"frequency\": 12, \"value\": \"Joffrey\"}, \"Brynden\": {\"frequency\": 2, \"value\": \"Brynden\"}, \"Rickon\": {\"frequency\": 1, \"value\": \"Rickon\"}, \"Oberyn\": {\"frequency\": 2, \"value\": \"Oberyn\"}, \"Jon\": {\"frequency\": 21, \"value\": \"Jon\"}, \"Catelyn\": {\"frequency\": 17, \"value\": \"Catelyn\"}, \"Edmure\": {\"frequency\": 4, \"value\": \"Edmure\"}, \"Jojen\": {\"frequency\": 2, \"value\": \"Jojen\"}, \"Davos\": {\"frequency\": 2, \"value\": \"Davos\"}, \"Craster\": {\"frequency\": 1, \"value\": \"Craster\"}, \"Irri\": {\"frequency\": 1, \"value\": \"Irri\"}, \"Kevan\": {\"frequency\": 2, \"value\": \"Kevan\"}, \"Gendry\": {\"frequency\": 1, \"value\": \"Gendry\"}, \"Lysa\": {\"frequency\": 7, \"value\": \"Lysa\"}, \"Tyrion\": {\"frequency\": 24, \"value\": \"Tyrion\"}, \"Eddison\": {\"frequency\": 1, \"value\": \"Eddison\"}, \"Varys\": {\"frequency\": 1, \"value\": \"Varys\"}, \"Renly\": {\"frequency\": 3, \"value\": \"Renly\"}, \"Alliser\": {\"frequency\": 1, \"value\": \"Alliser\"}, \"Bronn\": {\"frequency\": 2, \"value\": \"Bronn\"}, \"Lothar\": {\"frequency\": 1, \"value\": \"Lothar\"}, \"Robert\": {\"frequency\": 5, \"value\": \"Robert\"}, \"Arya\": {\"frequency\": 16, \"value\": \"Arya\"}, \"Missandei\": {\"frequency\": 1, \"value\": \"Missandei\"}, \"Bran\": {\"frequency\": 9, \"value\": \"Bran\"}, \"Hoster\": {\"frequency\": 1, \"value\": \"Hoster\"}, \"Beric\": {\"frequency\": 3, \"value\": \"Beric\"}, \"Rhaegar\": {\"frequency\": 4, \"value\": \"Rhaegar\"}, \"Sansa\": {\"frequency\": 23, \"value\": \"Sansa\"}, \"Tywin\": {\"frequency\": 19, \"value\": \"Tywin\"}, \"Eddard\": {\"frequency\": 12, \"value\": \"Eddard\"}, \"Melisandre\": {\"frequency\": 2, \"value\": \"Melisandre\"}, \"Cersei\": {\"frequency\": 14, \"value\": \"Cersei\"}, \"Roose\": {\"frequency\": 1, \"value\": \"Roose\"}, \"Robb\": {\"frequency\": 23, \"value\": \"Robb\"}, \"Shireen\": {\"frequency\": 1, \"value\": \"Shireen\"}, \"Hodor\": {\"frequency\": 2, \"value\": \"Hodor\"}, \"Loras\": {\"frequency\": 2, \"value\": \"Loras\"}, \"Robert Arryn\": {\"frequency\": 1, \"value\": \"Robert Arryn\"}, \"Myrcella\": {\"frequency\": 2, \"value\": \"Myrcella\"}, \"Aemon\": {\"frequency\": 2, \"value\": \"Aemon\"}, \"Tommen\": {\"frequency\": 1, \"value\": \"Tommen\"}, \"Luwin\": {\"frequency\": 1, \"value\": \"Luwin\"}}, \"size\": 352}, \"Target\": {\"complete\": true, \"numeric\": false, \"num_unique\": 100, \"num_undefined\": 0, \"progress\": 1.0, \"frequent_items\": {\"Val\": {\"frequency\": 3, \"value\": \"Val\"}, \"Balon\": {\"frequency\": 5, \"value\": \"Balon\"}, \"Brynden\": {\"frequency\": 6, \"value\": \"Brynden\"}, \"Belwas\": {\"frequency\": 2, \"value\": \"Belwas\"}, \"Chataya\": {\"frequency\": 2, \"value\": \"Chataya\"}, \"Tyrion\": {\"frequency\": 12, \"value\": \"Tyrion\"}, \"Margaery\": {\"frequency\": 7, \"value\": \"Margaery\"}, \"Qhorin\": {\"frequency\": 5, \"value\": \"Qhorin\"}, \"Petyr\": {\"frequency\": 7, \"value\": \"Petyr\"}, \"Craster\": {\"frequency\": 4, \"value\": \"Craster\"}, \"Lancel\": {\"frequency\": 1, \"value\": \"Lancel\"}, \"Kevan\": {\"frequency\": 4, \"value\": \"Kevan\"}, \"Lysa\": {\"frequency\": 3, \"value\": \"Lysa\"}, \"Marillion\": {\"frequency\": 3, \"value\": \"Marillion\"}, \"Varys\": {\"frequency\": 6, \"value\": \"Varys\"}, \"Alliser\": {\"frequency\": 2, \"value\": \"Alliser\"}, \"Lothar\": {\"frequency\": 4, \"value\": \"Lothar\"}, \"Tywin\": {\"frequency\": 3, \"value\": \"Tywin\"}, \"Melisandre\": {\"frequency\": 2, \"value\": \"Melisandre\"}, \"Walder\": {\"frequency\": 5, \"value\": \"Walder\"}, \"Catelyn\": {\"frequency\": 1, \"value\": \"Catelyn\"}, \"Barristan\": {\"frequency\": 6, \"value\": \"Barristan\"}, \"Daario\": {\"frequency\": 2, \"value\": \"Daario\"}, \"Robb\": {\"frequency\": 2, \"value\": \"Robb\"}, \"Thoros\": {\"frequency\": 5, \"value\": \"Thoros\"}, \"Dalla\": {\"frequency\": 3, \"value\": \"Dalla\"}, \"Mance\": {\"frequency\": 4, \"value\": \"Mance\"}, \"Kraznys\": {\"frequency\": 1, \"value\": \"Kraznys\"}, \"Rickard\": {\"frequency\": 1, \"value\": \"Rickard\"}, \"Salladhor\": {\"frequency\": 1, \"value\": \"Salladhor\"}, \"Irri\": {\"frequency\": 3, \"value\": \"Irri\"}, \"Loras\": {\"frequency\": 7, \"value\": \"Loras\"}, \"Edmure\": {\"frequency\": 4, \"value\": \"Edmure\"}, \"Worm\": {\"frequency\": 1, \"value\": \"Worm\"}, \"Bronn\": {\"frequency\": 2, \"value\": \"Bronn\"}, \"Rakharo\": {\"frequency\": 1, \"value\": \"Rakharo\"}, \"Hoster\": {\"frequency\": 2, \"value\": \"Hoster\"}, \"Rhaegar\": {\"frequency\": 2, \"value\": \"Rhaegar\"}, \"Sansa\": {\"frequency\": 3, \"value\": \"Sansa\"}, \"Cersei\": {\"frequency\": 6, \"value\": \"Cersei\"}, \"Brienne\": {\"frequency\": 6, \"value\": \"Brienne\"}, \"Sandor\": {\"frequency\": 7, \"value\": \"Sandor\"}, \"Qyburn\": {\"frequency\": 1, \"value\": \"Qyburn\"}, \"Ilyn\": {\"frequency\": 6, \"value\": \"Ilyn\"}, \"Meryn\": {\"frequency\": 6, \"value\": \"Meryn\"}, \"Olenna\": {\"frequency\": 2, \"value\": \"Olenna\"}, \"Robert\": {\"frequency\": 13, \"value\": \"Robert\"}, \"Gilly\": {\"frequency\": 3, \"value\": \"Gilly\"}, \"Shae\": {\"frequency\": 3, \"value\": \"Shae\"}, \"Ellaria\": {\"frequency\": 2, \"value\": \"Ellaria\"}, \"Bowen\": {\"frequency\": 2, \"value\": \"Bowen\"}, \"Missandei\": {\"frequency\": 1, \"value\": \"Missandei\"}, \"Jorah\": {\"frequency\": 2, \"value\": \"Jorah\"}, \"Mace\": {\"frequency\": 3, \"value\": \"Mace\"}, \"Janos\": {\"frequency\": 3, \"value\": \"Janos\"}, \"Meera\": {\"frequency\": 4, \"value\": \"Meera\"}, \"Oberyn\": {\"frequency\": 5, \"value\": \"Oberyn\"}, \"Davos\": {\"frequency\": 3, \"value\": \"Davos\"}, \"Eddison\": {\"frequency\": 2, \"value\": \"Eddison\"}, \"Bran\": {\"frequency\": 5, \"value\": \"Bran\"}, \"Elia\": {\"frequency\": 5, \"value\": \"Elia\"}, \"Roose\": {\"frequency\": 3, \"value\": \"Roose\"}, \"Grenn\": {\"frequency\": 4, \"value\": \"Grenn\"}, \"Hodor\": {\"frequency\": 2, \"value\": \"Hodor\"}, \"Ramsay\": {\"frequency\": 1, \"value\": \"Ramsay\"}, \"Stannis\": {\"frequency\": 8, \"value\": \"Stannis\"}, \"Jeyne\": {\"frequency\": 2, \"value\": \"Jeyne\"}, \"Ygritte\": {\"frequency\": 2, \"value\": \"Ygritte\"}, \"Luwin\": {\"frequency\": 1, \"value\": \"Luwin\"}, \"Roslin\": {\"frequency\": 4, \"value\": \"Roslin\"}, \"Gregor\": {\"frequency\": 7, \"value\": \"Gregor\"}, \"Nan\": {\"frequency\": 2, \"value\": \"Nan\"}, \"Anguy\": {\"frequency\": 2, \"value\": \"Anguy\"}, \"Cressen\": {\"frequency\": 1, \"value\": \"Cressen\"}, \"Illyrio\": {\"frequency\": 1, \"value\": \"Illyrio\"}, \"Aegon\": {\"frequency\": 1, \"value\": \"Aegon\"}, \"Podrick\": {\"frequency\": 4, \"value\": \"Podrick\"}, \"Orell\": {\"frequency\": 1, \"value\": \"Orell\"}, \"Samwell\": {\"frequency\": 7, \"value\": \"Samwell\"}, \"Joffrey\": {\"frequency\": 6, \"value\": \"Joffrey\"}, \"Rickon\": {\"frequency\": 5, \"value\": \"Rickon\"}, \"Jon\": {\"frequency\": 5, \"value\": \"Jon\"}, \"Jojen\": {\"frequency\": 2, \"value\": \"Jojen\"}, \"Pycelle\": {\"frequency\": 4, \"value\": \"Pycelle\"}, \"Gendry\": {\"frequency\": 3, \"value\": \"Gendry\"}, \"Rattleshirt\": {\"frequency\": 3, \"value\": \"Rattleshirt\"}, \"Renly\": {\"frequency\": 5, \"value\": \"Renly\"}, \"Theon\": {\"frequency\": 4, \"value\": \"Theon\"}, \"Beric\": {\"frequency\": 3, \"value\": \"Beric\"}, \"Arya\": {\"frequency\": 3, \"value\": \"Arya\"}, \"Viserys\": {\"frequency\": 1, \"value\": \"Viserys\"}, \"Myrcella\": {\"frequency\": 2, \"value\": \"Myrcella\"}, \"Drogo\": {\"frequency\": 4, \"value\": \"Drogo\"}, \"Doran\": {\"frequency\": 1, \"value\": \"Doran\"}, \"Tommen\": {\"frequency\": 4, \"value\": \"Tommen\"}, \"Styr\": {\"frequency\": 2, \"value\": \"Styr\"}, \"Jaime\": {\"frequency\": 9, \"value\": \"Jaime\"}, \"Robert Arryn\": {\"frequency\": 2, \"value\": \"Robert Arryn\"}, \"Aemon\": {\"frequency\": 3, \"value\": \"Aemon\"}, \"Karl\": {\"frequency\": 1, \"value\": \"Karl\"}}, \"size\": 352}, \"Weight\": {\"std\": 12.670831629121812, \"complete\": true, \"min\": 4.0, \"max\": 96.0, \"quantile\": [4.0, 4.0, 4.0, 4.0, 4.0, 4.0, 4.0, 4.0, 4.0, 4.0, 4.0, 4.0, 4.0, 4.0, 4.0, 4.0, 4.0, 4.0, 5.0, 5.0, 5.0, 5.0, 5.0, 5.0, 5.0, 5.0, 5.0, 5.0, 5.0, 5.0, 5.0, 5.0, 5.0, 6.0, 6.0, 6.0, 6.0, 6.0, 6.0, 6.0, 6.0, 6.0, 6.0, 7.0, 7.0, 7.0, 7.0, 7.0, 7.0, 7.0, 7.0, 8.0, 8.0, 8.0, 8.0, 8.0, 8.0, 9.0, 9.0, 9.0, 9.0, 9.0, 10.0, 10.0, 10.0, 10.0, 11.0, 11.0, 11.0, 11.0, 12.0, 12.0, 12.0, 13.0, 14.0, 14.0, 15.0, 15.0, 15.0, 16.0, 16.0, 17.0, 18.0, 18.0, 19.0, 20.0, 21.0, 23.0, 25.0, 26.0, 28.0, 30.0, 31.0, 33.0, 35.0, 36.0, 43.0, 46.0, 52.0, 69.0, 96.0], \"median\": 7.0, \"numeric\": true, \"num_unique\": 43, \"num_undefined\": 0, \"var\": 160.54997417355372, \"progress\": 1.0, \"size\": 352, \"frequent_items\": {\"4\": {\"frequency\": 60, \"value\": 4}, \"5\": {\"frequency\": 53, \"value\": 5}, \"6\": {\"frequency\": 35, \"value\": 6}, \"7\": {\"frequency\": 30, \"value\": 7}, \"8\": {\"frequency\": 22, \"value\": 8}, \"9\": {\"frequency\": 16, \"value\": 9}, \"10\": {\"frequency\": 15, \"value\": 10}, \"11\": {\"frequency\": 13, \"value\": 11}, \"12\": {\"frequency\": 10, \"value\": 12}, \"13\": {\"frequency\": 5, \"value\": 13}, \"14\": {\"frequency\": 7, \"value\": 14}, \"15\": {\"frequency\": 10, \"value\": 15}, \"16\": {\"frequency\": 8, \"value\": 16}, \"17\": {\"frequency\": 4, \"value\": 17}, \"18\": {\"frequency\": 7, \"value\": 18}, \"19\": {\"frequency\": 3, \"value\": 19}, \"20\": {\"frequency\": 3, \"value\": 20}, \"21\": {\"frequency\": 2, \"value\": 21}, \"22\": {\"frequency\": 2, \"value\": 22}, \"23\": {\"frequency\": 3, \"value\": 23}, \"24\": {\"frequency\": 1, \"value\": 24}, \"25\": {\"frequency\": 2, \"value\": 25}, \"26\": {\"frequency\": 3, \"value\": 26}, \"28\": {\"frequency\": 4, \"value\": 28}, \"29\": {\"frequency\": 1, \"value\": 29}, \"30\": {\"frequency\": 2, \"value\": 30}, \"31\": {\"frequency\": 4, \"value\": 31}, \"32\": {\"frequency\": 2, \"value\": 32}, \"33\": {\"frequency\": 1, \"value\": 33}, \"34\": {\"frequency\": 1, \"value\": 34}, \"35\": {\"frequency\": 3, \"value\": 35}, \"36\": {\"frequency\": 3, \"value\": 36}, \"39\": {\"frequency\": 1, \"value\": 39}, \"41\": {\"frequency\": 1, \"value\": 41}, \"43\": {\"frequency\": 3, \"value\": 43}, \"46\": {\"frequency\": 3, \"value\": 46}, \"47\": {\"frequency\": 1, \"value\": 47}, \"52\": {\"frequency\": 1, \"value\": 52}, \"54\": {\"frequency\": 3, \"value\": 54}, \"69\": {\"frequency\": 1, \"value\": 69}, \"77\": {\"frequency\": 1, \"value\": 77}, \"88\": {\"frequency\": 1, \"value\": 88}, \"96\": {\"frequency\": 1, \"value\": 96}}, \"mean\": 12.284090909090907}}, \"selected_variable\": {\"name\": [\"edges\"], \"descriptives\": {\"rows\": 352, \"columns\": 3}, \"view_component\": \"Summary\", \"view_file\": \"sframe\", \"view_params\": {\"y\": null, \"x\": null, \"columns\": [\"Source\", \"Target\", \"Weight\"], \"view\": null}, \"view_components\": [\"Summary\", \"Table\", \"Bar Chart\", \"BoxWhisker Plot\", \"Line Chart\", \"Scatter Plot\", \"Heat Map\", \"Plots\"], \"type\": \"SFrame\", \"columns\": [{\"dtype\": \"str\", \"name\": \"Source\"}, {\"dtype\": \"str\", \"name\": \"Target\"}, {\"dtype\": \"int\", \"name\": \"Weight\"}], \"column_identifiers\": [\"Source\", \"Target\", \"Weight\"]}, \"columns\": [{\"dtype\": \"str\", \"name\": \"Source\"}, {\"dtype\": \"str\", \"name\": \"Target\"}, {\"dtype\": \"int\", \"name\": \"Weight\"}]}, e);\n",
       "                });\n",
       "            })();\n",
       "        "
      ]
     },
     "metadata": {},
     "output_type": "display_data"
    }
   ],
   "source": [
    "edges.show()"
   ]
  },
  {
   "cell_type": "code",
   "execution_count": 32,
   "metadata": {
    "collapsed": false
   },
   "outputs": [
    {
     "data": {
      "application/javascript": [
       "$(\"head\").append($(\"<link/>\").attr({\n",
       "  rel:  \"stylesheet\",\n",
       "  type: \"text/css\",\n",
       "  href: \"//cdnjs.cloudflare.com/ajax/libs/font-awesome/4.1.0/css/font-awesome.min.css\"\n",
       "}));\n",
       "$(\"head\").append($(\"<link/>\").attr({\n",
       "  rel:  \"stylesheet\",\n",
       "  type: \"text/css\",\n",
       "  href: \"https://static.turi.com/products/graphlab-create/2.1/canvas/css/canvas.css\"\n",
       "}));\n",
       "\n",
       "            (function(){\n",
       "\n",
       "                var e = null;\n",
       "                if (typeof element == 'undefined') {\n",
       "                    var scripts = document.getElementsByTagName('script');\n",
       "                    var thisScriptTag = scripts[scripts.length-1];\n",
       "                    var parentDiv = thisScriptTag.parentNode;\n",
       "                    e = document.createElement('div');\n",
       "                    parentDiv.appendChild(e);\n",
       "                } else {\n",
       "                    e = element[0];\n",
       "                }\n",
       "\n",
       "                if (typeof requirejs !== 'undefined') {\n",
       "                    // disable load timeout; ipython_app.js is large and can take a while to load.\n",
       "                    requirejs.config({waitSeconds: 0});\n",
       "                }\n",
       "\n",
       "                require(['https://static.turi.com/products/graphlab-create/2.1/canvas/js/ipython_app.js'], function(IPythonApp){\n",
       "                    var app = new IPythonApp();\n",
       "                    app.attachView('sarray','Categorical', {\"ipython\": true, \"sketch\": {\"complete\": true, \"numeric\": false, \"num_unique\": 71, \"num_undefined\": 0, \"progress\": 1.0, \"frequent_items\": {\"Stannis\": {\"frequency\": 6, \"value\": \"Stannis\"}, \"Jaime\": {\"frequency\": 15, \"value\": \"Jaime\"}, \"Ygritte\": {\"frequency\": 2, \"value\": \"Ygritte\"}, \"Jon Arryn\": {\"frequency\": 2, \"value\": \"Jon Arryn\"}, \"Val\": {\"frequency\": 1, \"value\": \"Val\"}, \"Balon\": {\"frequency\": 1, \"value\": \"Balon\"}, \"Gregor\": {\"frequency\": 5, \"value\": \"Gregor\"}, \"Gilly\": {\"frequency\": 1, \"value\": \"Gilly\"}, \"Daario\": {\"frequency\": 2, \"value\": \"Daario\"}, \"Shae\": {\"frequency\": 2, \"value\": \"Shae\"}, \"Daenerys\": {\"frequency\": 14, \"value\": \"Daenerys\"}, \"Walder\": {\"frequency\": 3, \"value\": \"Walder\"}, \"Aerys\": {\"frequency\": 4, \"value\": \"Aerys\"}, \"Podrick\": {\"frequency\": 1, \"value\": \"Podrick\"}, \"Mance\": {\"frequency\": 8, \"value\": \"Mance\"}, \"Brienne\": {\"frequency\": 1, \"value\": \"Brienne\"}, \"Viserys\": {\"frequency\": 2, \"value\": \"Viserys\"}, \"Samwell\": {\"frequency\": 8, \"value\": \"Samwell\"}, \"Jorah\": {\"frequency\": 4, \"value\": \"Jorah\"}, \"Amory\": {\"frequency\": 1, \"value\": \"Amory\"}, \"Belwas\": {\"frequency\": 2, \"value\": \"Belwas\"}, \"Rickard\": {\"frequency\": 1, \"value\": \"Rickard\"}, \"Walton\": {\"frequency\": 1, \"value\": \"Walton\"}, \"Sandor\": {\"frequency\": 6, \"value\": \"Sandor\"}, \"Janos\": {\"frequency\": 3, \"value\": \"Janos\"}, \"Meera\": {\"frequency\": 1, \"value\": \"Meera\"}, \"Meryn\": {\"frequency\": 1, \"value\": \"Meryn\"}, \"Rattleshirt\": {\"frequency\": 1, \"value\": \"Rattleshirt\"}, \"Joffrey\": {\"frequency\": 12, \"value\": \"Joffrey\"}, \"Brynden\": {\"frequency\": 2, \"value\": \"Brynden\"}, \"Rickon\": {\"frequency\": 1, \"value\": \"Rickon\"}, \"Oberyn\": {\"frequency\": 2, \"value\": \"Oberyn\"}, \"Jon\": {\"frequency\": 21, \"value\": \"Jon\"}, \"Catelyn\": {\"frequency\": 17, \"value\": \"Catelyn\"}, \"Edmure\": {\"frequency\": 4, \"value\": \"Edmure\"}, \"Jojen\": {\"frequency\": 2, \"value\": \"Jojen\"}, \"Davos\": {\"frequency\": 2, \"value\": \"Davos\"}, \"Craster\": {\"frequency\": 1, \"value\": \"Craster\"}, \"Irri\": {\"frequency\": 1, \"value\": \"Irri\"}, \"Kevan\": {\"frequency\": 2, \"value\": \"Kevan\"}, \"Gendry\": {\"frequency\": 1, \"value\": \"Gendry\"}, \"Lysa\": {\"frequency\": 7, \"value\": \"Lysa\"}, \"Tyrion\": {\"frequency\": 24, \"value\": \"Tyrion\"}, \"Eddison\": {\"frequency\": 1, \"value\": \"Eddison\"}, \"Varys\": {\"frequency\": 1, \"value\": \"Varys\"}, \"Renly\": {\"frequency\": 3, \"value\": \"Renly\"}, \"Alliser\": {\"frequency\": 1, \"value\": \"Alliser\"}, \"Bronn\": {\"frequency\": 2, \"value\": \"Bronn\"}, \"Lothar\": {\"frequency\": 1, \"value\": \"Lothar\"}, \"Robert\": {\"frequency\": 5, \"value\": \"Robert\"}, \"Arya\": {\"frequency\": 16, \"value\": \"Arya\"}, \"Missandei\": {\"frequency\": 1, \"value\": \"Missandei\"}, \"Bran\": {\"frequency\": 9, \"value\": \"Bran\"}, \"Hoster\": {\"frequency\": 1, \"value\": \"Hoster\"}, \"Beric\": {\"frequency\": 3, \"value\": \"Beric\"}, \"Rhaegar\": {\"frequency\": 4, \"value\": \"Rhaegar\"}, \"Sansa\": {\"frequency\": 23, \"value\": \"Sansa\"}, \"Tywin\": {\"frequency\": 19, \"value\": \"Tywin\"}, \"Eddard\": {\"frequency\": 12, \"value\": \"Eddard\"}, \"Melisandre\": {\"frequency\": 2, \"value\": \"Melisandre\"}, \"Cersei\": {\"frequency\": 14, \"value\": \"Cersei\"}, \"Roose\": {\"frequency\": 1, \"value\": \"Roose\"}, \"Robb\": {\"frequency\": 23, \"value\": \"Robb\"}, \"Shireen\": {\"frequency\": 1, \"value\": \"Shireen\"}, \"Hodor\": {\"frequency\": 2, \"value\": \"Hodor\"}, \"Loras\": {\"frequency\": 2, \"value\": \"Loras\"}, \"Robert Arryn\": {\"frequency\": 1, \"value\": \"Robert Arryn\"}, \"Myrcella\": {\"frequency\": 2, \"value\": \"Myrcella\"}, \"Aemon\": {\"frequency\": 2, \"value\": \"Aemon\"}, \"Tommen\": {\"frequency\": 1, \"value\": \"Tommen\"}, \"Luwin\": {\"frequency\": 1, \"value\": \"Luwin\"}}, \"size\": 352}, \"selected_variable\": {\"name\": [\"<SArray>\"], \"dtype\": \"str\", \"view_component\": \"Categorical\", \"view_file\": \"sarray\", \"descriptives\": {\"rows\": 352}, \"type\": \"SArray\", \"view_components\": [\"Categorical\"]}, \"histogram\": null}, e);\n",
       "                });\n",
       "            })();\n",
       "        "
      ]
     },
     "metadata": {},
     "output_type": "display_data"
    }
   ],
   "source": [
    "edges['Source'].show()"
   ]
  },
  {
   "cell_type": "code",
   "execution_count": 33,
   "metadata": {
    "collapsed": false
   },
   "outputs": [
    {
     "data": {
      "application/javascript": [
       "$(\"head\").append($(\"<link/>\").attr({\n",
       "  rel:  \"stylesheet\",\n",
       "  type: \"text/css\",\n",
       "  href: \"//cdnjs.cloudflare.com/ajax/libs/font-awesome/4.1.0/css/font-awesome.min.css\"\n",
       "}));\n",
       "$(\"head\").append($(\"<link/>\").attr({\n",
       "  rel:  \"stylesheet\",\n",
       "  type: \"text/css\",\n",
       "  href: \"https://static.turi.com/products/graphlab-create/2.1/canvas/css/canvas.css\"\n",
       "}));\n",
       "\n",
       "            (function(){\n",
       "\n",
       "                var e = null;\n",
       "                if (typeof element == 'undefined') {\n",
       "                    var scripts = document.getElementsByTagName('script');\n",
       "                    var thisScriptTag = scripts[scripts.length-1];\n",
       "                    var parentDiv = thisScriptTag.parentNode;\n",
       "                    e = document.createElement('div');\n",
       "                    parentDiv.appendChild(e);\n",
       "                } else {\n",
       "                    e = element[0];\n",
       "                }\n",
       "\n",
       "                if (typeof requirejs !== 'undefined') {\n",
       "                    // disable load timeout; ipython_app.js is large and can take a while to load.\n",
       "                    requirejs.config({waitSeconds: 0});\n",
       "                }\n",
       "\n",
       "                require(['https://static.turi.com/products/graphlab-create/2.1/canvas/js/ipython_app.js'], function(IPythonApp){\n",
       "                    var app = new IPythonApp();\n",
       "                    app.attachView('sarray','Categorical', {\"ipython\": true, \"sketch\": {\"complete\": true, \"numeric\": false, \"num_unique\": 100, \"num_undefined\": 0, \"progress\": 1.0, \"frequent_items\": {\"Val\": {\"frequency\": 3, \"value\": \"Val\"}, \"Balon\": {\"frequency\": 5, \"value\": \"Balon\"}, \"Brynden\": {\"frequency\": 6, \"value\": \"Brynden\"}, \"Belwas\": {\"frequency\": 2, \"value\": \"Belwas\"}, \"Chataya\": {\"frequency\": 2, \"value\": \"Chataya\"}, \"Tyrion\": {\"frequency\": 12, \"value\": \"Tyrion\"}, \"Margaery\": {\"frequency\": 7, \"value\": \"Margaery\"}, \"Qhorin\": {\"frequency\": 5, \"value\": \"Qhorin\"}, \"Petyr\": {\"frequency\": 7, \"value\": \"Petyr\"}, \"Craster\": {\"frequency\": 4, \"value\": \"Craster\"}, \"Lancel\": {\"frequency\": 1, \"value\": \"Lancel\"}, \"Kevan\": {\"frequency\": 4, \"value\": \"Kevan\"}, \"Lysa\": {\"frequency\": 3, \"value\": \"Lysa\"}, \"Marillion\": {\"frequency\": 3, \"value\": \"Marillion\"}, \"Varys\": {\"frequency\": 6, \"value\": \"Varys\"}, \"Alliser\": {\"frequency\": 2, \"value\": \"Alliser\"}, \"Lothar\": {\"frequency\": 4, \"value\": \"Lothar\"}, \"Tywin\": {\"frequency\": 3, \"value\": \"Tywin\"}, \"Melisandre\": {\"frequency\": 2, \"value\": \"Melisandre\"}, \"Walder\": {\"frequency\": 5, \"value\": \"Walder\"}, \"Catelyn\": {\"frequency\": 1, \"value\": \"Catelyn\"}, \"Barristan\": {\"frequency\": 6, \"value\": \"Barristan\"}, \"Daario\": {\"frequency\": 2, \"value\": \"Daario\"}, \"Robb\": {\"frequency\": 2, \"value\": \"Robb\"}, \"Thoros\": {\"frequency\": 5, \"value\": \"Thoros\"}, \"Dalla\": {\"frequency\": 3, \"value\": \"Dalla\"}, \"Mance\": {\"frequency\": 4, \"value\": \"Mance\"}, \"Kraznys\": {\"frequency\": 1, \"value\": \"Kraznys\"}, \"Rickard\": {\"frequency\": 1, \"value\": \"Rickard\"}, \"Salladhor\": {\"frequency\": 1, \"value\": \"Salladhor\"}, \"Irri\": {\"frequency\": 3, \"value\": \"Irri\"}, \"Loras\": {\"frequency\": 7, \"value\": \"Loras\"}, \"Edmure\": {\"frequency\": 4, \"value\": \"Edmure\"}, \"Worm\": {\"frequency\": 1, \"value\": \"Worm\"}, \"Bronn\": {\"frequency\": 2, \"value\": \"Bronn\"}, \"Rakharo\": {\"frequency\": 1, \"value\": \"Rakharo\"}, \"Hoster\": {\"frequency\": 2, \"value\": \"Hoster\"}, \"Rhaegar\": {\"frequency\": 2, \"value\": \"Rhaegar\"}, \"Sansa\": {\"frequency\": 3, \"value\": \"Sansa\"}, \"Cersei\": {\"frequency\": 6, \"value\": \"Cersei\"}, \"Brienne\": {\"frequency\": 6, \"value\": \"Brienne\"}, \"Sandor\": {\"frequency\": 7, \"value\": \"Sandor\"}, \"Qyburn\": {\"frequency\": 1, \"value\": \"Qyburn\"}, \"Ilyn\": {\"frequency\": 6, \"value\": \"Ilyn\"}, \"Meryn\": {\"frequency\": 6, \"value\": \"Meryn\"}, \"Olenna\": {\"frequency\": 2, \"value\": \"Olenna\"}, \"Robert\": {\"frequency\": 13, \"value\": \"Robert\"}, \"Gilly\": {\"frequency\": 3, \"value\": \"Gilly\"}, \"Shae\": {\"frequency\": 3, \"value\": \"Shae\"}, \"Ellaria\": {\"frequency\": 2, \"value\": \"Ellaria\"}, \"Bowen\": {\"frequency\": 2, \"value\": \"Bowen\"}, \"Missandei\": {\"frequency\": 1, \"value\": \"Missandei\"}, \"Jorah\": {\"frequency\": 2, \"value\": \"Jorah\"}, \"Mace\": {\"frequency\": 3, \"value\": \"Mace\"}, \"Janos\": {\"frequency\": 3, \"value\": \"Janos\"}, \"Meera\": {\"frequency\": 4, \"value\": \"Meera\"}, \"Oberyn\": {\"frequency\": 5, \"value\": \"Oberyn\"}, \"Davos\": {\"frequency\": 3, \"value\": \"Davos\"}, \"Eddison\": {\"frequency\": 2, \"value\": \"Eddison\"}, \"Bran\": {\"frequency\": 5, \"value\": \"Bran\"}, \"Elia\": {\"frequency\": 5, \"value\": \"Elia\"}, \"Roose\": {\"frequency\": 3, \"value\": \"Roose\"}, \"Grenn\": {\"frequency\": 4, \"value\": \"Grenn\"}, \"Hodor\": {\"frequency\": 2, \"value\": \"Hodor\"}, \"Ramsay\": {\"frequency\": 1, \"value\": \"Ramsay\"}, \"Stannis\": {\"frequency\": 8, \"value\": \"Stannis\"}, \"Jeyne\": {\"frequency\": 2, \"value\": \"Jeyne\"}, \"Ygritte\": {\"frequency\": 2, \"value\": \"Ygritte\"}, \"Luwin\": {\"frequency\": 1, \"value\": \"Luwin\"}, \"Roslin\": {\"frequency\": 4, \"value\": \"Roslin\"}, \"Gregor\": {\"frequency\": 7, \"value\": \"Gregor\"}, \"Nan\": {\"frequency\": 2, \"value\": \"Nan\"}, \"Anguy\": {\"frequency\": 2, \"value\": \"Anguy\"}, \"Cressen\": {\"frequency\": 1, \"value\": \"Cressen\"}, \"Illyrio\": {\"frequency\": 1, \"value\": \"Illyrio\"}, \"Aegon\": {\"frequency\": 1, \"value\": \"Aegon\"}, \"Podrick\": {\"frequency\": 4, \"value\": \"Podrick\"}, \"Orell\": {\"frequency\": 1, \"value\": \"Orell\"}, \"Samwell\": {\"frequency\": 7, \"value\": \"Samwell\"}, \"Joffrey\": {\"frequency\": 6, \"value\": \"Joffrey\"}, \"Rickon\": {\"frequency\": 5, \"value\": \"Rickon\"}, \"Jon\": {\"frequency\": 5, \"value\": \"Jon\"}, \"Jojen\": {\"frequency\": 2, \"value\": \"Jojen\"}, \"Pycelle\": {\"frequency\": 4, \"value\": \"Pycelle\"}, \"Gendry\": {\"frequency\": 3, \"value\": \"Gendry\"}, \"Rattleshirt\": {\"frequency\": 3, \"value\": \"Rattleshirt\"}, \"Renly\": {\"frequency\": 5, \"value\": \"Renly\"}, \"Theon\": {\"frequency\": 4, \"value\": \"Theon\"}, \"Beric\": {\"frequency\": 3, \"value\": \"Beric\"}, \"Arya\": {\"frequency\": 3, \"value\": \"Arya\"}, \"Viserys\": {\"frequency\": 1, \"value\": \"Viserys\"}, \"Myrcella\": {\"frequency\": 2, \"value\": \"Myrcella\"}, \"Drogo\": {\"frequency\": 4, \"value\": \"Drogo\"}, \"Doran\": {\"frequency\": 1, \"value\": \"Doran\"}, \"Tommen\": {\"frequency\": 4, \"value\": \"Tommen\"}, \"Styr\": {\"frequency\": 2, \"value\": \"Styr\"}, \"Jaime\": {\"frequency\": 9, \"value\": \"Jaime\"}, \"Robert Arryn\": {\"frequency\": 2, \"value\": \"Robert Arryn\"}, \"Aemon\": {\"frequency\": 3, \"value\": \"Aemon\"}, \"Karl\": {\"frequency\": 1, \"value\": \"Karl\"}}, \"size\": 352}, \"selected_variable\": {\"name\": [\"<SArray>\"], \"dtype\": \"str\", \"view_component\": \"Categorical\", \"view_file\": \"sarray\", \"descriptives\": {\"rows\": 352}, \"type\": \"SArray\", \"view_components\": [\"Categorical\"]}, \"histogram\": null}, e);\n",
       "                });\n",
       "            })();\n",
       "        "
      ]
     },
     "metadata": {},
     "output_type": "display_data"
    }
   ],
   "source": [
    "edges['Target'].show()"
   ]
  },
  {
   "cell_type": "markdown",
   "metadata": {},
   "source": [
    "Tyrion appears most frequently in this particular SFrame dataset (Source and Target). Not surprisingly, Tyrion is a core character and quite important in the \"Game of Thrones\" series."
   ]
  },
  {
   "cell_type": "markdown",
   "metadata": {},
   "source": [
    "# Create a graph object, add vertices and edges to this graph"
   ]
  },
  {
   "cell_type": "code",
   "execution_count": 6,
   "metadata": {
    "collapsed": true
   },
   "outputs": [],
   "source": [
    "g = gl.SGraph()"
   ]
  },
  {
   "cell_type": "code",
   "execution_count": 46,
   "metadata": {
    "collapsed": true
   },
   "outputs": [],
   "source": [
    "# add vertices\n",
    "g = g.add_vertices(vertices = vertices, vid_field='Names')\n",
    "\n",
    "# now add edges\n",
    "g = g.add_edges(edges = edges, src_field='Source', dst_field='Target')"
   ]
  },
  {
   "cell_type": "markdown",
   "metadata": {},
   "source": [
    "# Do some basic graph querying"
   ]
  },
  {
   "cell_type": "code",
   "execution_count": 47,
   "metadata": {
    "collapsed": false
   },
   "outputs": [
    {
     "data": {
      "text/html": [
       "<div style=\"max-height:1000px;max-width:1500px;overflow:auto;\"><table frame=\"box\" rules=\"cols\">\n",
       "    <tr>\n",
       "        <th style=\"padding-left: 1em; padding-right: 1em; text-align: center\">__id</th>\n",
       "    </tr>\n",
       "    <tr>\n",
       "        <td style=\"padding-left: 1em; padding-right: 1em; text-align: center; vertical-align: top\">Eddison</td>\n",
       "    </tr>\n",
       "    <tr>\n",
       "        <td style=\"padding-left: 1em; padding-right: 1em; text-align: center; vertical-align: top\">Roslin</td>\n",
       "    </tr>\n",
       "    <tr>\n",
       "        <td style=\"padding-left: 1em; padding-right: 1em; text-align: center; vertical-align: top\">Oberyn</td>\n",
       "    </tr>\n",
       "    <tr>\n",
       "        <td style=\"padding-left: 1em; padding-right: 1em; text-align: center; vertical-align: top\">Cersei</td>\n",
       "    </tr>\n",
       "    <tr>\n",
       "        <td style=\"padding-left: 1em; padding-right: 1em; text-align: center; vertical-align: top\">Jon</td>\n",
       "    </tr>\n",
       "    <tr>\n",
       "        <td style=\"padding-left: 1em; padding-right: 1em; text-align: center; vertical-align: top\">Mance</td>\n",
       "    </tr>\n",
       "    <tr>\n",
       "        <td style=\"padding-left: 1em; padding-right: 1em; text-align: center; vertical-align: top\">Drogo</td>\n",
       "    </tr>\n",
       "    <tr>\n",
       "        <td style=\"padding-left: 1em; padding-right: 1em; text-align: center; vertical-align: top\">Amory</td>\n",
       "    </tr>\n",
       "    <tr>\n",
       "        <td style=\"padding-left: 1em; padding-right: 1em; text-align: center; vertical-align: top\">Robb</td>\n",
       "    </tr>\n",
       "    <tr>\n",
       "        <td style=\"padding-left: 1em; padding-right: 1em; text-align: center; vertical-align: top\">Gendry</td>\n",
       "    </tr>\n",
       "</table>\n",
       "[107 rows x 1 columns]<br/>Note: Only the head of the SFrame is printed.<br/>You can use print_rows(num_rows=m, num_columns=n) to print more rows and columns.\n",
       "</div>"
      ],
      "text/plain": [
       "Columns:\n",
       "\t__id\tstr\n",
       "\n",
       "Rows: 107\n",
       "\n",
       "Data:\n",
       "+---------+\n",
       "|   __id  |\n",
       "+---------+\n",
       "| Eddison |\n",
       "|  Roslin |\n",
       "|  Oberyn |\n",
       "|  Cersei |\n",
       "|   Jon   |\n",
       "|  Mance  |\n",
       "|  Drogo  |\n",
       "|  Amory  |\n",
       "|   Robb  |\n",
       "|  Gendry |\n",
       "+---------+\n",
       "[107 rows x 1 columns]\n",
       "Note: Only the head of the SFrame is printed.\n",
       "You can use print_rows(num_rows=m, num_columns=n) to print more rows and columns."
      ]
     },
     "execution_count": 47,
     "metadata": {},
     "output_type": "execute_result"
    }
   ],
   "source": [
    "# Show all the vertices\n",
    "g.get_vertices()"
   ]
  },
  {
   "cell_type": "code",
   "execution_count": 48,
   "metadata": {
    "collapsed": false
   },
   "outputs": [
    {
     "data": {
      "text/html": [
       "<div style=\"max-height:1000px;max-width:1500px;overflow:auto;\"><table frame=\"box\" rules=\"cols\">\n",
       "    <tr>\n",
       "        <th style=\"padding-left: 1em; padding-right: 1em; text-align: center\">__src_id</th>\n",
       "        <th style=\"padding-left: 1em; padding-right: 1em; text-align: center\">__dst_id</th>\n",
       "        <th style=\"padding-left: 1em; padding-right: 1em; text-align: center\">Weight</th>\n",
       "    </tr>\n",
       "    <tr>\n",
       "        <td style=\"padding-left: 1em; padding-right: 1em; text-align: center; vertical-align: top\">Cersei</td>\n",
       "        <td style=\"padding-left: 1em; padding-right: 1em; text-align: center; vertical-align: top\">Ilyn</td>\n",
       "        <td style=\"padding-left: 1em; padding-right: 1em; text-align: center; vertical-align: top\">7</td>\n",
       "    </tr>\n",
       "    <tr>\n",
       "        <td style=\"padding-left: 1em; padding-right: 1em; text-align: center; vertical-align: top\">Cersei</td>\n",
       "        <td style=\"padding-left: 1em; padding-right: 1em; text-align: center; vertical-align: top\">Robert</td>\n",
       "        <td style=\"padding-left: 1em; padding-right: 1em; text-align: center; vertical-align: top\">16</td>\n",
       "    </tr>\n",
       "    <tr>\n",
       "        <td style=\"padding-left: 1em; padding-right: 1em; text-align: center; vertical-align: top\">Alliser</td>\n",
       "        <td style=\"padding-left: 1em; padding-right: 1em; text-align: center; vertical-align: top\">Mance</td>\n",
       "        <td style=\"padding-left: 1em; padding-right: 1em; text-align: center; vertical-align: top\">5</td>\n",
       "    </tr>\n",
       "    <tr>\n",
       "        <td style=\"padding-left: 1em; padding-right: 1em; text-align: center; vertical-align: top\">Amory</td>\n",
       "        <td style=\"padding-left: 1em; padding-right: 1em; text-align: center; vertical-align: top\">Oberyn</td>\n",
       "        <td style=\"padding-left: 1em; padding-right: 1em; text-align: center; vertical-align: top\">5</td>\n",
       "    </tr>\n",
       "    <tr>\n",
       "        <td style=\"padding-left: 1em; padding-right: 1em; text-align: center; vertical-align: top\">Jon</td>\n",
       "        <td style=\"padding-left: 1em; padding-right: 1em; text-align: center; vertical-align: top\">Alliser</td>\n",
       "        <td style=\"padding-left: 1em; padding-right: 1em; text-align: center; vertical-align: top\">15</td>\n",
       "    </tr>\n",
       "    <tr>\n",
       "        <td style=\"padding-left: 1em; padding-right: 1em; text-align: center; vertical-align: top\">Jon</td>\n",
       "        <td style=\"padding-left: 1em; padding-right: 1em; text-align: center; vertical-align: top\">Eddison</td>\n",
       "        <td style=\"padding-left: 1em; padding-right: 1em; text-align: center; vertical-align: top\">4</td>\n",
       "    </tr>\n",
       "    <tr>\n",
       "        <td style=\"padding-left: 1em; padding-right: 1em; text-align: center; vertical-align: top\">Jon</td>\n",
       "        <td style=\"padding-left: 1em; padding-right: 1em; text-align: center; vertical-align: top\">Mance</td>\n",
       "        <td style=\"padding-left: 1em; padding-right: 1em; text-align: center; vertical-align: top\">69</td>\n",
       "    </tr>\n",
       "    <tr>\n",
       "        <td style=\"padding-left: 1em; padding-right: 1em; text-align: center; vertical-align: top\">Jon</td>\n",
       "        <td style=\"padding-left: 1em; padding-right: 1em; text-align: center; vertical-align: top\">Melisandre</td>\n",
       "        <td style=\"padding-left: 1em; padding-right: 1em; text-align: center; vertical-align: top\">7</td>\n",
       "    </tr>\n",
       "    <tr>\n",
       "        <td style=\"padding-left: 1em; padding-right: 1em; text-align: center; vertical-align: top\">Jon</td>\n",
       "        <td style=\"padding-left: 1em; padding-right: 1em; text-align: center; vertical-align: top\">Robert</td>\n",
       "        <td style=\"padding-left: 1em; padding-right: 1em; text-align: center; vertical-align: top\">5</td>\n",
       "    </tr>\n",
       "    <tr>\n",
       "        <td style=\"padding-left: 1em; padding-right: 1em; text-align: center; vertical-align: top\">Robb</td>\n",
       "        <td style=\"padding-left: 1em; padding-right: 1em; text-align: center; vertical-align: top\">Balon</td>\n",
       "        <td style=\"padding-left: 1em; padding-right: 1em; text-align: center; vertical-align: top\">6</td>\n",
       "    </tr>\n",
       "</table>\n",
       "[352 rows x 3 columns]<br/>Note: Only the head of the SFrame is printed.<br/>You can use print_rows(num_rows=m, num_columns=n) to print more rows and columns.\n",
       "</div>"
      ],
      "text/plain": [
       "Columns:\n",
       "\t__src_id\tstr\n",
       "\t__dst_id\tstr\n",
       "\tWeight\tint\n",
       "\n",
       "Rows: 352\n",
       "\n",
       "Data:\n",
       "+----------+------------+--------+\n",
       "| __src_id |  __dst_id  | Weight |\n",
       "+----------+------------+--------+\n",
       "|  Cersei  |    Ilyn    |   7    |\n",
       "|  Cersei  |   Robert   |   16   |\n",
       "| Alliser  |   Mance    |   5    |\n",
       "|  Amory   |   Oberyn   |   5    |\n",
       "|   Jon    |  Alliser   |   15   |\n",
       "|   Jon    |  Eddison   |   4    |\n",
       "|   Jon    |   Mance    |   69   |\n",
       "|   Jon    | Melisandre |   7    |\n",
       "|   Jon    |   Robert   |   5    |\n",
       "|   Robb   |   Balon    |   6    |\n",
       "+----------+------------+--------+\n",
       "[352 rows x 3 columns]\n",
       "Note: Only the head of the SFrame is printed.\n",
       "You can use print_rows(num_rows=m, num_columns=n) to print more rows and columns."
      ]
     },
     "execution_count": 48,
     "metadata": {},
     "output_type": "execute_result"
    }
   ],
   "source": [
    "# Show all the edges\n",
    "g.get_edges()"
   ]
  },
  {
   "cell_type": "markdown",
   "metadata": {},
   "source": [
    "# Apply the pagerank algorithm to our graph"
   ]
  },
  {
   "cell_type": "code",
   "execution_count": 49,
   "metadata": {
    "collapsed": false
   },
   "outputs": [
    {
     "data": {
      "text/html": [
       "<pre>Counting out degree</pre>"
      ],
      "text/plain": [
       "Counting out degree"
      ]
     },
     "metadata": {},
     "output_type": "display_data"
    },
    {
     "data": {
      "text/html": [
       "<pre>Done counting out degree</pre>"
      ],
      "text/plain": [
       "Done counting out degree"
      ]
     },
     "metadata": {},
     "output_type": "display_data"
    },
    {
     "data": {
      "text/html": [
       "<pre>+-----------+-----------------------+</pre>"
      ],
      "text/plain": [
       "+-----------+-----------------------+"
      ]
     },
     "metadata": {},
     "output_type": "display_data"
    },
    {
     "data": {
      "text/html": [
       "<pre>| Iteration | L1 change in pagerank |</pre>"
      ],
      "text/plain": [
       "| Iteration | L1 change in pagerank |"
      ]
     },
     "metadata": {},
     "output_type": "display_data"
    },
    {
     "data": {
      "text/html": [
       "<pre>+-----------+-----------------------+</pre>"
      ],
      "text/plain": [
       "+-----------+-----------------------+"
      ]
     },
     "metadata": {},
     "output_type": "display_data"
    },
    {
     "data": {
      "text/html": [
       "<pre>| 1         | 59.8462               |</pre>"
      ],
      "text/plain": [
       "| 1         | 59.8462               |"
      ]
     },
     "metadata": {},
     "output_type": "display_data"
    },
    {
     "data": {
      "text/html": [
       "<pre>| 2         | 26.5443               |</pre>"
      ],
      "text/plain": [
       "| 2         | 26.5443               |"
      ]
     },
     "metadata": {},
     "output_type": "display_data"
    },
    {
     "data": {
      "text/html": [
       "<pre>| 3         | 14.214                |</pre>"
      ],
      "text/plain": [
       "| 3         | 14.214                |"
      ]
     },
     "metadata": {},
     "output_type": "display_data"
    },
    {
     "data": {
      "text/html": [
       "<pre>| 4         | 5.96507               |</pre>"
      ],
      "text/plain": [
       "| 4         | 5.96507               |"
      ]
     },
     "metadata": {},
     "output_type": "display_data"
    },
    {
     "data": {
      "text/html": [
       "<pre>| 5         | 2.38757               |</pre>"
      ],
      "text/plain": [
       "| 5         | 2.38757               |"
      ]
     },
     "metadata": {},
     "output_type": "display_data"
    },
    {
     "data": {
      "text/html": [
       "<pre>| 6         | 0.752172              |</pre>"
      ],
      "text/plain": [
       "| 6         | 0.752172              |"
      ]
     },
     "metadata": {},
     "output_type": "display_data"
    },
    {
     "data": {
      "text/html": [
       "<pre>| 7         | 0.220967              |</pre>"
      ],
      "text/plain": [
       "| 7         | 0.220967              |"
      ]
     },
     "metadata": {},
     "output_type": "display_data"
    },
    {
     "data": {
      "text/html": [
       "<pre>| 8         | 0.0645147             |</pre>"
      ],
      "text/plain": [
       "| 8         | 0.0645147             |"
      ]
     },
     "metadata": {},
     "output_type": "display_data"
    },
    {
     "data": {
      "text/html": [
       "<pre>| 9         | 0.0171178             |</pre>"
      ],
      "text/plain": [
       "| 9         | 0.0171178             |"
      ]
     },
     "metadata": {},
     "output_type": "display_data"
    },
    {
     "data": {
      "text/html": [
       "<pre>| 10        | 0.00402021            |</pre>"
      ],
      "text/plain": [
       "| 10        | 0.00402021            |"
      ]
     },
     "metadata": {},
     "output_type": "display_data"
    },
    {
     "data": {
      "text/html": [
       "<pre>+-----------+-----------------------+</pre>"
      ],
      "text/plain": [
       "+-----------+-----------------------+"
      ]
     },
     "metadata": {},
     "output_type": "display_data"
    }
   ],
   "source": [
    "pr = gl.pagerank.create(g)"
   ]
  },
  {
   "cell_type": "code",
   "execution_count": 50,
   "metadata": {
    "collapsed": false
   },
   "outputs": [
    {
     "data": {
      "text/html": [
       "<div style=\"max-height:1000px;max-width:1500px;overflow:auto;\"><table frame=\"box\" rules=\"cols\">\n",
       "    <tr>\n",
       "        <th style=\"padding-left: 1em; padding-right: 1em; text-align: center\">__id</th>\n",
       "        <th style=\"padding-left: 1em; padding-right: 1em; text-align: center\">pagerank</th>\n",
       "        <th style=\"padding-left: 1em; padding-right: 1em; text-align: center\">delta</th>\n",
       "    </tr>\n",
       "    <tr>\n",
       "        <td style=\"padding-left: 1em; padding-right: 1em; text-align: center; vertical-align: top\">Margaery</td>\n",
       "        <td style=\"padding-left: 1em; padding-right: 1em; text-align: center; vertical-align: top\">1.06575714327</td>\n",
       "        <td style=\"padding-left: 1em; padding-right: 1em; text-align: center; vertical-align: top\">2.75880105116e-05</td>\n",
       "    </tr>\n",
       "    <tr>\n",
       "        <td style=\"padding-left: 1em; padding-right: 1em; text-align: center; vertical-align: top\">Samwell</td>\n",
       "        <td style=\"padding-left: 1em; padding-right: 1em; text-align: center; vertical-align: top\">0.825715825586</td>\n",
       "        <td style=\"padding-left: 1em; padding-right: 1em; text-align: center; vertical-align: top\">6.77044001018e-06</td>\n",
       "    </tr>\n",
       "    <tr>\n",
       "        <td style=\"padding-left: 1em; padding-right: 1em; text-align: center; vertical-align: top\">Loras</td>\n",
       "        <td style=\"padding-left: 1em; padding-right: 1em; text-align: center; vertical-align: top\">0.805765994518</td>\n",
       "        <td style=\"padding-left: 1em; padding-right: 1em; text-align: center; vertical-align: top\">7.41943689853e-06</td>\n",
       "    </tr>\n",
       "    <tr>\n",
       "        <td style=\"padding-left: 1em; padding-right: 1em; text-align: center; vertical-align: top\">Roslin</td>\n",
       "        <td style=\"padding-left: 1em; padding-right: 1em; text-align: center; vertical-align: top\">0.782295108495</td>\n",
       "        <td style=\"padding-left: 1em; padding-right: 1em; text-align: center; vertical-align: top\">1.08214256e-06</td>\n",
       "    </tr>\n",
       "    <tr>\n",
       "        <td style=\"padding-left: 1em; padding-right: 1em; text-align: center; vertical-align: top\">Qhorin</td>\n",
       "        <td style=\"padding-left: 1em; padding-right: 1em; text-align: center; vertical-align: top\">0.649705557319</td>\n",
       "        <td style=\"padding-left: 1em; padding-right: 1em; text-align: center; vertical-align: top\">0.0010154812455</td>\n",
       "    </tr>\n",
       "    <tr>\n",
       "        <td style=\"padding-left: 1em; padding-right: 1em; text-align: center; vertical-align: top\">Karl</td>\n",
       "        <td style=\"padding-left: 1em; padding-right: 1em; text-align: center; vertical-align: top\">0.623421635274</td>\n",
       "        <td style=\"padding-left: 1em; padding-right: 1em; text-align: center; vertical-align: top\">0.00151530792661</td>\n",
       "    </tr>\n",
       "    <tr>\n",
       "        <td style=\"padding-left: 1em; padding-right: 1em; text-align: center; vertical-align: top\">Drogo</td>\n",
       "        <td style=\"padding-left: 1em; padding-right: 1em; text-align: center; vertical-align: top\">0.613082641294</td>\n",
       "        <td style=\"padding-left: 1em; padding-right: 1em; text-align: center; vertical-align: top\">0.0</td>\n",
       "    </tr>\n",
       "    <tr>\n",
       "        <td style=\"padding-left: 1em; padding-right: 1em; text-align: center; vertical-align: top\">Grenn</td>\n",
       "        <td style=\"padding-left: 1em; padding-right: 1em; text-align: center; vertical-align: top\">0.572073427991</td>\n",
       "        <td style=\"padding-left: 1em; padding-right: 1em; text-align: center; vertical-align: top\">4.26274520153e-05</td>\n",
       "    </tr>\n",
       "    <tr>\n",
       "        <td style=\"padding-left: 1em; padding-right: 1em; text-align: center; vertical-align: top\">Pycelle</td>\n",
       "        <td style=\"padding-left: 1em; padding-right: 1em; text-align: center; vertical-align: top\">0.562137819849</td>\n",
       "        <td style=\"padding-left: 1em; padding-right: 1em; text-align: center; vertical-align: top\">2.00359428281e-05</td>\n",
       "    </tr>\n",
       "    <tr>\n",
       "        <td style=\"padding-left: 1em; padding-right: 1em; text-align: center; vertical-align: top\">Craster</td>\n",
       "        <td style=\"padding-left: 1em; padding-right: 1em; text-align: center; vertical-align: top\">0.556571703691</td>\n",
       "        <td style=\"padding-left: 1em; padding-right: 1em; text-align: center; vertical-align: top\">0.000394926042559</td>\n",
       "    </tr>\n",
       "</table>\n",
       "[10 rows x 3 columns]<br/>\n",
       "</div>"
      ],
      "text/plain": [
       "Columns:\n",
       "\t__id\tstr\n",
       "\tpagerank\tfloat\n",
       "\tdelta\tfloat\n",
       "\n",
       "Rows: 10\n",
       "\n",
       "Data:\n",
       "+----------+----------------+-------------------+\n",
       "|   __id   |    pagerank    |       delta       |\n",
       "+----------+----------------+-------------------+\n",
       "| Margaery | 1.06575714327  | 2.75880105116e-05 |\n",
       "| Samwell  | 0.825715825586 | 6.77044001018e-06 |\n",
       "|  Loras   | 0.805765994518 | 7.41943689853e-06 |\n",
       "|  Roslin  | 0.782295108495 |   1.08214256e-06  |\n",
       "|  Qhorin  | 0.649705557319 |  0.0010154812455  |\n",
       "|   Karl   | 0.623421635274 |  0.00151530792661 |\n",
       "|  Drogo   | 0.613082641294 |        0.0        |\n",
       "|  Grenn   | 0.572073427991 | 4.26274520153e-05 |\n",
       "| Pycelle  | 0.562137819849 | 2.00359428281e-05 |\n",
       "| Craster  | 0.556571703691 | 0.000394926042559 |\n",
       "+----------+----------------+-------------------+\n",
       "[10 rows x 3 columns]"
      ]
     },
     "execution_count": 50,
     "metadata": {},
     "output_type": "execute_result"
    }
   ],
   "source": [
    "pr.get('pagerank').topk(column_name='pagerank')"
   ]
  },
  {
   "cell_type": "markdown",
   "metadata": {},
   "source": [
    "# Showing a Graph"
   ]
  },
  {
   "cell_type": "code",
   "execution_count": 51,
   "metadata": {
    "collapsed": false,
    "scrolled": false
   },
   "outputs": [
    {
     "data": {
      "application/javascript": [
       "$(\"head\").append($(\"<link/>\").attr({\n",
       "  rel:  \"stylesheet\",\n",
       "  type: \"text/css\",\n",
       "  href: \"//cdnjs.cloudflare.com/ajax/libs/font-awesome/4.1.0/css/font-awesome.min.css\"\n",
       "}));\n",
       "$(\"head\").append($(\"<link/>\").attr({\n",
       "  rel:  \"stylesheet\",\n",
       "  type: \"text/css\",\n",
       "  href: \"https://static.turi.com/products/graphlab-create/2.1/canvas/css/canvas.css\"\n",
       "}));\n",
       "\n",
       "            (function(){\n",
       "\n",
       "                var e = null;\n",
       "                if (typeof element == 'undefined') {\n",
       "                    var scripts = document.getElementsByTagName('script');\n",
       "                    var thisScriptTag = scripts[scripts.length-1];\n",
       "                    var parentDiv = thisScriptTag.parentNode;\n",
       "                    e = document.createElement('div');\n",
       "                    parentDiv.appendChild(e);\n",
       "                } else {\n",
       "                    e = element[0];\n",
       "                }\n",
       "\n",
       "                if (typeof requirejs !== 'undefined') {\n",
       "                    // disable load timeout; ipython_app.js is large and can take a while to load.\n",
       "                    requirejs.config({waitSeconds: 0});\n",
       "                }\n",
       "\n",
       "                require(['https://static.turi.com/products/graphlab-create/2.1/canvas/js/ipython_app.js'], function(IPythonApp){\n",
       "                    var app = new IPythonApp();\n",
       "                    app.attachView('sgraph','View', {\"edges_labels\": null, \"selected_variable\": {\"name\": [\"g\"], \"view_file\": \"sgraph\", \"view_component\": \"View\", \"view_params\": {\"elabel_hover\": false, \"vertex_positions\": null, \"h_offset\": 0.0, \"node_size\": 300, \"ecolor\": [0.37, 0.33, 0.33], \"elabel\": null, \"arrows\": true, \"ewidth\": 1, \"vlabel\": \"id\", \"highlight_color\": [0.69, 0.0, 0.498], \"vcolor\": [0.522, 0.741, 0.0], \"vlabel_hover\": false, \"highlight\": {}, \"v_offset\": 0.03}, \"view_components\": [\"View\"], \"type\": \"SGraph\", \"descriptives_links\": {\"edges\": \"edges\", \"vertices\": \"vertices\"}, \"descriptives\": {\"edges\": 352, \"vertices\": 107}}, \"positions\": null, \"error_type\": 0, \"vertices\": [\"Eddison\", \"Roslin\", \"Oberyn\", \"Cersei\", \"Jon\", \"Mance\", \"Drogo\", \"Amory\", \"Robb\", \"Gendry\", \"Robert\", \"Balon\", \"Melisandre\", \"Alliser\", \"Ilyn\", \"Jojen\", \"Lothar\", \"Lancel\", \"Tyrion\", \"Elia\", \"Marillion\", \"Ygritte\", \"Anguy\", \"Myrcella\", \"Kevan\", \"Rickon\", \"Gregor\", \"Missandei\", \"Eddard\", \"Walton\", \"Shae\", \"Jaime\", \"Qyburn\", \"Meryn\", \"Belwas\", \"Sandor\", \"Salladhor\", \"Orell\", \"Val\", \"Davos\", \"Joffrey\", \"Irri\", \"Brynden\", \"Kraznys\", \"Olenna\", \"Rakharo\", \"Ellaria\", \"Bowen\", \"Stannis\", \"Worm\", \"Podrick\", \"Edmure\", \"Renly\", \"Ramsay\", \"Illyrio\", \"Jorah\", \"Viserys\", \"Karl\", \"Walder\", \"Aemon\", \"Dalla\", \"Styr\", \"Varys\", \"Theon\", \"Beric\", \"Jon Arryn\", \"Gilly\", \"Thoros\", \"Craster\", \"Sansa\", \"Rhaegar\", \"Tywin\", \"Jeyne\", \"Roose\", \"Daenerys\", \"Meera\", \"Tommen\", \"Rattleshirt\", \"Brienne\", \"Robert Arryn\", \"Pycelle\", \"Barristan\", \"Janos\", \"Shireen\", \"Aegon\", \"Lysa\", \"Mace\", \"Bran\", \"Samwell\", \"Catelyn\", \"Rickard\", \"Arya\", \"Grenn\", \"Doran\", \"Margaery\", \"Luwin\", \"Cressen\", \"Aerys\", \"Nan\", \"Hodor\", \"Bronn\", \"Daario\", \"Qhorin\", \"Chataya\", \"Hoster\", \"Loras\", \"Petyr\"], \"vertices_labels\": [\"Eddison\", \"Roslin\", \"Oberyn\", \"Cersei\", \"Jon\", \"Mance\", \"Drogo\", \"Amory\", \"Robb\", \"Gendry\", \"Robert\", \"Balon\", \"Melisandre\", \"Alliser\", \"Ilyn\", \"Jojen\", \"Lothar\", \"Lancel\", \"Tyrion\", \"Elia\", \"Marillion\", \"Ygritte\", \"Anguy\", \"Myrcella\", \"Kevan\", \"Rickon\", \"Gregor\", \"Missandei\", \"Eddard\", \"Walton\", \"Shae\", \"Jaime\", \"Qyburn\", \"Meryn\", \"Belwas\", \"Sandor\", \"Salladhor\", \"Orell\", \"Val\", \"Davos\", \"Joffrey\", \"Irri\", \"Brynden\", \"Kraznys\", \"Olenna\", \"Rakharo\", \"Ellaria\", \"Bowen\", \"Stannis\", \"Worm\", \"Podrick\", \"Edmure\", \"Renly\", \"Ramsay\", \"Illyrio\", \"Jorah\", \"Viserys\", \"Karl\", \"Walder\", \"Aemon\", \"Dalla\", \"Styr\", \"Varys\", \"Theon\", \"Beric\", \"Jon Arryn\", \"Gilly\", \"Thoros\", \"Craster\", \"Sansa\", \"Rhaegar\", \"Tywin\", \"Jeyne\", \"Roose\", \"Daenerys\", \"Meera\", \"Tommen\", \"Rattleshirt\", \"Brienne\", \"Robert Arryn\", \"Pycelle\", \"Barristan\", \"Janos\", \"Shireen\", \"Aegon\", \"Lysa\", \"Mace\", \"Bran\", \"Samwell\", \"Catelyn\", \"Rickard\", \"Arya\", \"Grenn\", \"Doran\", \"Margaery\", \"Luwin\", \"Cressen\", \"Aerys\", \"Nan\", \"Hodor\", \"Bronn\", \"Daario\", \"Qhorin\", \"Chataya\", \"Hoster\", \"Loras\", \"Petyr\"], \"edges\": [[\"Cersei\", \"Ilyn\"], [\"Cersei\", \"Robert\"], [\"Alliser\", \"Mance\"], [\"Amory\", \"Oberyn\"], [\"Jon\", \"Alliser\"], [\"Jon\", \"Eddison\"], [\"Jon\", \"Mance\"], [\"Jon\", \"Melisandre\"], [\"Jon\", \"Robert\"], [\"Robb\", \"Balon\"], [\"Robb\", \"Jon\"], [\"Mance\", \"Ygritte\"], [\"Cersei\", \"Elia\"], [\"Cersei\", \"Gregor\"], [\"Cersei\", \"Tyrion\"], [\"Jon\", \"Ygritte\"], [\"Robb\", \"Lothar\"], [\"Robb\", \"Rickon\"], [\"Robb\", \"Tyrion\"], [\"Cersei\", \"Jaime\"], [\"Cersei\", \"Meryn\"], [\"Cersei\", \"Sandor\"], [\"Cersei\", \"Shae\"], [\"Robb\", \"Jaime\"], [\"Mance\", \"Val\"], [\"Melisandre\", \"Davos\"], [\"Oberyn\", \"Ellaria\"], [\"Cersei\", \"Joffrey\"], [\"Jon\", \"Orell\"], [\"Jon\", \"Stannis\"], [\"Jon\", \"Val\"], [\"Robb\", \"Brynden\"], [\"Robb\", \"Edmure\"], [\"Robb\", \"Joffrey\"], [\"Robb\", \"Stannis\"], [\"Robert\", \"Stannis\"], [\"Mance\", \"Craster\"], [\"Mance\", \"Dalla\"], [\"Mance\", \"Gilly\"], [\"Mance\", \"Styr\"], [\"Cersei\", \"Varys\"], [\"Gendry\", \"Thoros\"], [\"Jon\", \"Aemon\"], [\"Jon\", \"Craster\"], [\"Jon\", \"Dalla\"], [\"Jon\", \"Gilly\"], [\"Jon\", \"Styr\"], [\"Jon\", \"Theon\"], [\"Robb\", \"Ramsay\"], [\"Robb\", \"Sansa\"], [\"Robb\", \"Theon\"], [\"Robb\", \"Walder\"], [\"Robert\", \"Aemon\"], [\"Robert\", \"Renly\"], [\"Robert\", \"Thoros\"], [\"Mance\", \"Rattleshirt\"], [\"Cersei\", \"Brienne\"], [\"Cersei\", \"Pycelle\"], [\"Jon\", \"Janos\"], [\"Jon\", \"Meera\"], [\"Jon\", \"Rattleshirt\"], [\"Robb\", \"Brienne\"], [\"Robb\", \"Jeyne\"], [\"Robb\", \"Roose\"], [\"Robb\", \"Tywin\"], [\"Robert\", \"Barristan\"], [\"Melisandre\", \"Samwell\"], [\"Oberyn\", \"Mace\"], [\"Eddison\", \"Grenn\"], [\"Jon\", \"Grenn\"], [\"Jon\", \"Samwell\"], [\"Robb\", \"Arya\"], [\"Robb\", \"Bran\"], [\"Robb\", \"Rickard\"], [\"Mance\", \"Qhorin\"], [\"Cersei\", \"Bronn\"], [\"Balon\", \"Loras\"], [\"Jon\", \"Qhorin\"], [\"Robb\", \"Hodor\"], [\"Robb\", \"Petyr\"], [\"Lothar\", \"Roslin\"], [\"Tyrion\", \"Balon\"], [\"Tyrion\", \"Ilyn\"], [\"Gregor\", \"Ilyn\"], [\"Gregor\", \"Oberyn\"], [\"Tyrion\", \"Oberyn\"], [\"Tyrion\", \"Robert\"], [\"Kevan\", \"Lancel\"], [\"Myrcella\", \"Tyrion\"], [\"Tyrion\", \"Elia\"], [\"Tyrion\", \"Gregor\"], [\"Gregor\", \"Elia\"], [\"Tyrion\", \"Kevan\"], [\"Gregor\", \"Meryn\"], [\"Gregor\", \"Sandor\"], [\"Tyrion\", \"Meryn\"], [\"Tyrion\", \"Sandor\"], [\"Tyrion\", \"Shae\"], [\"Missandei\", \"Irri\"], [\"Tyrion\", \"Ellaria\"], [\"Tyrion\", \"Podrick\"], [\"Tyrion\", \"Stannis\"], [\"Kevan\", \"Varys\"], [\"Rickon\", \"Theon\"], [\"Tyrion\", \"Renly\"], [\"Tyrion\", \"Varys\"], [\"Myrcella\", \"Tommen\"], [\"Tyrion\", \"Janos\"], [\"Jojen\", \"Meera\"], [\"Tyrion\", \"Pycelle\"], [\"Ygritte\", \"Rattleshirt\"], [\"Tyrion\", \"Doran\"], [\"Jojen\", \"Samwell\"], [\"Tyrion\", \"Mace\"], [\"Tyrion\", \"Margaery\"], [\"Tyrion\", \"Bronn\"], [\"Tyrion\", \"Chataya\"], [\"Tyrion\", \"Loras\"], [\"Tyrion\", \"Petyr\"], [\"Ygritte\", \"Qhorin\"], [\"Meryn\", \"Ilyn\"], [\"Sandor\", \"Robert\"], [\"Eddard\", \"Cersei\"], [\"Eddard\", \"Jon\"], [\"Eddard\", \"Robb\"], [\"Eddard\", \"Robert\"], [\"Jaime\", \"Balon\"], [\"Jaime\", \"Robert\"], [\"Sandor\", \"Gendry\"], [\"Sandor\", \"Ilyn\"], [\"Eddard\", \"Rickon\"], [\"Jaime\", \"Elia\"], [\"Jaime\", \"Gregor\"], [\"Jaime\", \"Tyrion\"], [\"Eddard\", \"Jaime\"], [\"Eddard\", \"Sandor\"], [\"Jaime\", \"Meryn\"], [\"Jaime\", \"Qyburn\"], [\"Sandor\", \"Meryn\"], [\"Walton\", \"Jaime\"], [\"Jaime\", \"Edmure\"], [\"Jaime\", \"Joffrey\"], [\"Jaime\", \"Stannis\"], [\"Sandor\", \"Thoros\"], [\"Shae\", \"Varys\"], [\"Belwas\", \"Illyrio\"], [\"Eddard\", \"Beric\"], [\"Eddard\", \"Sansa\"], [\"Jaime\", \"Renly\"], [\"Sandor\", \"Beric\"], [\"Belwas\", \"Barristan\"], [\"Jaime\", \"Barristan\"], [\"Jaime\", \"Brienne\"], [\"Jaime\", \"Tommen\"], [\"Eddard\", \"Arya\"], [\"Eddard\", \"Bran\"], [\"Eddard\", \"Catelyn\"], [\"Shae\", \"Chataya\"], [\"Jaime\", \"Loras\"], [\"Stannis\", \"Balon\"], [\"Stannis\", \"Melisandre\"], [\"Edmure\", \"Roslin\"], [\"Irri\", \"Drogo\"], [\"Joffrey\", \"Ilyn\"], [\"Joffrey\", \"Oberyn\"], [\"Brynden\", \"Lothar\"], [\"Edmure\", \"Lothar\"], [\"Joffrey\", \"Gregor\"], [\"Joffrey\", \"Kevan\"], [\"Joffrey\", \"Myrcella\"], [\"Joffrey\", \"Tyrion\"], [\"Joffrey\", \"Meryn\"], [\"Joffrey\", \"Sandor\"], [\"Stannis\", \"Davos\"], [\"Davos\", \"Salladhor\"], [\"Edmure\", \"Brynden\"], [\"Joffrey\", \"Stannis\"], [\"Stannis\", \"Aemon\"], [\"Stannis\", \"Renly\"], [\"Brynden\", \"Walder\"], [\"Edmure\", \"Walder\"], [\"Val\", \"Dalla\"], [\"Joffrey\", \"Tommen\"], [\"Podrick\", \"Margaery\"], [\"Stannis\", \"Samwell\"], [\"Joffrey\", \"Margaery\"], [\"Davos\", \"Cressen\"], [\"Joffrey\", \"Loras\"], [\"Jon Arryn\", \"Robert\"], [\"Jorah\", \"Drogo\"], [\"Rhaegar\", \"Robert\"], [\"Sansa\", \"Cersei\"], [\"Sansa\", \"Jon\"], [\"Sansa\", \"Robert\"], [\"Beric\", \"Gendry\"], [\"Walder\", \"Roslin\"], [\"Rhaegar\", \"Elia\"], [\"Sansa\", \"Kevan\"], [\"Sansa\", \"Marillion\"], [\"Sansa\", \"Myrcella\"], [\"Sansa\", \"Rickon\"], [\"Sansa\", \"Tyrion\"], [\"Beric\", \"Anguy\"], [\"Viserys\", \"Tyrion\"], [\"Walder\", \"Lothar\"], [\"Jorah\", \"Belwas\"], [\"Sansa\", \"Jaime\"], [\"Sansa\", \"Sandor\"], [\"Sansa\", \"Shae\"], [\"Sansa\", \"Joffrey\"], [\"Sansa\", \"Olenna\"], [\"Sansa\", \"Podrick\"], [\"Renly\", \"Varys\"], [\"Rhaegar\", \"Jorah\"], [\"Craster\", \"Karl\"], [\"Sansa\", \"Renly\"], [\"Beric\", \"Thoros\"], [\"Gilly\", \"Craster\"], [\"Viserys\", \"Rhaegar\"], [\"Jorah\", \"Barristan\"], [\"Rhaegar\", \"Barristan\"], [\"Sansa\", \"Brienne\"], [\"Sansa\", \"Robert Arryn\"], [\"Varys\", \"Pycelle\"], [\"Renly\", \"Margaery\"], [\"Sansa\", \"Arya\"], [\"Sansa\", \"Bran\"], [\"Sansa\", \"Lysa\"], [\"Sansa\", \"Margaery\"], [\"Aemon\", \"Grenn\"], [\"Aemon\", \"Samwell\"], [\"Jon Arryn\", \"Lysa\"], [\"Jorah\", \"Daario\"], [\"Renly\", \"Loras\"], [\"Sansa\", \"Loras\"], [\"Sansa\", \"Petyr\"], [\"Walder\", \"Petyr\"], [\"Daenerys\", \"Drogo\"], [\"Daenerys\", \"Robert\"], [\"Janos\", \"Alliser\"], [\"Janos\", \"Mance\"], [\"Tywin\", \"Balon\"], [\"Tywin\", \"Cersei\"], [\"Tywin\", \"Oberyn\"], [\"Tywin\", \"Robert\"], [\"Daenerys\", \"Missandei\"], [\"Robert Arryn\", \"Marillion\"], [\"Tywin\", \"Gregor\"], [\"Tywin\", \"Kevan\"], [\"Tywin\", \"Tyrion\"], [\"Daenerys\", \"Belwas\"], [\"Tywin\", \"Jaime\"], [\"Daenerys\", \"Irri\"], [\"Daenerys\", \"Kraznys\"], [\"Daenerys\", \"Rakharo\"], [\"Shireen\", \"Davos\"], [\"Daenerys\", \"Worm\"], [\"Janos\", \"Bowen\"], [\"Tywin\", \"Brynden\"], [\"Tywin\", \"Joffrey\"], [\"Tywin\", \"Podrick\"], [\"Tywin\", \"Stannis\"], [\"Tywin\", \"Val\"], [\"Daenerys\", \"Jorah\"], [\"Daenerys\", \"Rhaegar\"], [\"Daenerys\", \"Viserys\"], [\"Tywin\", \"Varys\"], [\"Tywin\", \"Walder\"], [\"Daenerys\", \"Barristan\"], [\"Roose\", \"Brienne\"], [\"Tywin\", \"Pycelle\"], [\"Tywin\", \"Tommen\"], [\"Meera\", \"Samwell\"], [\"Daenerys\", \"Aegon\"], [\"Tommen\", \"Margaery\"], [\"Tywin\", \"Mace\"], [\"Rattleshirt\", \"Qhorin\"], [\"Daenerys\", \"Daario\"], [\"Brienne\", \"Loras\"], [\"Tywin\", \"Petyr\"], [\"Lysa\", \"Cersei\"], [\"Catelyn\", \"Cersei\"], [\"Catelyn\", \"Robb\"], [\"Catelyn\", \"Roslin\"], [\"Arya\", \"Cersei\"], [\"Arya\", \"Gendry\"], [\"Arya\", \"Jon\"], [\"Arya\", \"Robert\"], [\"Bran\", \"Jon\"], [\"Samwell\", \"Eddison\"], [\"Samwell\", \"Mance\"], [\"Lysa\", \"Marillion\"], [\"Lysa\", \"Tyrion\"], [\"Catelyn\", \"Tyrion\"], [\"Arya\", \"Anguy\"], [\"Arya\", \"Gregor\"], [\"Arya\", \"Rickon\"], [\"Arya\", \"Tyrion\"], [\"Bran\", \"Jojen\"], [\"Bran\", \"Rickon\"], [\"Catelyn\", \"Jaime\"], [\"Arya\", \"Jaime\"], [\"Arya\", \"Sandor\"], [\"Catelyn\", \"Brynden\"], [\"Catelyn\", \"Edmure\"], [\"Catelyn\", \"Stannis\"], [\"Arya\", \"Brynden\"], [\"Arya\", \"Joffrey\"], [\"Rickard\", \"Brynden\"], [\"Samwell\", \"Bowen\"], [\"Catelyn\", \"Sansa\"], [\"Catelyn\", \"Walder\"], [\"Arya\", \"Beric\"], [\"Arya\", \"Thoros\"], [\"Bran\", \"Theon\"], [\"Samwell\", \"Craster\"], [\"Samwell\", \"Gilly\"], [\"Lysa\", \"Robert Arryn\"], [\"Lysa\", \"Tywin\"], [\"Catelyn\", \"Brienne\"], [\"Catelyn\", \"Jeyne\"], [\"Catelyn\", \"Roose\"], [\"Arya\", \"Roose\"], [\"Bran\", \"Meera\"], [\"Samwell\", \"Janos\"], [\"Catelyn\", \"Bran\"], [\"Catelyn\", \"Lysa\"], [\"Arya\", \"Bran\"], [\"Bran\", \"Samwell\"], [\"Samwell\", \"Grenn\"], [\"Lysa\", \"Hoster\"], [\"Lysa\", \"Petyr\"], [\"Catelyn\", \"Hoster\"], [\"Catelyn\", \"Petyr\"], [\"Bran\", \"Hodor\"], [\"Bran\", \"Luwin\"], [\"Bran\", \"Nan\"], [\"Samwell\", \"Qhorin\"], [\"Daario\", \"Drogo\"], [\"Aerys\", \"Robert\"], [\"Aerys\", \"Tyrion\"], [\"Bronn\", \"Gregor\"], [\"Hodor\", \"Jojen\"], [\"Aerys\", \"Jaime\"], [\"Loras\", \"Olenna\"], [\"Daario\", \"Irri\"], [\"Bronn\", \"Podrick\"], [\"Hoster\", \"Edmure\"], [\"Aerys\", \"Tywin\"], [\"Hodor\", \"Meera\"], [\"Loras\", \"Margaery\"], [\"Luwin\", \"Nan\"]], \"ipython\": true, \"error_msg\": \"\"}, e);\n",
       "                });\n",
       "            })();\n",
       "        "
      ]
     },
     "metadata": {},
     "output_type": "display_data"
    }
   ],
   "source": [
    "g.show(vlabel='id', arrows=True)"
   ]
  },
  {
   "cell_type": "code",
   "execution_count": 52,
   "metadata": {
    "collapsed": false
   },
   "outputs": [
    {
     "name": "stdout",
     "output_type": "stream",
     "text": [
      "{'num_edges': 352, 'num_vertices': 107}\n"
     ]
    }
   ],
   "source": [
    "print g.summary()"
   ]
  },
  {
   "cell_type": "markdown",
   "metadata": {},
   "source": [
    "This graph demonstrates the interactions that each character in the \"Game of Thrones\" had with each other. As you can, some characters interact with each other more requently than others, and tend to be more central to the \"Game of Thrones\" story arc, whereas, the characters that are on the periphery tend to be less featured in the show."
   ]
  }
 ],
 "metadata": {
  "kernelspec": {
   "display_name": "Python 2",
   "language": "python",
   "name": "python2"
  },
  "language_info": {
   "codemirror_mode": {
    "name": "ipython",
    "version": 2
   },
   "file_extension": ".py",
   "mimetype": "text/x-python",
   "name": "python",
   "nbconvert_exporter": "python",
   "pygments_lexer": "ipython2",
   "version": "2.7.11"
  }
 },
 "nbformat": 4,
 "nbformat_minor": 0
}
