{
 "cells": [
  {
   "cell_type": "markdown",
   "metadata": {},
   "source": [
    "### Week 2 Part 2 Assignment / Project 1 Proposal\n",
    "**Team:** Pavan Akula, Nathan Lim, Joel Park, Christophe Hunt, and Ilya Kats\n",
    "\n",
    "In this assignment we outline the data and high level plan we intend to employ for Project 1.\n",
    "\n",
    "#### Congressional Bill Cosponsorship Relationships\n",
    "\n",
    "<img src=\"https://raw.githubusercontent.com/ilyakats/CUNY-DATA620/master/Team-Final/Project1/capitol-logo.png\" width=\"300\" height=\"95\" />\n",
    "\n",
    "##### Project Summary\n",
    "\n",
    "The goal of the project is to create and analyze a social network for cosponsorship relationships within the U.S. Congress. The analysis will concentrate on bills and resolutions submitted by both chambers of the U.S. Congress - Senate and House of Representatives. As such any mention of *bills* below implies *bills and resolutions* from either chamber.\n",
    "\n",
    "Bills can be introduced by several members, but only one, whose name appears first on the bill, is considered its sponsor. All others are cosponsors. Cosponsors can be added to the bill at the time of the introduction or at a later date. There is no limit to the number of cosponsors a bill can have; although, this was not always the case. Members may cosponsor bills for various reasons - because they support it, because they want to have a record of supporting it, because their constituents request it, and even to show support for bill's sponsor. As such the cosponsorship links may demonstrate associations and relationships between members. Of course, there are many other types of associations that factor into a political relationship, but cosponsorship may provide unique perspective.\n",
    "\n",
    "##### Project Data\n",
    "\n",
    "For the project, only data from the most recent meeting of the U.S. Congress will be used. This is the 114th Congress that met from January 3, 2015 to January 3, 2017. The official repository of the U.S. legislative data is [Congress.gov](https://www.congress.gov/). The bills data is also maintained by the U.S. Government Publishing Office. The data for the 114th Congress is available at [https://www.gpo.gov/fdsys/bulkdata/BILLSTATUS/114/]. The data is stored in XML format and contains significant amount of metadata to describe a bill and its activity in Congress.\n",
    "\n",
    "The public [@unitedstates](https://theunitedstates.io/) project maintains data and tools to access and analyze the governmental data including congressional data. Our **primary data source** is archived bills data from the 114th Congress prepared by the [Sunlight Foundation](https://sunlightfoundation.com/). The data is saved in JSON format. Data access and format description is available at [https://github.com/unitedstates/congress/wiki].\n",
    "\n",
    "For the project, we are looking to extract the following metadata - identifying information such as bill ID, bill status and information about bill sponsors and cosponsors, including full name and party affiliation. \n",
    "\n",
    "The network will consist of nodes representing members of congress and *directed* connections/edges representing cosponsorship. The edges will follow from all cosponsors to bill's sponsor. Although the network should have two clusters for two chambers of Congress, there should be enough joint resolutions to provide link between the clusters.\n",
    "\n",
    "##### Proposed Data Analysis\n",
    "\n",
    "With 100 Senators and 435 Representatives, there are thousands of legislations that are introduced during each Congress. Some bills have hundreds of cosponsors. This should provide significant amount of information to analyze.\n",
    "\n",
    "We will concentrate the analysis for this project around centrality measures. \n",
    "- **Degree centrality** will identify the most active members - the ones that sponsor popular legislation (indegree centrality) and the ones that cosponsor a significant number of legislations (outdegree centrality). We would expect to see most vocal members on top of this list.\n",
    "- **Closeness centrality** will identify members who balance sponsoring popular legislation and cosponsoring other members' legislation. The top of the list should include popular members who have a lot of support and are also active themselves. It may identify members who are willing to cross party lines more often then others.\n",
    "- **Eigenvector centrality** will identify members who may not cosponsor many bills and assign their support more strategically. Alternatively, it may identify members who simply get on the band-wagon supporting the most popular members/legislation.\n",
    "\n",
    "Additionally, we intend to compare parts of the network using two **categorical variables** - party affiliation and bill status, such as *Introduced*, *Killed*, *Passed*, *Vetoed*, etc. Depending on how divived the 114th Congress was, the **party affiliation** may split the network into two fairly distinct clusters. The recent political climate seems to indicate a wide division between Democrat and Republican legislators. **Bill status** may identify members who are more likely to have their bill passed or vetoed.\n",
    "\n",
    "##### Additional Resources\n",
    "\n",
    "- Oleszek, M. J. (January 12, 2007) Sponsorship and Cosponsorship of House Bills. *Congressional Research Service* [https://fas.org/sgp/crs/misc/RS22477.pdf]\n",
    "- Oleszek, M. J. (January 17, 2007) Introducing a Senate Bill or Resolution. *Congressional Research Service* [https://fas.org/sgp/crs/misc/R44195.pdf]\n",
    "- Fowler, J. H., Waugh, A. S., Sohn, Y. (2006 and 2010) Cosponsorship Network Data [http://jhfowler.ucsd.edu/cosponsorship.htm]"
   ]
  }
 ],
 "metadata": {
  "kernelspec": {
   "display_name": "Python 2",
   "language": "python",
   "name": "python2"
  },
  "language_info": {
   "codemirror_mode": {
    "name": "ipython",
    "version": 2
   },
   "file_extension": ".py",
   "mimetype": "text/x-python",
   "name": "python",
   "nbconvert_exporter": "python",
   "pygments_lexer": "ipython2",
   "version": "2.7.13"
  }
 },
 "nbformat": 4,
 "nbformat_minor": 2
}
