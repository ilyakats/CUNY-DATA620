{
 "cells": [
  {
   "cell_type": "markdown",
   "metadata": {},
   "source": [
    "#Graph Visualization\n",
    "*Week 2 Part 1 Assignment*\n",
    "*Team 2: Nathan Lim, Joel Park, Christophe Hunt, Ilya Kats, Pavan Akula\n",
    "\n",
    "#Abstract\n",
    "\n",
    "The goals of this assignment are\n",
    "\n",
    "- Load a graph database of your choosing from a text file or other source.\n",
    "- Create basic analysis on the graph, including the graph’s diameter, and at least one other metric of your choosing.\n",
    "- Use a visualization tool of your choice (Neo4j, Gephi, etc.) to display information.\n",
    "- Please record a short video (~ 5 minutes), and submit a link to the video in advance of our meet-up.\n",
    "\n",
    "#Introduction\n",
    "\n",
    "As part of the assignment, we be presenting how to load data that has many-to-many relationship. Example: One user can have access to many reports and user can run multiple reports.\n",
    "\n",
    "#Software\n",
    "\n",
    "We will be using Ananconda and Spyder Python 2.7 version as a development platform. Jupyter notebook for documentation. Neo4j graph database is used to showcase this project.\n",
    "\n",
    "#Data Source\n",
    "\n",
    "We will be using large network dataset from https://snap.stanford.edu/data/. Data releted to California roads. Intersections and endpoints are represented by nodes and the roads connecting these intersections or road endpoints are represented by undirected edges.\n",
    "\n",
    "#Packages used\n",
    "\n",
    "- pandas\n",
    "- py2neo\n",
    "- ipython-cypher\n",
    "- networkx\n",
    "- matplotlib\n",
    "- graphviz\n",
    "- Pydot"
   ]
  },
  {
   "cell_type": "markdown",
   "metadata": {},
   "source": [
    "#Extract small subset of data"
   ]
  },
  {
   "cell_type": "code",
   "execution_count": null,
   "metadata": {
    "collapsed": false
   },
   "outputs": [],
   "source": [
    "#Download dataset\n",
    "#https://snap.stanford.edu/data/roadNet-CA.html\n",
    "\n",
    "#Read nodes where Id is less than 50\n",
    "#Get information about all connected nodes\n",
    "\n",
    "#Convert many-to-many relationship to one column.\n",
    "#In From and To are related to roads that combined in single column\n",
    "#Example: Road 1 is connected to roads 0, 6 and 385. Road 6 is connected to roads 1 and 5.\n",
    "\n",
    "import pandas as pd\n",
    "import py2neo as pn\n",
    "%load_ext cypher\n",
    "import networkx as nx\n",
    "import matplotlib.pyplot as plt\n",
    "from IPython.display import Image\n",
    "from IPython.core.display import HTML \n",
    "\n",
    "\"\"\"\n",
    "road = pd.read_table(\"D:/CUNY/620/Week02/roadNet-CA.txt\", sep='\\t', skiprows=4)\n",
    "road.columns = ['FromNodeId','ToNodeId']\n",
    "\n",
    "requiredData = road[road.FromNodeId < 50]\n",
    "\n",
    "for i in range(4):\n",
    "    tempToData = pd.DataFrame(requiredData.ToNodeId.unique())\n",
    "    tempFromData = pd.DataFrame(requiredData.FromNodeId.unique())\n",
    "    tempFromData.columns = ['FromNodeId']\n",
    "    for index, row in tempToData.iterrows():\n",
    "        if not (tempFromData['FromNodeId'] == row[0]).any():\n",
    "            tmpDf = road[road.FromNodeId == row[0]]\n",
    "            frames = [requiredData, tmpDf]\n",
    "            requiredData = pd.concat(frames)\n",
    "\n",
    "\n",
    "uniqueFrom = pd.DataFrame(requiredData.FromNodeId.unique())\n",
    "uniqueFrom.columns = ['roadId']\n",
    "\n",
    "uniqueTo = pd.DataFrame(requiredData.ToNodeId.unique())\n",
    "uniqueTo.columns = ['roadId']\n",
    "\n",
    "frames = [uniqueFrom, uniqueTo]\n",
    "uniqueDf = pd.concat(frames)\n",
    "\n",
    "uniqueDf = pd.DataFrame(uniqueDf.roadId.unique())\n",
    "uniqueDf.reset_index(drop=True, inplace=True)\n",
    "uniqueDf.index = uniqueDf.index + 1\n",
    "uniqueDf.columns = ['roadNum']\n",
    "\n",
    "requiredData.reset_index(drop=True, inplace=True)\n",
    "requiredData.index = requiredData.index + 1\n",
    "\n",
    "requiredData.to_csv(\"D:/Pavan/Neo4jdb/import/roadNetCA.csv\", sep=',', index=True, index_label='id')\n",
    "uniqueDf.to_csv(\"D:/Pavan/Neo4jdb/import/roadCA.csv\", sep=',', index=True, index_label = 'id')\n",
    "\"\"\"\n",
    "\n",
    "#Upload files to GitHub"
   ]
  },
  {
   "cell_type": "markdown",
   "metadata": {},
   "source": [
    "#Load data into Neo4j graph database"
   ]
  },
  {
   "cell_type": "code",
   "execution_count": null,
   "metadata": {
    "collapsed": true
   },
   "outputs": [],
   "source": [
    "#Run following code in Neo4j shell\n",
    "\n",
    "\"\"\"\n",
    "// Unique roads of California\n",
    "USING PERIODIC COMMIT\n",
    "LOAD CSV WITH HEADERS FROM \"https://raw.githubusercontent.com/ilyakats/CUNY-DATA620/master/data/roadCA.csv\" AS row\n",
    "CREATE (:road {roadNum: TOINT(row.roadNum),_id: TOINT(row.id)});\n",
    "\n",
    "//Create index\n",
    "CREATE INDEX ON :road(roadNum);\n",
    "\n",
    "//Load data that has relation between from and to\n",
    "USING PERIODIC COMMIT\n",
    "LOAD CSV WITH HEADERS FROM \"https://raw.githubusercontent.com/ilyakats/CUNY-DATA620/master/data/roadNetCA.csv\" AS row\n",
    "MATCH (roadNetFrom:road {roadNum: TOINT(row.FromNodeId)})\n",
    "MATCH (roadNetTo:road {roadNum: TOINT(row.ToNodeId)})\n",
    "MERGE (roadNetFrom)-[:TO]->(roadNetTo);\n",
    "\"\"\""
   ]
  },
  {
   "cell_type": "markdown",
   "metadata": {},
   "source": [
    "#Neo4j Graph"
   ]
  },
  {
   "cell_type": "markdown",
   "metadata": {},
   "source": [
    "![Neo4j](https://github.com/ilyakats/CUNY-DATA620/blob/master/data/Neo4jGraph.jpg)"
   ]
  },
  {
   "cell_type": "markdown",
   "metadata": {},
   "source": [
    "#Extract data from Neo4j using ipython-cypher"
   ]
  },
  {
   "cell_type": "code",
   "execution_count": 13,
   "metadata": {
    "collapsed": false
   },
   "outputs": [
    {
     "name": "stdout",
     "output_type": "stream",
     "text": [
      "The cypher extension is already loaded. To reload it, use:\n",
      "  %reload_ext cypher\n",
      "25 rows affected.\n"
     ]
    },
    {
     "data": {
      "text/html": [
       "<div>\n",
       "<table border=\"1\" class=\"dataframe\">\n",
       "  <thead>\n",
       "    <tr style=\"text-align: right;\">\n",
       "      <th></th>\n",
       "      <th>From</th>\n",
       "      <th>To</th>\n",
       "    </tr>\n",
       "  </thead>\n",
       "  <tbody>\n",
       "    <tr>\n",
       "      <th>0</th>\n",
       "      <td>0</td>\n",
       "      <td>2</td>\n",
       "    </tr>\n",
       "    <tr>\n",
       "      <th>1</th>\n",
       "      <td>0</td>\n",
       "      <td>469</td>\n",
       "    </tr>\n",
       "    <tr>\n",
       "      <th>2</th>\n",
       "      <td>1</td>\n",
       "      <td>0</td>\n",
       "    </tr>\n",
       "    <tr>\n",
       "      <th>3</th>\n",
       "      <td>1</td>\n",
       "      <td>6</td>\n",
       "    </tr>\n",
       "    <tr>\n",
       "      <th>4</th>\n",
       "      <td>1</td>\n",
       "      <td>385</td>\n",
       "    </tr>\n",
       "    <tr>\n",
       "      <th>5</th>\n",
       "      <td>2</td>\n",
       "      <td>0</td>\n",
       "    </tr>\n",
       "    <tr>\n",
       "      <th>6</th>\n",
       "      <td>2</td>\n",
       "      <td>3</td>\n",
       "    </tr>\n",
       "    <tr>\n",
       "      <th>7</th>\n",
       "      <td>3</td>\n",
       "      <td>2</td>\n",
       "    </tr>\n",
       "    <tr>\n",
       "      <th>8</th>\n",
       "      <td>3</td>\n",
       "      <td>4</td>\n",
       "    </tr>\n",
       "    <tr>\n",
       "      <th>9</th>\n",
       "      <td>3</td>\n",
       "      <td>419</td>\n",
       "    </tr>\n",
       "    <tr>\n",
       "      <th>10</th>\n",
       "      <td>3</td>\n",
       "      <td>422</td>\n",
       "    </tr>\n",
       "    <tr>\n",
       "      <th>11</th>\n",
       "      <td>4</td>\n",
       "      <td>3</td>\n",
       "    </tr>\n",
       "    <tr>\n",
       "      <th>12</th>\n",
       "      <td>4</td>\n",
       "      <td>5</td>\n",
       "    </tr>\n",
       "    <tr>\n",
       "      <th>13</th>\n",
       "      <td>4</td>\n",
       "      <td>98</td>\n",
       "    </tr>\n",
       "    <tr>\n",
       "      <th>14</th>\n",
       "      <td>4</td>\n",
       "      <td>420</td>\n",
       "    </tr>\n",
       "    <tr>\n",
       "      <th>15</th>\n",
       "      <td>5</td>\n",
       "      <td>4</td>\n",
       "    </tr>\n",
       "    <tr>\n",
       "      <th>16</th>\n",
       "      <td>5</td>\n",
       "      <td>6</td>\n",
       "    </tr>\n",
       "    <tr>\n",
       "      <th>17</th>\n",
       "      <td>5</td>\n",
       "      <td>98</td>\n",
       "    </tr>\n",
       "    <tr>\n",
       "      <th>18</th>\n",
       "      <td>6</td>\n",
       "      <td>1</td>\n",
       "    </tr>\n",
       "    <tr>\n",
       "      <th>19</th>\n",
       "      <td>6</td>\n",
       "      <td>5</td>\n",
       "    </tr>\n",
       "    <tr>\n",
       "      <th>20</th>\n",
       "      <td>7</td>\n",
       "      <td>8</td>\n",
       "    </tr>\n",
       "    <tr>\n",
       "      <th>21</th>\n",
       "      <td>7</td>\n",
       "      <td>9</td>\n",
       "    </tr>\n",
       "    <tr>\n",
       "      <th>22</th>\n",
       "      <td>7</td>\n",
       "      <td>79</td>\n",
       "    </tr>\n",
       "    <tr>\n",
       "      <th>23</th>\n",
       "      <td>8</td>\n",
       "      <td>7</td>\n",
       "    </tr>\n",
       "    <tr>\n",
       "      <th>24</th>\n",
       "      <td>8</td>\n",
       "      <td>33</td>\n",
       "    </tr>\n",
       "  </tbody>\n",
       "</table>\n",
       "</div>"
      ],
      "text/plain": [
       "    From   To\n",
       "0      0    2\n",
       "1      0  469\n",
       "2      1    0\n",
       "3      1    6\n",
       "4      1  385\n",
       "5      2    0\n",
       "6      2    3\n",
       "7      3    2\n",
       "8      3    4\n",
       "9      3  419\n",
       "10     3  422\n",
       "11     4    3\n",
       "12     4    5\n",
       "13     4   98\n",
       "14     4  420\n",
       "15     5    4\n",
       "16     5    6\n",
       "17     5   98\n",
       "18     6    1\n",
       "19     6    5\n",
       "20     7    8\n",
       "21     7    9\n",
       "22     7   79\n",
       "23     8    7\n",
       "24     8   33"
      ]
     },
     "execution_count": 13,
     "metadata": {},
     "output_type": "execute_result"
    }
   ],
   "source": [
    "#Extract data from Neo4j\n",
    "\n",
    "%load_ext cypher\n",
    "\n",
    "results = %cypher MATCH (roadNetFrom:road)-[r:TO]->(roadNetTo:road) \n",
    "RETURN roadNetFrom.roadNum AS From, roadNetTo.roadNum AS To \n",
    "ORDER BY roadNetFrom.roadNum, roadNetTo.roadNum LIMIT 25;\n",
    "\n",
    "df = results.get_dataframe()\n",
    "\n",
    "df"
   ]
  },
  {
   "cell_type": "markdown",
   "metadata": {},
   "source": [
    "#Display Graph"
   ]
  },
  {
   "cell_type": "code",
   "execution_count": 17,
   "metadata": {
    "collapsed": false
   },
   "outputs": [
    {
     "data": {
      "text/html": [
       "<img src=\"https://github.com/ilyakats/CUNY-DATA620/blob/master/data/Neo4jGraph.jpg\"/>"
      ],
      "text/plain": [
       "<IPython.core.display.Image object>"
      ]
     },
     "execution_count": 17,
     "metadata": {},
     "output_type": "execute_result"
    }
   ],
   "source": [
    "Image(url= \"https://github.com/ilyakats/CUNY-DATA620/blob/master/data/Neo4jGraph.jpg\")"
   ]
  },
  {
   "cell_type": "code",
   "execution_count": 9,
   "metadata": {
    "collapsed": false
   },
   "outputs": [
    {
     "name": "stdout",
     "output_type": "stream",
     "text": [
      "25 rows affected.\n",
      "Warning: specified root node \"0\" was not found.Using default calculation for root node\r\n",
      "\n"
     ]
    },
    {
     "data": {
      "image/png": "[encoded data removed]",
      "text/plain": [
       "<matplotlib.figure.Figure at 0xa3c9748>"
      ]
     },
     "metadata": {},
     "output_type": "display_data"
    }
   ],
   "source": [
    "from networkx.drawing.nx_pydot import graphviz_layout\n",
    "%matplotlib inline\n",
    "#Read data from Neo4j\n",
    "\n",
    "results = %cypher MATCH p=(roadNetFrom:road)-[r:TO]->(roadNetTo:road) RETURN p LIMIT 25;\n",
    "\n",
    "g = results.get_graph()\n",
    "pos = graphviz_layout(g, prog=\"twopi\", root=0)\n",
    "nx.draw(g, pos,font_size=14,font_family='Verdana',font_weight='bold',node_size=400,node_color='gold',with_labels=True,alpha=0.5)\n",
    "plt.show()"
   ]
  },
  {
   "cell_type": "markdown",
   "metadata": {},
   "source": [
    "#Display Nodes"
   ]
  },
  {
   "cell_type": "code",
   "execution_count": 10,
   "metadata": {
    "collapsed": false
   },
   "outputs": [
    {
     "data": {
      "text/plain": [
       "[(u'458', {u'_id': 9, 'labels': [u'road'], u'roadNum': 8}),\n",
       " (u'459', {u'_id': 10, 'labels': [u'road'], u'roadNum': 9}),\n",
       " (u'450', {u'_id': 1, 'labels': [u'road'], u'roadNum': 0}),\n",
       " (u'451', {u'_id': 2, 'labels': [u'road'], u'roadNum': 1}),\n",
       " (u'452', {u'_id': 3, 'labels': [u'road'], u'roadNum': 2}),\n",
       " (u'453', {u'_id': 4, 'labels': [u'road'], u'roadNum': 6}),\n",
       " (u'454', {u'_id': 5, 'labels': [u'road'], u'roadNum': 3}),\n",
       " (u'455', {u'_id': 6, 'labels': [u'road'], u'roadNum': 4}),\n",
       " (u'456', {u'_id': 7, 'labels': [u'road'], u'roadNum': 5}),\n",
       " (u'457', {u'_id': 8, 'labels': [u'road'], u'roadNum': 7}),\n",
       " (u'460', {u'_id': 11, 'labels': [u'road'], u'roadNum': 33}),\n",
       " (u'506', {u'_id': 57, 'labels': [u'road'], u'roadNum': 79}),\n",
       " (u'504', {u'_id': 55, 'labels': [u'road'], u'roadNum': 98}),\n",
       " (u'505', {u'_id': 56, 'labels': [u'road'], u'roadNum': 420}),\n",
       " (u'502', {u'_id': 53, 'labels': [u'road'], u'roadNum': 419}),\n",
       " (u'503', {u'_id': 54, 'labels': [u'road'], u'roadNum': 422}),\n",
       " (u'500', {u'_id': 51, 'labels': [u'road'], u'roadNum': 469}),\n",
       " (u'501', {u'_id': 52, 'labels': [u'road'], u'roadNum': 385})]"
      ]
     },
     "execution_count": 10,
     "metadata": {},
     "output_type": "execute_result"
    }
   ],
   "source": [
    "#Nodes\n",
    "\n",
    "g.nodes(data=True)"
   ]
  }
 ],
 "metadata": {
  "kernelspec": {
   "display_name": "Python 2",
   "language": "python",
   "name": "python2"
  },
  "language_info": {
   "codemirror_mode": {
    "name": "ipython",
    "version": 2
   },
   "file_extension": ".py",
   "mimetype": "text/x-python",
   "name": "python",
   "nbconvert_exporter": "python",
   "pygments_lexer": "ipython2",
   "version": "2.7.11"
  }
 },
 "nbformat": 4,
 "nbformat_minor": 0
}
