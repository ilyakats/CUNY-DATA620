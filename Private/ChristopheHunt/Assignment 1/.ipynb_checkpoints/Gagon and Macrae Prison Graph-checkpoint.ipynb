{
 "cells": [
  {
   "cell_type": "raw",
   "metadata": {
    "collapsed": true
   },
   "source": [
    "GAGNON & MACRAE PRISON\n",
    "\n",
    "DATASET PRISON\n",
    "\n",
    "DESCRIPTION One 67×67 matrix, non-symmetric, binary.\n",
    "\n",
    "BACKGROUND In the 1950s John Gagnon collected sociometric choice data from 67 prison inmates. All were asked, \"What fellows on the tier are you closest friends with?\" Each was free to choose as few or as many \"friends\" as he desired. The data were analyzed by MacRae and characterized by him as \"less clear cut\" in their internal structure than similar data from schools or residential populations.\n",
    "\n",
    "REFERENCE\n",
    "\n",
    "MacRae J. (1960). Direct factor analysis of sociometric data. Sociometry, 23, 360-371.\n",
    "\n",
    "http://vlado.fmf.uni-lj.si/pub/networks/data/Ucinet/UciData.htm#prison\n"
   ]
  },
  {
   "cell_type": "code",
   "execution_count": 1,
   "metadata": {
    "collapsed": true
   },
   "outputs": [],
   "source": [
    "import graphlab as gl\n",
    "gl.canvas.set_target('ipynb') # use IPython Notebook output for GraphLab Canvas"
   ]
  },
  {
   "cell_type": "code",
   "execution_count": null,
   "metadata": {
    "collapsed": true
   },
   "outputs": [],
   "source": [
    "vertices =  gl.SFrame.read_csv('https://static.turi.com/datasets/bond/bond_vertices.csv')"
   ]
  }
 ],
 "metadata": {
  "kernelspec": {
   "display_name": "Python 2",
   "language": "python",
   "name": "python2"
  },
  "language_info": {
   "codemirror_mode": {
    "name": "ipython",
    "version": 2
   },
   "file_extension": ".py",
   "mimetype": "text/x-python",
   "name": "python",
   "nbconvert_exporter": "python",
   "pygments_lexer": "ipython2",
   "version": "2.7.13"
  }
 },
 "nbformat": 4,
 "nbformat_minor": 2
}
