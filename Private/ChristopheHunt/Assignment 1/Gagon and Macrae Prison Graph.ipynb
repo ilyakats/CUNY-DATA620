{
 "cells": [
  {
   "cell_type": "markdown",
   "metadata": {},
   "source": [
    "# Using NetworkX to Graph Prison Inmate Data"
   ]
  },
  {
   "cell_type": "code",
   "execution_count": 1,
   "metadata": {},
   "outputs": [
    {
     "data": {
      "text/html": [
       "<style>.container { width:100% !important; }</style>"
      ],
      "text/plain": [
       "<IPython.core.display.HTML object>"
      ]
     },
     "metadata": {},
     "output_type": "display_data"
    }
   ],
   "source": [
    "#to make notebook wider\n",
    "from IPython.core.display import display, HTML\n",
    "display(HTML(\"<style>.container { width:100% !important; }</style>\"))\n",
    "\n",
    "#to hide warnings\n",
    "import warnings\n",
    "warnings.filterwarnings('ignore')\n",
    "\n",
    "import networkx as nx\n",
    "import pandas as pd\n",
    "import numpy as np\n",
    "import matplotlib.pyplot as plt"
   ]
  },
  {
   "cell_type": "markdown",
   "metadata": {
    "collapsed": true
   },
   "source": [
    "### DATA SOURCE\n",
    "\n",
    "AUTHORS: GAGNON & MACRAE PRISON\n",
    "\n",
    "DATASET: PRISON\n",
    "\n",
    "DESCRIPTION \n",
    ">One 67×67 matrix, non-symmetric, binary.\n",
    "\n",
    "BACKGROUND \n",
    "> In the 1950s John Gagnon collected sociometric choice data from 67 prison inmates. All were asked, \"What fellows on the tier are you closest friends with?\" Each was free to choose as few or as many \"friends\" as he desired. The data were analyzed by MacRae and characterized by him as \"less clear cut\" in their internal structure than similar data from schools or residential populations.\n",
    "\n",
    "REFERENCE\n",
    ">MacRae J. (1960). Direct factor analysis of sociometric data. Sociometry, 23, 360-371.\n",
    "\n",
    "http://vlado.fmf.uni-lj.si/pub/networks/data/Ucinet/UciData.htm#prison"
   ]
  },
  {
   "cell_type": "raw",
   "metadata": {},
   "source": [
    "Now we read in the csv of the prison data and form our adjacency matrix to graph."
   ]
  },
  {
   "cell_type": "code",
   "execution_count": 5,
   "metadata": {},
   "outputs": [
    {
     "ename": "NetworkXError",
     "evalue": "('Adjacency matrix is not square.', 'nx,ny=(68L, 67L)')",
     "output_type": "error",
     "traceback": [
      "\u001b[1;31m---------------------------------------------------------------------------\u001b[0m",
      "\u001b[1;31mNetworkXError\u001b[0m                             Traceback (most recent call last)",
      "\u001b[1;32m<ipython-input-5-d19613c8e287>\u001b[0m in \u001b[0;36m<module>\u001b[1;34m()\u001b[0m\n\u001b[0;32m      1\u001b[0m \u001b[0ml\u001b[0m \u001b[1;33m=\u001b[0m \u001b[0mpd\u001b[0m\u001b[1;33m.\u001b[0m\u001b[0mread_csv\u001b[0m\u001b[1;33m(\u001b[0m\u001b[1;34m'https://raw.githubusercontent.com/ilyakats/CUNY-DATA620/master/Private/ChristopheHunt/Assignment%201/Prisoner%20Dataset.csv'\u001b[0m\u001b[1;33m,\u001b[0m \u001b[0mheader\u001b[0m \u001b[1;33m=\u001b[0m \u001b[0mNone\u001b[0m\u001b[1;33m)\u001b[0m\u001b[1;33m\u001b[0m\u001b[0m\n\u001b[0;32m      2\u001b[0m \u001b[0mmatrix\u001b[0m \u001b[1;33m=\u001b[0m \u001b[0mnp\u001b[0m\u001b[1;33m.\u001b[0m\u001b[0mmatrix\u001b[0m\u001b[1;33m(\u001b[0m\u001b[0ml\u001b[0m\u001b[1;33m)\u001b[0m\u001b[1;33m\u001b[0m\u001b[0m\n\u001b[1;32m----> 3\u001b[1;33m \u001b[0mg\u001b[0m \u001b[1;33m=\u001b[0m \u001b[0mnx\u001b[0m\u001b[1;33m.\u001b[0m\u001b[0mfrom_numpy_matrix\u001b[0m\u001b[1;33m(\u001b[0m\u001b[0mmatrix\u001b[0m\u001b[1;33m,\u001b[0m \u001b[0mparallel_edges\u001b[0m \u001b[1;33m=\u001b[0m \u001b[0mTrue\u001b[0m\u001b[1;33m,\u001b[0m \u001b[0mcreate_using\u001b[0m \u001b[1;33m=\u001b[0m \u001b[0mNone\u001b[0m\u001b[1;33m)\u001b[0m\u001b[1;33m\u001b[0m\u001b[0m\n\u001b[0m",
      "\u001b[1;32mC:\\ProgramData\\Anaconda2\\lib\\site-packages\\networkx\\convert_matrix.pyc\u001b[0m in \u001b[0;36mfrom_numpy_matrix\u001b[1;34m(A, parallel_edges, create_using)\u001b[0m\n\u001b[0;32m    485\u001b[0m     \u001b[1;32mif\u001b[0m \u001b[0mn\u001b[0m\u001b[1;33m!=\u001b[0m\u001b[0mm\u001b[0m\u001b[1;33m:\u001b[0m\u001b[1;33m\u001b[0m\u001b[0m\n\u001b[0;32m    486\u001b[0m         raise nx.NetworkXError(\"Adjacency matrix is not square.\",\n\u001b[1;32m--> 487\u001b[1;33m                                \"nx,ny=%s\"%(A.shape,))\n\u001b[0m\u001b[0;32m    488\u001b[0m     \u001b[0mdt\u001b[0m\u001b[1;33m=\u001b[0m\u001b[0mA\u001b[0m\u001b[1;33m.\u001b[0m\u001b[0mdtype\u001b[0m\u001b[1;33m\u001b[0m\u001b[0m\n\u001b[0;32m    489\u001b[0m     \u001b[1;32mtry\u001b[0m\u001b[1;33m:\u001b[0m\u001b[1;33m\u001b[0m\u001b[0m\n",
      "\u001b[1;31mNetworkXError\u001b[0m: ('Adjacency matrix is not square.', 'nx,ny=(68L, 67L)')"
     ]
    }
   ],
   "source": [
    "l = pd.read_csv('https://raw.githubusercontent.com/ilyakats/CUNY-DATA620/master/Private/ChristopheHunt/Assignment%201/Prisoner%20Dataset.csv', header = None)\n",
    "matrix = np.matrix(l)\n",
    "g = nx.from_numpy_matrix(matrix, parallel_edges = True, create_using = None)"
   ]
  },
  {
   "cell_type": "raw",
   "metadata": {},
   "source": [
    "This is to rename our nodes so its easier to understand the relationship between prisoners."
   ]
  },
  {
   "cell_type": "code",
   "execution_count": null,
   "metadata": {},
   "outputs": [],
   "source": [
    "def rename(x):\n",
    "    return \"Prisoner \" + str(x+1)\n",
    "g = nx.relabel_nodes(g,rename)"
   ]
  },
  {
   "cell_type": "code",
   "execution_count": null,
   "metadata": {},
   "outputs": [],
   "source": [
    "%pylab inline\n",
    "pylab.rcParams['figure.figsize'] = (20, 10)"
   ]
  },
  {
   "cell_type": "code",
   "execution_count": null,
   "metadata": {},
   "outputs": [],
   "source": [
    "plot = nx.draw_networkx(g)\n",
    "plt.show()"
   ]
  },
  {
   "cell_type": "raw",
   "metadata": {},
   "source": [
    "Lets take a look at for Prisoner 1"
   ]
  },
  {
   "cell_type": "code",
   "execution_count": null,
   "metadata": {},
   "outputs": [],
   "source": [
    "g.edges(\"Prisoner 1\")"
   ]
  },
  {
   "cell_type": "raw",
   "metadata": {},
   "source": [
    "It appears that there are 2 people that Prisoner identifies as a friend. "
   ]
  },
  {
   "cell_type": "code",
   "execution_count": null,
   "metadata": {},
   "outputs": [],
   "source": [
    "g.edges(\"Prisoner 4\")"
   ]
  },
  {
   "cell_type": "raw",
   "metadata": {},
   "source": [
    "Whereas, Prisoner 4 (an identified friend of Prisoner 1) has 4 people that they identify as friends"
   ]
  }
 ],
 "metadata": {
  "kernelspec": {
   "display_name": "Python 2",
   "language": "python",
   "name": "python2"
  },
  "language_info": {
   "codemirror_mode": {
    "name": "ipython",
    "version": 2
   },
   "file_extension": ".py",
   "mimetype": "text/x-python",
   "name": "python",
   "nbconvert_exporter": "python",
   "pygments_lexer": "ipython2",
   "version": "2.7.13"
  }
 },
 "nbformat": 4,
 "nbformat_minor": 2
}
