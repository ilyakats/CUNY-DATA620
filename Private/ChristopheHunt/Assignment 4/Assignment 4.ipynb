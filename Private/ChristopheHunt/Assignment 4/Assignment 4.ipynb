{
 "cells": [
  {
   "cell_type": "code",
   "execution_count": 1,
   "metadata": {
    "collapsed": true
   },
   "outputs": [],
   "source": [
    "import urllib, os, zipfile, glob\n",
    "from IPython.core.interactiveshell import InteractiveShell\n",
    "InteractiveShell.ast_node_interactivity = \"all\""
   ]
  },
  {
   "cell_type": "code",
   "execution_count": 2,
   "metadata": {
    "collapsed": true
   },
   "outputs": [],
   "source": [
    "open('HillaryClinton.zip', 'wb').write(urllib.urlopen('https://github.com/ilyakats/CUNY-DATA620/blob/master/data/HillaryClinton.zip?raw=true').read())\n",
    "open('DonaldTrump.zip', 'wb').write(urllib.urlopen('https://github.com/ilyakats/CUNY-DATA620/blob/master/data/DonaldTrump.zip?raw=true').read())"
   ]
  },
  {
   "cell_type": "code",
   "execution_count": 3,
   "metadata": {
    "collapsed": true
   },
   "outputs": [],
   "source": [
    "zip_ref = zipfile.ZipFile(os.path.realpath('HillaryClinton.zip'), 'r')\n",
    "zip_ref.extractall(os.path.realpath(''))\n",
    "zip_ref = zipfile.ZipFile(os.path.realpath('DonaldTrump.zip'), 'r')\n",
    "zip_ref.extractall(os.path.realpath(''))\n",
    "zip_ref.close()"
   ]
  },
  {
   "cell_type": "code",
   "execution_count": 4,
   "metadata": {
    "collapsed": true
   },
   "outputs": [],
   "source": [
    "os.unlink('DonaldTrump.zip')\n",
    "os.unlink('HillaryClinton.zip')"
   ]
  },
  {
   "cell_type": "code",
   "execution_count": 5,
   "metadata": {
    "collapsed": true
   },
   "outputs": [],
   "source": [
    "read_files = glob.glob(os.path.realpath('DonaldTrump') + \"\\\\*.txt\")\n",
    "\n",
    "with open(\"DonaldTrump.txt\", \"wb\") as DonaldTrump:\n",
    "    for f in read_files:\n",
    "        with open(f, \"rb\") as infile:\n",
    "            DonaldTrump.write(infile.read())\n",
    "\n",
    "read_files = glob.glob(os.path.realpath('HillaryClinton') + \"\\\\*.txt\")\n",
    "\n",
    "with open(\"HillaryClinton.txt\", \"wb\") as HillaryClinton:\n",
    "    for f in read_files:\n",
    "        with open(f, \"rb\") as infile:\n",
    "            HillaryClinton.write(infile.read())"
   ]
  },
  {
   "cell_type": "code",
   "execution_count": 6,
   "metadata": {
    "collapsed": true
   },
   "outputs": [],
   "source": [
    "import nltk"
   ]
  },
  {
   "cell_type": "code",
   "execution_count": 7,
   "metadata": {
    "collapsed": true
   },
   "outputs": [],
   "source": [
    "f = open('DonaldTrump.txt', 'rU')\n",
    "DT_text = f.read()\n",
    "\n",
    "f = open('HillaryClinton.txt', 'rU')\n",
    "HC_text = f.read()"
   ]
  },
  {
   "cell_type": "markdown",
   "metadata": {},
   "source": [
    "> #### 2. How many total unique words are in the corpus? (Please feel free to define unique words in any interesting, defensible way)."
   ]
  },
  {
   "cell_type": "code",
   "execution_count": 8,
   "metadata": {
    "collapsed": true
   },
   "outputs": [],
   "source": [
    "from nltk.tokenize import RegexpTokenizer\n",
    "from nltk.corpus import stopwords\n",
    "from nltk.stem import PorterStemmer\n",
    "import pandas as pd\n",
    "from collections import Counter\n",
    "\n",
    "tokens = RegexpTokenizer(r'\\w+').tokenize(HC_text)\n",
    "lower_words = [w.lower() for w in tokens]\n",
    "filtered_words = [word for word in lower_words if word not in stopwords.words('english')]\n",
    "stemmed_words = [PorterStemmer().stem(word) for word in filtered_words]\n",
    "HC_results = Counter(stemmed_words)    "
   ]
  },
  {
   "cell_type": "code",
   "execution_count": 9,
   "metadata": {},
   "outputs": [
    {
     "name": "stdout",
     "output_type": "stream",
     "text": [
      "9700 unique stemmed words\n"
     ]
    },
    {
     "data": {
      "text/html": [
       "<div>\n",
       "<style>\n",
       "    .dataframe thead tr:only-child th {\n",
       "        text-align: right;\n",
       "    }\n",
       "\n",
       "    .dataframe thead th {\n",
       "        text-align: left;\n",
       "    }\n",
       "\n",
       "    .dataframe tbody tr th {\n",
       "        vertical-align: top;\n",
       "    }\n",
       "</style>\n",
       "<table border=\"1\" class=\"dataframe\">\n",
       "  <thead>\n",
       "    <tr style=\"text-align: right;\">\n",
       "      <th></th>\n",
       "      <th>0</th>\n",
       "      <th>1</th>\n",
       "    </tr>\n",
       "  </thead>\n",
       "  <tbody>\n",
       "    <tr>\n",
       "      <th>4170</th>\n",
       "      <td>3619</td>\n",
       "      <td>go</td>\n",
       "    </tr>\n",
       "    <tr>\n",
       "      <th>9576</th>\n",
       "      <td>3539</td>\n",
       "      <td>know</td>\n",
       "    </tr>\n",
       "    <tr>\n",
       "      <th>683</th>\n",
       "      <td>3516</td>\n",
       "      <td>peopl</td>\n",
       "    </tr>\n",
       "    <tr>\n",
       "      <th>2489</th>\n",
       "      <td>2838</td>\n",
       "      <td>work</td>\n",
       "    </tr>\n",
       "    <tr>\n",
       "      <th>108</th>\n",
       "      <td>2468</td>\n",
       "      <td>want</td>\n",
       "    </tr>\n",
       "    <tr>\n",
       "      <th>5784</th>\n",
       "      <td>2444</td>\n",
       "      <td>get</td>\n",
       "    </tr>\n",
       "    <tr>\n",
       "      <th>5229</th>\n",
       "      <td>2316</td>\n",
       "      <td>make</td>\n",
       "    </tr>\n",
       "    <tr>\n",
       "      <th>5667</th>\n",
       "      <td>2313</td>\n",
       "      <td>think</td>\n",
       "    </tr>\n",
       "    <tr>\n",
       "      <th>6920</th>\n",
       "      <td>2134</td>\n",
       "      <td>presid</td>\n",
       "    </tr>\n",
       "    <tr>\n",
       "      <th>4409</th>\n",
       "      <td>1812</td>\n",
       "      <td>need</td>\n",
       "    </tr>\n",
       "  </tbody>\n",
       "</table>\n",
       "</div>"
      ],
      "text/plain": [
       "         0       1\n",
       "4170  3619      go\n",
       "9576  3539    know\n",
       "683   3516   peopl\n",
       "2489  2838    work\n",
       "108   2468    want\n",
       "5784  2444     get\n",
       "5229  2316    make\n",
       "5667  2313   think\n",
       "6920  2134  presid\n",
       "4409  1812    need"
      ]
     },
     "execution_count": 9,
     "metadata": {},
     "output_type": "execute_result"
    }
   ],
   "source": [
    "print ('%d unique stemmed words' % len(HC_results))\n",
    "pd.DataFrame(zip(HC_results.values(),HC_results.keys())).sort_values(by = [0], axis=0, ascending=False).head(10)"
   ]
  },
  {
   "cell_type": "code",
   "execution_count": 10,
   "metadata": {
    "collapsed": true
   },
   "outputs": [],
   "source": [
    "tokens = RegexpTokenizer(r'\\w+').tokenize(DT_text)\n",
    "lower_words = [w.lower() for w in tokens]\n",
    "filtered_words = [word for word in lower_words if word not in stopwords.words('english')]\n",
    "stemmed_words = [PorterStemmer().stem(word) for word in filtered_words]\n",
    "DT_results = Counter(stemmed_words) "
   ]
  },
  {
   "cell_type": "code",
   "execution_count": 11,
   "metadata": {},
   "outputs": [
    {
     "name": "stdout",
     "output_type": "stream",
     "text": [
      "5211 unique stemmed words\n"
     ]
    },
    {
     "data": {
      "text/html": [
       "<div>\n",
       "<style>\n",
       "    .dataframe thead tr:only-child th {\n",
       "        text-align: right;\n",
       "    }\n",
       "\n",
       "    .dataframe thead th {\n",
       "        text-align: left;\n",
       "    }\n",
       "\n",
       "    .dataframe tbody tr th {\n",
       "        vertical-align: top;\n",
       "    }\n",
       "</style>\n",
       "<table border=\"1\" class=\"dataframe\">\n",
       "  <thead>\n",
       "    <tr style=\"text-align: right;\">\n",
       "      <th></th>\n",
       "      <th>0</th>\n",
       "      <th>1</th>\n",
       "    </tr>\n",
       "  </thead>\n",
       "  <tbody>\n",
       "    <tr>\n",
       "      <th>3931</th>\n",
       "      <td>2258</td>\n",
       "      <td>go</td>\n",
       "    </tr>\n",
       "    <tr>\n",
       "      <th>1508</th>\n",
       "      <td>1432</td>\n",
       "      <td>peopl</td>\n",
       "    </tr>\n",
       "    <tr>\n",
       "      <th>811</th>\n",
       "      <td>1392</td>\n",
       "      <td>countri</td>\n",
       "    </tr>\n",
       "    <tr>\n",
       "      <th>3094</th>\n",
       "      <td>1316</td>\n",
       "      <td>american</td>\n",
       "    </tr>\n",
       "    <tr>\n",
       "      <th>3764</th>\n",
       "      <td>1162</td>\n",
       "      <td>clinton</td>\n",
       "    </tr>\n",
       "    <tr>\n",
       "      <th>2265</th>\n",
       "      <td>1130</td>\n",
       "      <td>applaus</td>\n",
       "    </tr>\n",
       "    <tr>\n",
       "      <th>1846</th>\n",
       "      <td>1075</td>\n",
       "      <td>hillari</td>\n",
       "    </tr>\n",
       "    <tr>\n",
       "      <th>4684</th>\n",
       "      <td>1034</td>\n",
       "      <td>job</td>\n",
       "    </tr>\n",
       "    <tr>\n",
       "      <th>1811</th>\n",
       "      <td>842</td>\n",
       "      <td>one</td>\n",
       "    </tr>\n",
       "    <tr>\n",
       "      <th>257</th>\n",
       "      <td>790</td>\n",
       "      <td>want</td>\n",
       "    </tr>\n",
       "  </tbody>\n",
       "</table>\n",
       "</div>"
      ],
      "text/plain": [
       "         0         1\n",
       "3931  2258        go\n",
       "1508  1432     peopl\n",
       "811   1392   countri\n",
       "3094  1316  american\n",
       "3764  1162   clinton\n",
       "2265  1130   applaus\n",
       "1846  1075   hillari\n",
       "4684  1034       job\n",
       "1811   842       one\n",
       "257    790      want"
      ]
     },
     "execution_count": 11,
     "metadata": {},
     "output_type": "execute_result"
    }
   ],
   "source": [
    "print ('%d unique stemmed words' % len(DT_results))\n",
    "pd.DataFrame(zip(DT_results.values(),DT_results.keys())).sort_values(by = [0], axis=0, ascending=False).head(10)"
   ]
  },
  {
   "cell_type": "markdown",
   "metadata": {},
   "source": [
    "> #### 3.\tTaking the most common words, how many unique words represent half of the total words in the corpus?"
   ]
  },
  {
   "cell_type": "code",
   "execution_count": 12,
   "metadata": {},
   "outputs": [
    {
     "name": "stdout",
     "output_type": "stream",
     "text": [
      "224 unique stemmed words represent the top half of words in the corpus\n"
     ]
    }
   ],
   "source": [
    "x = pd.DataFrame(zip(HC_results.keys(), HC_results.values()))\n",
    "x.columns = ['word', 'counts']\n",
    "x = x.sort_values(['counts'], ascending=[0])\n",
    "x['cum_sum'] = x.counts.cumsum()\n",
    "x['cum_perc'] = x.cum_sum/x.counts.sum()\n",
    "HC_word_results = x\n",
    "HC_word_results_top50 = HC_word_results[HC_word_results['cum_perc'] <= .50]\n",
    "\n",
    "print ('%d unique stemmed words represent the top half of words in the corpus' % len(HC_word_results_top50))"
   ]
  },
  {
   "cell_type": "code",
   "execution_count": 13,
   "metadata": {},
   "outputs": [
    {
     "name": "stdout",
     "output_type": "stream",
     "text": [
      "193 unique stemmed words represent the top half of words in the corpus\n"
     ]
    }
   ],
   "source": [
    "x = pd.DataFrame(zip(DT_results.keys(), DT_results.values()))\n",
    "x.columns = ['word', 'counts']\n",
    "x = x.sort_values(['counts'], ascending=[0])\n",
    "x['cum_sum'] = x.counts.cumsum()\n",
    "x['cum_perc'] = x.cum_sum/x.counts.sum()\n",
    "DT_word_results = x\n",
    "DT_word_results_top50 = DT_word_results[DT_word_results['cum_perc'] <= .50]\n",
    "\n",
    "print ('%d unique stemmed words represent the top half of words in the corpus' % len(DT_word_results_top50))"
   ]
  },
  {
   "cell_type": "markdown",
   "metadata": {},
   "source": [
    "> #### 4. Identify the 200 highest frequency words in this corpus."
   ]
  },
  {
   "cell_type": "code",
   "execution_count": 14,
   "metadata": {
    "collapsed": true
   },
   "outputs": [],
   "source": [
    "HC_word_results_top200 = HC_word_results.head(200)\n",
    "DT_word_results_top200 = DT_word_results.head(200)"
   ]
  },
  {
   "cell_type": "markdown",
   "metadata": {},
   "source": [
    "> #### 5. Create a graph that shows the relative frequency of these 200 words."
   ]
  },
  {
   "cell_type": "code",
   "execution_count": 15,
   "metadata": {},
   "outputs": [
    {
     "data": {
      "text/plain": [
       "<matplotlib.axes._subplots.AxesSubplot at 0x111045c0>"
      ]
     },
     "execution_count": 15,
     "metadata": {},
     "output_type": "execute_result"
    },
    {
     "data": {
      "image/png": "[encoded data removed]",
      "text/plain": [
       "<matplotlib.figure.Figure at 0x1490efd0>"
      ]
     },
     "metadata": {},
     "output_type": "display_data"
    }
   ],
   "source": [
    "import matplotlib.pyplot as plt\n",
    "HC_word_results_top200.plot( x = 'word', y = 'cum_sum')\n",
    "plt.show()"
   ]
  },
  {
   "cell_type": "code",
   "execution_count": 16,
   "metadata": {},
   "outputs": [
    {
     "data": {
      "text/plain": [
       "<matplotlib.axes._subplots.AxesSubplot at 0x12429b00>"
      ]
     },
     "execution_count": 16,
     "metadata": {},
     "output_type": "execute_result"
    },
    {
     "data": {
      "image/png": "[encoded data removed]",
      "text/plain": [
       "<matplotlib.figure.Figure at 0x12825668>"
      ]
     },
     "metadata": {},
     "output_type": "display_data"
    }
   ],
   "source": [
    "DT_word_results_top200.plot( x = 'word', y = 'cum_sum')\n",
    "plt.show()"
   ]
  },
  {
   "cell_type": "code",
   "execution_count": 17,
   "metadata": {},
   "outputs": [
    {
     "name": "stdout",
     "output_type": "stream",
     "text": [
      "Displaying 25 of 367 matches:\n",
      "re in this city and state Now Donald Trump s proposal to ban all Muslims from e\n",
      "he no fly list STEPHANOPOULOS Donald Trump and yesterday Jerry Falwell Jr say t\n",
      "ear about that STEPHANOPOULOS Donald Trump Last few days he s opened up you re \n",
      " dear A new one huh begin video clip TRUMP She ll do a couple of minutes in Iow\n",
      "sing A lot of the others are kind of Trump 2 you know Oh whatever Trump says ma\n",
      "kind of Trump 2 you know Oh whatever Trump says maybe we won t go quite as far \n",
      "publican caucuses just behind Donald Trump and Ted Cruz Ted Cruz won Iowa What \n",
      "y interview this morning with Donald Trump in just a few minutes But we re goin\n",
      "opponent you may face That is Donald Trump You got into a pretty ugly exchange \n",
      "I want to talk about an issue Donald Trump wanted to make an issue in this camp\n",
      "sault What s your response to Donald Trump CLINTON I have no response I m going\n",
      "A I have a few more questions Donald Trump was on The Tonight Show and asked ab\n",
      "are heading home this morning Donald Trump not giving the president any credit \n",
      "d now Senator Grassley shows up at a Trump rally yesterday in Iowa He s the cha\n",
      "t me laughter Even in the case of Mr Trump they give me money because they thin\n",
      "w Hampshire coming on quickly Donald Trump is not going to debate on Fox tomorr\n",
      "ame we dare not speak anymore Donald Trump I mean the fact is Trump started his\n",
      "more Donald Trump I mean the fact is Trump started his sort of initiation in po\n",
      "omehow in fact he used to say things Trump would say things like Nobody knew hi\n",
      "ican Party problem that started with Trump s first arrival on the world stage a\n",
      "in this country laughter Now we have Trump out there and we have Bernie out her\n",
      "ve to work really hard KEILAR Donald Trump is also creating quite a lot of comm\n",
      "It s different certainly than Donald Trump s and crosstalk CLINTON Well he does\n",
      "e to that motto Well we heard Donald Trump s answer last week at his convention\n",
      "t came up with the perfect rebuke to Trump more than 80 years ago during a much\n"
     ]
    }
   ],
   "source": [
    "tokens = RegexpTokenizer(r'\\w+').tokenize(HC_text)\n",
    "text = nltk.Text(tokens)\n",
    "text.concordance(\"Trump\")"
   ]
  },
  {
   "cell_type": "code",
   "execution_count": 18,
   "metadata": {},
   "outputs": [
    {
     "name": "stdout",
     "output_type": "stream",
     "text": [
      "Displaying 25 of 1100 matches:\n",
      " nation But the legacy of the Obama Clinton interventions will be weakness conf\n",
      "a won t even name the enemy Hillary Clinton also refuses to say the words radic\n",
      "ncrease in refugees After Secretary Clinton s failed intervention in Libya Isla\n",
      "of taking charge that night Hillary Clinton decided to go home and sleep Incred\n",
      "ded to go home and sleep Incredible Clinton blames it all on a video an excuse \n",
      " With President Obama and Secretary Clinton we ve had the exact opposite a reck\n",
      "egic foreign policy vision of Obama Clinton it has been a complete and total di\n",
      "ginia All over Ohio because Hillary Clinton made the statement not so long ago \n",
      "ne of the donors of crooked Hillary Clinton doesn t want that to happen even th\n",
      "ince NAFTA NAFTA was signed by Bill Clinton and I believe it s the single worst\n",
      "ew York is a disaster which Hillary Clinton said that she was going to fix OK s\n",
      "his story they talked about Hillary Clinton It was a headline Hillary Clinton a\n",
      "y Clinton It was a headline Hillary Clinton and when she ran for the United Sta\n",
      "lk about dishonesty it s called the Clinton wait it s called the Clinton News N\n",
      "ed the Clinton wait it s called the Clinton News Network CNN Now think of it Cl\n",
      "on News Network CNN Now think of it Clinton is applause She s hardly ever on So\n",
      "ng over the charges against Hillary Clinton one after another after another aft\n",
      " Pennsylvania was caused by Hillary Clinton s and her husband s disastrous trad\n",
      "ng of her corporate funders Hillary Clinton has backed every job killing trade \n",
      "n t want to depress you OK look The Clinton legacy Nearly one in three manufact\n",
      "sound familiar have been lost since Clinton allowed a certain deal with China t\n",
      "rotect our Second Amendment Hillary Clinton wants to kill our second amendment \n",
      "ing in by the thousands and Hillary Clinton you saw those numbers right With th\n",
      "chart it s through the roof Hillary Clinton wants to allow 550 percent more com\n",
      "e his father sitting behind Hillary Clinton with a big smile on his face with a\n"
     ]
    }
   ],
   "source": [
    "tokens = RegexpTokenizer(r'\\w+').tokenize(DT_text)\n",
    "text = nltk.Text(tokens)\n",
    "text.concordance(\"Clinton\")"
   ]
  }
 ],
 "metadata": {
  "kernelspec": {
   "display_name": "Python 2",
   "language": "python",
   "name": "python2"
  },
  "language_info": {
   "codemirror_mode": {
    "name": "ipython",
    "version": 2
   },
   "file_extension": ".py",
   "mimetype": "text/x-python",
   "name": "python",
   "nbconvert_exporter": "python",
   "pygments_lexer": "ipython2",
   "version": "2.7.13"
  }
 },
 "nbformat": 4,
 "nbformat_minor": 2
}
